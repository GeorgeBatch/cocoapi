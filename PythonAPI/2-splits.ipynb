{
 "cells": [
  {
   "cell_type": "markdown",
   "id": "12914989",
   "metadata": {},
   "source": [
    "# Split into train/dev/test\n",
    "\n",
    "1. Split Coco `train2017` into train and validation sets\n",
    "    1. Split into **train** and **dev** sets using 50/50 from each of the disjoint categories\n",
    "    2. Select 20 at random from each of the categories of interest for `train1`\n",
    "    3. Select 100 at ramdom from each of the categories of interest for `dev1`\n",
    "2. Use Coco `val2017` as test set\n",
    "\n",
    "Save image IDs into `.txt` files\n",
    "\n",
    "**Note,** we use balanced `train1` and `dev1` to remove the class imbalance present in **train** and **dev** sets. This is done so that we can solve one problem at a time."
   ]
  },
  {
   "cell_type": "markdown",
   "id": "8ac325f0",
   "metadata": {},
   "source": [
    "## Imports"
   ]
  },
  {
   "cell_type": "code",
   "execution_count": 1,
   "id": "c8a398d5",
   "metadata": {},
   "outputs": [],
   "source": [
    "%matplotlib inline\n",
    "from pycocotools.coco import COCO\n",
    "\n",
    "import json\n",
    "import numpy as np\n",
    "import pandas as pd\n",
    "import skimage.io as io\n",
    "import matplotlib.pyplot as plt\n",
    "import pylab\n",
    "pylab.rcParams['figure.figsize'] = (8.0, 10.0)"
   ]
  },
  {
   "cell_type": "code",
   "execution_count": 2,
   "id": "f03b1fa5",
   "metadata": {},
   "outputs": [
    {
     "name": "stdout",
     "output_type": "stream",
     "text": [
      "/Users/gbatch/Documents/projects/current/cocoapi/PythonAPI/utils\n",
      "['bird', 'cat', 'dog', 'person'] 128 128\n",
      "/Users/gbatch/Documents/projects/current/cocoapi/PythonAPI\n"
     ]
    }
   ],
   "source": [
    "%cd ./utils/\n",
    "from config import CATEGORIES_OF_INTEREST, TRAIN_IMGS_PER_CLASS, DEV_IMGS_PER_CLASS\n",
    "print(CATEGORIES_OF_INTEREST, TRAIN_IMGS_PER_CLASS, DEV_IMGS_PER_CLASS)\n",
    "%cd .."
   ]
  },
  {
   "cell_type": "code",
   "execution_count": null,
   "id": "17622f93",
   "metadata": {},
   "outputs": [],
   "source": []
  },
  {
   "cell_type": "markdown",
   "id": "e3cde205",
   "metadata": {},
   "source": [
    "## Load `strCatNms_to_imgIds` mapping from `train2017` to do (1.A)"
   ]
  },
  {
   "cell_type": "code",
   "execution_count": 3,
   "id": "a20b0032",
   "metadata": {},
   "outputs": [],
   "source": [
    "dataDir='..'\n",
    "dataType='train2017'\n",
    "annFile='{}/annotations/instances_{}.json'.format(dataDir, dataType)"
   ]
  },
  {
   "cell_type": "code",
   "execution_count": 4,
   "id": "633f7055",
   "metadata": {},
   "outputs": [
    {
     "name": "stdout",
     "output_type": "stream",
     "text": [
      "loading annotations into memory...\n",
      "Done (t=7.20s)\n",
      "creating index...\n",
      "index created!\n"
     ]
    }
   ],
   "source": [
    "# initialize COCO api for instance annotations\n",
    "coco=COCO(annFile)"
   ]
  },
  {
   "cell_type": "code",
   "execution_count": 5,
   "id": "a6d2127b",
   "metadata": {},
   "outputs": [
    {
     "data": {
      "text/plain": [
       "{'': 46223,\n",
       " 'bird': 2351,\n",
       " 'bird cat': 63,\n",
       " 'bird cat dog': 4,\n",
       " 'bird cat dog person': 3,\n",
       " 'bird cat person': 3,\n",
       " 'bird dog': 24,\n",
       " 'bird dog person': 36,\n",
       " 'bird person': 753,\n",
       " 'cat': 3199,\n",
       " 'cat dog': 155,\n",
       " 'cat dog person': 46,\n",
       " 'cat person': 641,\n",
       " 'dog': 2153,\n",
       " 'dog person': 1964,\n",
       " 'person': 60669}"
      ]
     },
     "execution_count": 5,
     "metadata": {},
     "output_type": "execute_result"
    }
   ],
   "source": [
    "with open(f'../my_annotations/strCatNms_to_imgIds_{dataType}.json', 'r') as f:\n",
    "    strCatNms_to_imgIds = json.load(f)\n",
    "strCatNms_to_ImgIdsNum = {key: len(value) for (key, value) in strCatNms_to_imgIds.items()}\n",
    "strCatNms_to_ImgIdsNum"
   ]
  },
  {
   "cell_type": "code",
   "execution_count": 6,
   "id": "b950d53f",
   "metadata": {},
   "outputs": [
    {
     "name": "stdout",
     "output_type": "stream",
     "text": [
      " 23111 23112\n",
      "\t [125616, 249356, 137123, 15684, 149598] [358788, 479011, 152038, 35952, 329711]\n",
      "bird 1175 1176\n",
      "\t [351852, 575758, 64300, 412355, 97195] [267710, 372343, 538976, 134328, 470525]\n",
      "bird cat 31 32\n",
      "\t [293757, 569975, 318594, 379620, 236941] [478586, 264476, 467386, 573881, 22907]\n",
      "bird cat dog 2 2\n",
      "\t [456438, 99645] [87456, 108923]\n",
      "bird cat dog person 1 2\n",
      "\t [345434] [392035, 257909]\n",
      "bird cat person 1 2\n",
      "\t [244933] [321861, 173814]\n",
      "bird dog 12 12\n",
      "\t [374564, 367699, 451976, 373346, 105918] [109907, 164114, 389138, 207597, 335581]\n",
      "bird dog person 18 18\n",
      "\t [178431, 39081, 457442, 64233, 16957] [278303, 341892, 26713, 16775, 298360]\n",
      "bird person 376 377\n",
      "\t [135045, 519899, 248793, 303318, 449071] [316658, 490585, 94156, 234600, 357210]\n",
      "cat 1599 1600\n",
      "\t [235700, 207282, 386619, 342244, 39171] [536067, 182903, 493295, 440650, 100586]\n",
      "cat dog 77 78\n",
      "\t [173825, 143824, 316008, 70754, 117108] [333819, 526664, 544760, 506296, 342150]\n",
      "cat dog person 23 23\n",
      "\t [307423, 481212, 427965, 530811, 124122] [566656, 175820, 60539, 448530, 300415]\n",
      "cat person 320 321\n",
      "\t [280866, 29587, 505160, 78771, 456950] [17858, 580706, 151567, 536738, 244768]\n",
      "dog 1076 1077\n",
      "\t [159075, 62710, 400216, 297394, 324937] [365018, 443733, 494884, 269417, 167695]\n",
      "dog person 982 982\n",
      "\t [495357, 290839, 221416, 390291, 337044] [447235, 556149, 22796, 236075, 421108]\n",
      "person 30334 30335\n",
      "\t [418178, 232198, 1756, 283012, 561523] [288633, 100177, 134575, 446557, 100124]\n"
     ]
    }
   ],
   "source": [
    "train_ids = []\n",
    "dev_ids = []\n",
    "\n",
    "\n",
    "for key in strCatNms_to_imgIds:\n",
    "    img_ids = strCatNms_to_imgIds[key].copy()\n",
    "    n = len(img_ids)\n",
    "    \n",
    "    # shuffle, but set seed for reproducibility\n",
    "    np.random.seed(42)\n",
    "    np.random.shuffle(img_ids)\n",
    "    \n",
    "    cutoff = int(n*0.5)\n",
    "    \n",
    "    train_ids_in_this_cat = img_ids[:cutoff]\n",
    "    dev_ids_in_this_cat = img_ids[cutoff:]\n",
    "    \n",
    "    print(key, len(train_ids_in_this_cat), len(dev_ids_in_this_cat))\n",
    "    print('\\t', train_ids_in_this_cat[:5], dev_ids_in_this_cat[:5])\n",
    "    \n",
    "    train_ids.extend(train_ids_in_this_cat)\n",
    "    dev_ids.extend(dev_ids_in_this_cat)"
   ]
  },
  {
   "cell_type": "code",
   "execution_count": 7,
   "id": "46ce2427",
   "metadata": {},
   "outputs": [
    {
     "data": {
      "text/plain": [
       "(59138, 59149)"
      ]
     },
     "execution_count": 7,
     "metadata": {},
     "output_type": "execute_result"
    }
   ],
   "source": [
    "len(train_ids), len(dev_ids)"
   ]
  },
  {
   "cell_type": "code",
   "execution_count": 8,
   "id": "9c93a8fe",
   "metadata": {},
   "outputs": [
    {
     "data": {
      "text/plain": [
       "118287"
      ]
     },
     "execution_count": 8,
     "metadata": {},
     "output_type": "execute_result"
    }
   ],
   "source": [
    "len(train_ids) + len(dev_ids)"
   ]
  },
  {
   "cell_type": "code",
   "execution_count": 9,
   "id": "04b9b291",
   "metadata": {},
   "outputs": [
    {
     "data": {
      "text/plain": [
       "0.499953502920862"
      ]
     },
     "execution_count": 9,
     "metadata": {},
     "output_type": "execute_result"
    }
   ],
   "source": [
    "len(train_ids) / (len(train_ids) + len(dev_ids))"
   ]
  },
  {
   "cell_type": "markdown",
   "id": "592f474e",
   "metadata": {},
   "source": [
    "## For each of the generic categories of interest choose 20 images and put into `train1_ids`"
   ]
  },
  {
   "cell_type": "code",
   "execution_count": 10,
   "id": "b92c28d1",
   "metadata": {},
   "outputs": [
    {
     "data": {
      "text/plain": [
       "128"
      ]
     },
     "execution_count": 10,
     "metadata": {},
     "output_type": "execute_result"
    }
   ],
   "source": [
    "TRAIN_IMGS_PER_CLASS"
   ]
  },
  {
   "cell_type": "code",
   "execution_count": 11,
   "id": "d99159e1",
   "metadata": {
    "scrolled": true
   },
   "outputs": [
    {
     "name": "stdout",
     "output_type": "stream",
     "text": [
      "bird [16] 3237 1616\n",
      "cat [17] 4114 2054\n",
      "dog [18] 4385 2191\n",
      "person [1] 64115 32055\n",
      "512\n",
      "rest [no specific id] 46223 23111\n",
      "640\n"
     ]
    }
   ],
   "source": [
    "train1_ids = []\n",
    "\n",
    "for catNm in CATEGORIES_OF_INTEREST:\n",
    "    catIds = coco.getCatIds(catNms=catNm)\n",
    "    imgIds = coco.getImgIds(catIds=catIds)\n",
    "    train_ids_in_this_cat = set(imgIds).intersection(set(train_ids))\n",
    "    print(catNm, catIds, len(imgIds), len(train_ids_in_this_cat))\n",
    "    \n",
    "    np.random.seed(42)\n",
    "    random_ids = np.random.choice(list(train_ids_in_this_cat), TRAIN_IMGS_PER_CLASS)\n",
    "    \n",
    "    \n",
    "    train1_ids.extend(random_ids)\n",
    "    \n",
    "print(len(train1_ids))\n",
    "\n",
    "\n",
    "# add IMGS_PER_CLASS images the rest\n",
    "rest_ids_all = strCatNms_to_imgIds['']\n",
    "train_ids_rest = set(rest_ids_all).intersection(set(train_ids))\n",
    "\n",
    "np.random.seed(42)\n",
    "random_ids_rest = np.random.choice(list(train_ids_rest), TRAIN_IMGS_PER_CLASS)\n",
    "print('rest', '[no specific id]', len(rest_ids_all), len(train_ids_rest))\n",
    "train1_ids.extend(random_ids_rest)\n",
    "\n",
    "\n",
    "#print(type(train1_ids[0]))\n",
    "train1_ids = np.array(train1_ids).tolist() # make sure to use python native int - makes saving with json possible\n",
    "#print(type(train1_ids[0]))\n",
    "\n",
    "print(len(train1_ids))"
   ]
  },
  {
   "cell_type": "markdown",
   "id": "a5bc6108",
   "metadata": {},
   "source": [
    "## For each of the generic categories of interest choose 100 images and put into `train1_ids`"
   ]
  },
  {
   "cell_type": "code",
   "execution_count": 12,
   "id": "2c0e7435",
   "metadata": {},
   "outputs": [
    {
     "data": {
      "text/plain": [
       "['bird', 'cat', 'dog', 'person']"
      ]
     },
     "execution_count": 12,
     "metadata": {},
     "output_type": "execute_result"
    }
   ],
   "source": [
    "CATEGORIES_OF_INTEREST"
   ]
  },
  {
   "cell_type": "code",
   "execution_count": 13,
   "id": "e2c89032",
   "metadata": {},
   "outputs": [
    {
     "data": {
      "text/plain": [
       "128"
      ]
     },
     "execution_count": 13,
     "metadata": {},
     "output_type": "execute_result"
    }
   ],
   "source": [
    "DEV_IMGS_PER_CLASS"
   ]
  },
  {
   "cell_type": "code",
   "execution_count": 14,
   "id": "96e3de1a",
   "metadata": {
    "scrolled": true
   },
   "outputs": [
    {
     "name": "stdout",
     "output_type": "stream",
     "text": [
      "bird [16] 3237 1621\n",
      "cat [17] 4114 2060\n",
      "dog [18] 4385 2194\n",
      "person [1] 64115 32060\n",
      "512\n",
      "rest [no specific id] 46223 23112\n",
      "640\n"
     ]
    }
   ],
   "source": [
    "dev1_ids = []\n",
    "\n",
    "for catNm in CATEGORIES_OF_INTEREST:\n",
    "    catIds = coco.getCatIds(catNms=catNm)\n",
    "    imgIds = coco.getImgIds(catIds=catIds)\n",
    "    dev_ids_in_this_cat = set(imgIds).intersection(set(dev_ids))\n",
    "    print(catNm, catIds, len(imgIds), len(dev_ids_in_this_cat))\n",
    "    \n",
    "    np.random.seed(42)\n",
    "    random_ids = np.random.choice(list(dev_ids_in_this_cat), DEV_IMGS_PER_CLASS)\n",
    "    \n",
    "    dev1_ids.extend(random_ids)\n",
    "    \n",
    "print(len(dev1_ids))\n",
    "\n",
    "\n",
    "# add IMGS_PER_CLASS images the rest\n",
    "rest_ids_all = strCatNms_to_imgIds['']\n",
    "dev_ids_rest = set(rest_ids_all).intersection(set(dev_ids))\n",
    "\n",
    "np.random.seed(42)\n",
    "random_ids_rest = np.random.choice(list(dev_ids_rest), DEV_IMGS_PER_CLASS)\n",
    "print('rest', '[no specific id]', len(rest_ids_all), len(dev_ids_rest))\n",
    "dev1_ids.extend(random_ids_rest)\n",
    "\n",
    "\n",
    "#print(type(train1_ids[0]))\n",
    "dev1_ids = np.array(dev1_ids).tolist() # make sure to use python native int - makes saving with json possible\n",
    "#print(type(dev1_ids[0]))\n",
    "\n",
    "print(len(dev1_ids))"
   ]
  },
  {
   "cell_type": "code",
   "execution_count": null,
   "id": "645205fa",
   "metadata": {},
   "outputs": [],
   "source": []
  },
  {
   "cell_type": "code",
   "execution_count": 15,
   "id": "9d3c309e",
   "metadata": {},
   "outputs": [
    {
     "name": "stdout",
     "output_type": "stream",
     "text": [
      "dev1_ids.txt    dev_ids.txt     test_ids.txt    train1_ids.txt  train_ids.txt\r\n"
     ]
    }
   ],
   "source": [
    "%ls ../my_splits/"
   ]
  },
  {
   "cell_type": "code",
   "execution_count": null,
   "id": "d0eea105",
   "metadata": {},
   "outputs": [],
   "source": []
  },
  {
   "cell_type": "markdown",
   "id": "25f19442",
   "metadata": {},
   "source": [
    "### Get ids from `val2017` and save them as `test_ids`"
   ]
  },
  {
   "cell_type": "code",
   "execution_count": 16,
   "id": "6d52ac26",
   "metadata": {},
   "outputs": [],
   "source": [
    "dataDir='..'\n",
    "dataType='val2017'\n",
    "annFile='{}/annotations/instances_{}.json'.format(dataDir, dataType)"
   ]
  },
  {
   "cell_type": "code",
   "execution_count": 17,
   "id": "429f78eb",
   "metadata": {},
   "outputs": [
    {
     "name": "stdout",
     "output_type": "stream",
     "text": [
      "loading annotations into memory...\n",
      "Done (t=0.23s)\n",
      "creating index...\n",
      "index created!\n"
     ]
    }
   ],
   "source": [
    "# initialize COCO api for instance annotations\n",
    "coco=COCO(annFile)"
   ]
  },
  {
   "cell_type": "code",
   "execution_count": 18,
   "id": "e129c8de",
   "metadata": {},
   "outputs": [
    {
     "data": {
      "text/plain": [
       "5000"
      ]
     },
     "execution_count": 18,
     "metadata": {},
     "output_type": "execute_result"
    }
   ],
   "source": [
    "len(coco.getImgIds())"
   ]
  },
  {
   "cell_type": "code",
   "execution_count": 19,
   "id": "c103b91e",
   "metadata": {},
   "outputs": [],
   "source": [
    "test_ids = coco.getImgIds()"
   ]
  },
  {
   "cell_type": "markdown",
   "id": "56c61a2c",
   "metadata": {},
   "source": [
    "### Save `train`, `dev`, `train1`, and `test` ids"
   ]
  },
  {
   "cell_type": "code",
   "execution_count": 20,
   "id": "89eeef45",
   "metadata": {},
   "outputs": [],
   "source": [
    "with open('../my_splits/train_ids.txt', 'w') as f:\n",
    "    f.write(json.dumps(train_ids))\n",
    "with open('../my_splits/dev_ids.txt', 'w') as f:\n",
    "    f.write(json.dumps(dev_ids))\n",
    "    \n",
    "with open('../my_splits/train1_ids.txt', 'w') as f:\n",
    "    f.write(json.dumps(train1_ids))\n",
    "with open('../my_splits/dev1_ids.txt', 'w') as f:\n",
    "    f.write(json.dumps(dev1_ids))\n",
    "    \n",
    "with open('../my_splits/test_ids.txt', 'w') as f:\n",
    "    f.write(json.dumps(test_ids))"
   ]
  },
  {
   "cell_type": "code",
   "execution_count": 22,
   "id": "4bb60a18",
   "metadata": {},
   "outputs": [],
   "source": [
    "#Now read the file back into a Python list object\n",
    "with open('../my_splits/train_ids.txt', 'r') as f:\n",
    "    train_ids = json.loads(f.read())\n",
    "with open('../my_splits/dev_ids.txt', 'r') as f:\n",
    "    dev_ids = json.loads(f.read())\n",
    "\n",
    "with open('../my_splits/train1_ids.txt', 'r') as f:\n",
    "    train1_ids = json.loads(f.read())\n",
    "with open('../my_splits/dev1_ids.txt', 'r') as f:\n",
    "    dev1_ids = json.loads(f.read())\n",
    "    \n",
    "with open('../my_splits/test_ids.txt', 'r') as f:\n",
    "    test_ids = json.loads(f.read())"
   ]
  },
  {
   "cell_type": "markdown",
   "id": "fc1fb34e",
   "metadata": {},
   "source": [
    "**Note**, all sets have their annotation files in `../my_annotations/`\n",
    "* train and development set in files with`*_train2017*`\n",
    "* test set in files with `*_val2017*`"
   ]
  },
  {
   "cell_type": "code",
   "execution_count": null,
   "id": "076b2f2b",
   "metadata": {},
   "outputs": [],
   "source": []
  }
 ],
 "metadata": {
  "kernelspec": {
   "display_name": "Python [conda env:standard-dl] *",
   "language": "python",
   "name": "conda-env-standard-dl-py"
  },
  "language_info": {
   "codemirror_mode": {
    "name": "ipython",
    "version": 3
   },
   "file_extension": ".py",
   "mimetype": "text/x-python",
   "name": "python",
   "nbconvert_exporter": "python",
   "pygments_lexer": "ipython3",
   "version": "3.9.4"
  }
 },
 "nbformat": 4,
 "nbformat_minor": 5
}
