{
 "cells": [
  {
   "cell_type": "code",
   "execution_count": 17,
   "id": "Viq8E8apwhxR",
   "metadata": {
    "colab": {
     "base_uri": "https://localhost:8080/"
    },
    "executionInfo": {
     "elapsed": 20891,
     "status": "ok",
     "timestamp": 1623258738227,
     "user": {
      "displayName": "George Batchkala",
      "photoUrl": "https://lh3.googleusercontent.com/a-/AOh14GjDONxhSnrmdSTlEhvc2cJI7El4zBMhqZjcA1cl1A=s64",
      "userId": "05060257197849650568"
     },
     "user_tz": -60
    },
    "id": "Viq8E8apwhxR",
    "outputId": "6569cca2-c559-47c8-9ceb-e6385208f864"
   },
   "outputs": [
    {
     "ename": "ModuleNotFoundError",
     "evalue": "No module named 'google.colab'",
     "output_type": "error",
     "traceback": [
      "\u001b[0;31m---------------------------------------------------------------------------\u001b[0m",
      "\u001b[0;31mModuleNotFoundError\u001b[0m                       Traceback (most recent call last)",
      "\u001b[0;32m<ipython-input-17-d5df0069828e>\u001b[0m in \u001b[0;36m<module>\u001b[0;34m\u001b[0m\n\u001b[0;32m----> 1\u001b[0;31m \u001b[0;32mfrom\u001b[0m \u001b[0mgoogle\u001b[0m\u001b[0;34m.\u001b[0m\u001b[0mcolab\u001b[0m \u001b[0;32mimport\u001b[0m \u001b[0mdrive\u001b[0m\u001b[0;34m\u001b[0m\u001b[0;34m\u001b[0m\u001b[0m\n\u001b[0m\u001b[1;32m      2\u001b[0m \u001b[0mdrive\u001b[0m\u001b[0;34m.\u001b[0m\u001b[0mmount\u001b[0m\u001b[0;34m(\u001b[0m\u001b[0;34m'/content/drive'\u001b[0m\u001b[0;34m)\u001b[0m\u001b[0;34m\u001b[0m\u001b[0;34m\u001b[0m\u001b[0m\n",
      "\u001b[0;31mModuleNotFoundError\u001b[0m: No module named 'google.colab'"
     ]
    }
   ],
   "source": [
    "from google.colab import drive\n",
    "drive.mount('/content/drive')"
   ]
  },
  {
   "cell_type": "code",
   "execution_count": 18,
   "id": "oknkWWV6wltm",
   "metadata": {
    "colab": {
     "base_uri": "https://localhost:8080/"
    },
    "executionInfo": {
     "elapsed": 225,
     "status": "ok",
     "timestamp": 1623258817406,
     "user": {
      "displayName": "George Batchkala",
      "photoUrl": "https://lh3.googleusercontent.com/a-/AOh14GjDONxhSnrmdSTlEhvc2cJI7El4zBMhqZjcA1cl1A=s64",
      "userId": "05060257197849650568"
     },
     "user_tz": -60
    },
    "id": "oknkWWV6wltm",
    "outputId": "e931e45b-6229-48ab-abc8-fc704fd1428f"
   },
   "outputs": [
    {
     "name": "stdout",
     "output_type": "stream",
     "text": [
      "[Errno 2] No such file or directory: 'drive/MyDrive/colab_projects/cocoapi/PythonAPI/'\n",
      "/Users/gbatch/Google Drive/colab_projects/cocoapi/PythonAPI\n"
     ]
    }
   ],
   "source": [
    "%cd drive/MyDrive/colab_projects/cocoapi/PythonAPI/"
   ]
  },
  {
   "cell_type": "markdown",
   "id": "d7126d12",
   "metadata": {
    "id": "d7126d12"
   },
   "source": [
    "A lot of the code is from here:\n",
    "* https://pytorch.org/tutorials/beginner/basics/data_tutorial.html\n",
    "* https://pytorch.org/tutorials/beginner/data_loading_tutorial.html"
   ]
  },
  {
   "cell_type": "code",
   "execution_count": 19,
   "id": "cca2f258",
   "metadata": {
    "executionInfo": {
     "elapsed": 4,
     "status": "ok",
     "timestamp": 1623258782828,
     "user": {
      "displayName": "George Batchkala",
      "photoUrl": "https://lh3.googleusercontent.com/a-/AOh14GjDONxhSnrmdSTlEhvc2cJI7El4zBMhqZjcA1cl1A=s64",
      "userId": "05060257197849650568"
     },
     "user_tz": -60
    },
    "id": "cca2f258"
   },
   "outputs": [],
   "source": [
    "import os\n",
    "\n",
    "import json\n",
    "import numpy as np\n",
    "import pandas as pd\n",
    "import matplotlib.pyplot as plt\n",
    "\n",
    "import torch\n",
    "from torch.utils.data import Dataset\n",
    "from torch.utils.data import DataLoader\n",
    "\n",
    "import torchvision\n",
    "from torchvision import datasets\n",
    "from torchvision.io import read_image\n",
    "from torchvision.transforms import ToTensor"
   ]
  },
  {
   "cell_type": "code",
   "execution_count": 20,
   "id": "1e0fd5c3",
   "metadata": {
    "executionInfo": {
     "elapsed": 205,
     "status": "ok",
     "timestamp": 1623258784449,
     "user": {
      "displayName": "George Batchkala",
      "photoUrl": "https://lh3.googleusercontent.com/a-/AOh14GjDONxhSnrmdSTlEhvc2cJI7El4zBMhqZjcA1cl1A=s64",
      "userId": "05060257197849650568"
     },
     "user_tz": -60
    },
    "id": "1e0fd5c3"
   },
   "outputs": [],
   "source": [
    "simple_transforms = torch.nn.Sequential(\n",
    "    torchvision.transforms.Resize(size=(256, 256)),\n",
    "    torchvision.transforms.Normalize((0.485, 0.456, 0.406), (0.229, 0.224, 0.225)),\n",
    ")"
   ]
  },
  {
   "cell_type": "code",
   "execution_count": 62,
   "id": "faeed268",
   "metadata": {
    "executionInfo": {
     "elapsed": 337,
     "status": "ok",
     "timestamp": 1623258785675,
     "user": {
      "displayName": "George Batchkala",
      "photoUrl": "https://lh3.googleusercontent.com/a-/AOh14GjDONxhSnrmdSTlEhvc2cJI7El4zBMhqZjcA1cl1A=s64",
      "userId": "05060257197849650568"
     },
     "user_tz": -60
    },
    "id": "faeed268"
   },
   "outputs": [],
   "source": [
    "class CocoNoCropping(Dataset):\n",
    "    def __init__(self, img_ids, my_annotations_file, img_dir,\n",
    "                 transform=None, target_transform=None, divide_by_255=False):\n",
    "\n",
    "        # dataDir, dataType, annFile, \n",
    "        # self.coco_datatype = coco_datatype\n",
    "        # self.coco_annotations_file = \n",
    "        \n",
    "        with open(img_ids, 'r') as f:\n",
    "            self.img_ids = json.loads(f.read()) # python list saved as txt IDs as ints\n",
    "        with open(my_annotations_file, 'r') as f:\n",
    "            self.ids_to_labels = json.load(f)   # python dictionary saved as json IDs as strings\n",
    "            \n",
    "        self.img_dir = img_dir\n",
    "        \n",
    "        # target transforms\n",
    "        self.target_transform = target_transform\n",
    "        # image transforms\n",
    "        self.transform = transform\n",
    "        self.divide_by_255 = divide_by_255\n",
    "        \n",
    "\n",
    "    def __len__(self):\n",
    "        return len(self.img_ids)\n",
    "\n",
    "    def __getitem__(self, idx):\n",
    "        img_id = str(self.img_ids[idx])\n",
    "        img_name = (12-len(img_id)) * '0' + img_id + '.jpg'\n",
    "        \n",
    "        img_path = os.path.join(self.img_dir, img_name)\n",
    "        image = read_image(img_path)\n",
    "        \n",
    "        # for b/w images just stack the same channel together 3 times\n",
    "        if image.shape[0] == 1:\n",
    "            image = image.repeat(3, 1, 1)\n",
    "        \n",
    "        if self.divide_by_255:\n",
    "            image = image / 255.0\n",
    "        \n",
    "        label = self.ids_to_labels[img_id]\n",
    "        if self.transform:\n",
    "            image = self.transform(image)\n",
    "            \n",
    "        if self.target_transform:\n",
    "            label = self.target_transform(label)\n",
    "        sample = {\"image\": image, \"label\": label}\n",
    "        return sample"
   ]
  },
  {
   "cell_type": "code",
   "execution_count": 63,
   "id": "9fd5b450",
   "metadata": {},
   "outputs": [
    {
     "name": "stdout",
     "output_type": "stream",
     "text": [
      "torch.Size([3, 437, 583])\n",
      "3\n",
      "torch.Size([437, 583])\n"
     ]
    },
    {
     "data": {
      "text/plain": [
       "torch.Size([3, 437, 583])"
      ]
     },
     "execution_count": 63,
     "metadata": {},
     "output_type": "execute_result"
    }
   ],
   "source": [
    "\n",
    "    \n",
    "# dev1_dataset = CocoNoCropping(\n",
    "#     img_ids = '../my_splits/dev1_ids.txt',\n",
    "#     my_annotations_file = '../my_annotations/imgIds_to_labels_train2017.json',\n",
    "#     img_dir = '../my_images/dev1/',\n",
    "#     transform=simple_transforms,\n",
    "#     divide_by_255=True\n",
    "# )\n",
    "\n",
    "idx=1\n",
    "with open('../my_splits/dev1_ids.txt', 'r') as f:\n",
    "    img_ids = json.loads(f.read())\n",
    "img_dir = '../my_images/dev1/'\n",
    "\n",
    "    \n",
    "img_id = str(img_ids[idx])\n",
    "img_name = (12-len(img_id)) * '0' + img_id + '.jpg'\n",
    "\n",
    "img_path = os.path.join(img_dir, img_name)\n",
    "image = read_image(img_path)\n",
    "\n",
    "print(image.shape)\n",
    "print(image.shape[0])\n",
    "print(image[0].shape)\n",
    "\n",
    "if 1 == 1:\n",
    "    image = torch.stack([image[0], image[0], image[0]], dim=0)\n",
    "    \n",
    "image.shape"
   ]
  },
  {
   "cell_type": "code",
   "execution_count": 22,
   "id": "5c7298a5",
   "metadata": {
    "colab": {
     "base_uri": "https://localhost:8080/"
    },
    "executionInfo": {
     "elapsed": 204,
     "status": "ok",
     "timestamp": 1623258822392,
     "user": {
      "displayName": "George Batchkala",
      "photoUrl": "https://lh3.googleusercontent.com/a-/AOh14GjDONxhSnrmdSTlEhvc2cJI7El4zBMhqZjcA1cl1A=s64",
      "userId": "05060257197849650568"
     },
     "user_tz": -60
    },
    "id": "5c7298a5",
    "outputId": "e152be9d-3238-4718-afb3-6af79eb44c39"
   },
   "outputs": [
    {
     "name": "stdout",
     "output_type": "stream",
     "text": [
      "Icon?           dev_ids.txt     train1_ids.txt\r\n",
      "dev1_ids.txt    test_ids.txt    train_ids.txt\r\n"
     ]
    }
   ],
   "source": [
    "%ls ../my_splits/"
   ]
  },
  {
   "cell_type": "code",
   "execution_count": 23,
   "id": "3cbd0098",
   "metadata": {
    "colab": {
     "base_uri": "https://localhost:8080/"
    },
    "executionInfo": {
     "elapsed": 400,
     "status": "ok",
     "timestamp": 1623258825216,
     "user": {
      "displayName": "George Batchkala",
      "photoUrl": "https://lh3.googleusercontent.com/a-/AOh14GjDONxhSnrmdSTlEhvc2cJI7El4zBMhqZjcA1cl1A=s64",
      "userId": "05060257197849650568"
     },
     "user_tz": -60
    },
    "id": "3cbd0098",
    "outputId": "66bce918-4ece-4817-caaf-69c98ac89313"
   },
   "outputs": [
    {
     "name": "stdout",
     "output_type": "stream",
     "text": [
      "Icon?                               strCatNms_to_imgIds_train2017.json\r\n",
      "imgIds_to_labels_train2017.json     strCatNms_to_imgIds_val2017.json\r\n",
      "imgIds_to_labels_val2017.json\r\n"
     ]
    }
   ],
   "source": [
    "%ls ../my_annotations/"
   ]
  },
  {
   "cell_type": "code",
   "execution_count": 24,
   "id": "e0bb3f76",
   "metadata": {
    "colab": {
     "base_uri": "https://localhost:8080/"
    },
    "executionInfo": {
     "elapsed": 204,
     "status": "ok",
     "timestamp": 1623258826261,
     "user": {
      "displayName": "George Batchkala",
      "photoUrl": "https://lh3.googleusercontent.com/a-/AOh14GjDONxhSnrmdSTlEhvc2cJI7El4zBMhqZjcA1cl1A=s64",
      "userId": "05060257197849650568"
     },
     "user_tz": -60
    },
    "id": "e0bb3f76",
    "outputId": "a7a23a97-de6e-4656-8186-b66f5b489114"
   },
   "outputs": [
    {
     "name": "stdout",
     "output_type": "stream",
     "text": [
      "\u001b[34mtrain2017\u001b[m\u001b[m/ \u001b[34mval2017\u001b[m\u001b[m/\r\n"
     ]
    }
   ],
   "source": [
    "%ls ../images/"
   ]
  },
  {
   "cell_type": "code",
   "execution_count": 25,
   "id": "74b4a7c5",
   "metadata": {
    "executionInfo": {
     "elapsed": 1289,
     "status": "ok",
     "timestamp": 1623258850169,
     "user": {
      "displayName": "George Batchkala",
      "photoUrl": "https://lh3.googleusercontent.com/a-/AOh14GjDONxhSnrmdSTlEhvc2cJI7El4zBMhqZjcA1cl1A=s64",
      "userId": "05060257197849650568"
     },
     "user_tz": -60
    },
    "id": "74b4a7c5"
   },
   "outputs": [],
   "source": [
    "train1_dataset = CocoNoCropping(\n",
    "    img_ids = '../my_splits/train1_ids.txt',\n",
    "    my_annotations_file = '../my_annotations/imgIds_to_labels_train2017.json',\n",
    "    img_dir = '../my_images/train1/',\n",
    "    transform=simple_transforms,\n",
    "    divide_by_255=True\n",
    ")"
   ]
  },
  {
   "cell_type": "code",
   "execution_count": 26,
   "id": "796d1720",
   "metadata": {
    "executionInfo": {
     "elapsed": 206,
     "status": "ok",
     "timestamp": 1623258855623,
     "user": {
      "displayName": "George Batchkala",
      "photoUrl": "https://lh3.googleusercontent.com/a-/AOh14GjDONxhSnrmdSTlEhvc2cJI7El4zBMhqZjcA1cl1A=s64",
      "userId": "05060257197849650568"
     },
     "user_tz": -60
    },
    "id": "796d1720"
   },
   "outputs": [],
   "source": [
    "train1_dataloader = DataLoader(train1_dataset, batch_size=32, shuffle=True)"
   ]
  },
  {
   "cell_type": "code",
   "execution_count": 27,
   "id": "03067a5f",
   "metadata": {
    "colab": {
     "base_uri": "https://localhost:8080/"
    },
    "executionInfo": {
     "elapsed": 12715,
     "status": "ok",
     "timestamp": 1623258870122,
     "user": {
      "displayName": "George Batchkala",
      "photoUrl": "https://lh3.googleusercontent.com/a-/AOh14GjDONxhSnrmdSTlEhvc2cJI7El4zBMhqZjcA1cl1A=s64",
      "userId": "05060257197849650568"
     },
     "user_tz": -60
    },
    "id": "03067a5f",
    "outputId": "2dc67efc-097d-4e5f-a572-8e1f263e725a"
   },
   "outputs": [
    {
     "data": {
      "text/plain": [
       "{'image': tensor([[[[ 1.3457e+00,  1.3412e+00,  1.3552e+00,  ...,  1.1229e+00,\n",
       "             1.1270e+00,  1.1509e+00],\n",
       "           [ 1.3578e+00,  1.3541e+00,  1.3365e+00,  ...,  1.1201e+00,\n",
       "             1.1247e+00,  1.0970e+00],\n",
       "           [ 1.3647e+00,  1.3351e+00,  1.3451e+00,  ...,  1.1296e+00,\n",
       "             1.1262e+00,  1.0897e+00],\n",
       "           ...,\n",
       "           [ 7.2465e-01,  8.0136e-01,  8.0902e-01,  ...,  1.3150e+00,\n",
       "             1.4698e+00,  1.3952e+00],\n",
       "           [ 5.8511e-01,  4.9575e-01,  5.6002e-01,  ...,  1.1399e+00,\n",
       "             1.3945e+00,  1.0495e+00],\n",
       "           [ 3.4991e-01,  3.7774e-01,  5.4083e-01,  ...,  1.3153e+00,\n",
       "             1.1551e+00,  9.2562e-01]],\n",
       " \n",
       "          [[ 1.5927e+00,  1.5881e+00,  1.6024e+00,  ...,  1.3649e+00,\n",
       "             1.3692e+00,  1.3672e+00],\n",
       "           [ 1.6051e+00,  1.6014e+00,  1.5833e+00,  ...,  1.3621e+00,\n",
       "             1.3668e+00,  1.3770e+00],\n",
       "           [ 1.6121e+00,  1.5819e+00,  1.5921e+00,  ...,  1.3718e+00,\n",
       "             1.3684e+00,  1.3981e+00],\n",
       "           ...,\n",
       "           [ 1.0279e+00,  1.1063e+00,  1.1141e+00,  ...,  1.6226e+00,\n",
       "             1.7687e+00,  1.6706e+00],\n",
       "           [ 9.1675e-01,  8.1455e-01,  8.8988e-01,  ...,  1.4174e+00,\n",
       "             1.6777e+00,  1.3407e+00],\n",
       "           [ 7.2139e-01,  6.8740e-01,  8.5744e-01,  ...,  1.5966e+00,\n",
       "             1.4329e+00,  1.2465e+00]],\n",
       " \n",
       "          [[ 1.8776e+00,  1.8730e+00,  1.8873e+00,  ...,  1.6376e+00,\n",
       "             1.6550e+00,  1.6662e+00],\n",
       "           [ 1.8899e+00,  1.8862e+00,  1.8682e+00,  ...,  1.6480e+00,\n",
       "             1.6527e+00,  1.6500e+00],\n",
       "           [ 1.8969e+00,  1.8668e+00,  1.8770e+00,  ...,  1.6577e+00,\n",
       "             1.6542e+00,  1.6592e+00],\n",
       "           ...,\n",
       "           [ 1.4024e+00,  1.4456e+00,  1.4253e+00,  ...,  1.9698e+00,\n",
       "             2.0455e+00,  1.9823e+00],\n",
       "           [ 1.2871e+00,  1.1804e+00,  1.2267e+00,  ...,  1.7640e+00,\n",
       "             2.0040e+00,  1.6909e+00],\n",
       "           [ 1.0765e+00,  1.0634e+00,  1.2327e+00,  ...,  1.9227e+00,\n",
       "             1.7860e+00,  1.6137e+00]]],\n",
       " \n",
       " \n",
       "         [[[-6.3982e-01,  4.7864e-01,  6.6300e-01,  ..., -1.4316e+00,\n",
       "            -1.2039e+00,  3.1114e-01],\n",
       "           [-9.0258e-01, -1.2341e-01,  5.6747e-01,  ..., -1.2156e+00,\n",
       "            -1.0492e+00,  2.7635e-01],\n",
       "           [-6.9227e-01,  1.8323e-01,  2.7796e-01,  ..., -8.4960e-01,\n",
       "            -1.1292e+00,  5.8406e-01],\n",
       "           ...,\n",
       "           [ 1.2669e+00,  1.3445e+00,  1.2621e+00,  ..., -1.8709e+00,\n",
       "            -1.5627e+00, -1.7893e+00],\n",
       "           [ 1.4280e+00,  1.1505e+00,  1.2428e+00,  ..., -1.9148e+00,\n",
       "            -1.8289e+00, -1.7663e+00],\n",
       "           [ 1.4497e+00,  1.3873e+00,  1.2720e+00,  ..., -1.8134e+00,\n",
       "            -1.9863e+00, -1.8246e+00]],\n",
       " \n",
       "          [[-1.1987e+00, -2.0322e-01,  3.5857e-02,  ..., -1.5376e+00,\n",
       "            -1.5414e+00, -6.7345e-01],\n",
       "           [-1.2684e+00, -6.8193e-01, -8.7240e-02,  ..., -1.4960e+00,\n",
       "            -1.4777e+00, -5.3504e-01],\n",
       "           [-1.0641e+00, -3.8924e-01, -3.7829e-01,  ..., -1.2484e+00,\n",
       "            -1.3346e+00,  1.2339e-01],\n",
       "           ...,\n",
       "           [ 6.0812e-01,  7.7033e-01,  8.1847e-01,  ..., -1.7939e+00,\n",
       "            -1.5556e+00, -1.8806e+00],\n",
       "           [ 6.7240e-01,  5.3535e-01,  7.4352e-01,  ..., -1.7931e+00,\n",
       "            -1.7425e+00, -1.7501e+00],\n",
       "           [ 7.9358e-01,  7.0769e-01,  6.4477e-01,  ..., -1.7296e+00,\n",
       "            -1.8792e+00, -1.7181e+00]],\n",
       " \n",
       "          [[-1.1440e+00, -8.1615e-01, -8.5918e-01,  ..., -1.3932e+00,\n",
       "            -1.2099e+00, -8.7607e-01],\n",
       "           [-1.2396e+00, -9.4878e-01, -7.4426e-01,  ..., -1.2532e+00,\n",
       "            -1.1212e+00, -4.9480e-01],\n",
       "           [-9.4469e-01, -6.8898e-01, -8.7580e-01,  ..., -8.8778e-01,\n",
       "            -9.0493e-01,  2.0447e-02],\n",
       "           ...,\n",
       "           [-3.9486e-01, -3.1425e-01, -3.0254e-01,  ..., -1.3349e+00,\n",
       "            -1.1863e+00, -1.5188e+00],\n",
       "           [-1.5167e-01, -3.4175e-01, -3.5265e-01,  ..., -1.3494e+00,\n",
       "            -1.3044e+00, -1.3014e+00],\n",
       "           [ 3.8693e-02, -1.6964e-01, -4.7901e-01,  ..., -1.2159e+00,\n",
       "            -1.3894e+00, -1.2753e+00]]],\n",
       " \n",
       " \n",
       "         [[[-1.7868e+00, -1.7969e+00, -1.7969e+00,  ...,  2.0220e+00,\n",
       "             2.1076e+00,  2.2446e+00],\n",
       "           [-1.7797e+00, -1.7583e+00, -1.7583e+00,  ...,  2.0092e+00,\n",
       "             2.1076e+00,  2.2446e+00],\n",
       "           [-1.7641e+00, -1.7412e+00, -1.7653e+00,  ...,  2.0163e+00,\n",
       "             2.1232e+00,  2.2446e+00],\n",
       "           ...,\n",
       "           [-7.9684e-01, -8.7440e-01, -6.7058e-01,  ..., -2.0808e+00,\n",
       "            -2.0080e+00, -2.0310e+00],\n",
       "           [-7.6062e-01, -7.8645e-01, -6.4561e-01,  ..., -2.1007e+00,\n",
       "            -2.0110e+00, -2.0538e+00],\n",
       "           [-7.2224e-01, -7.8645e-01, -7.5649e-01,  ..., -2.0837e+00,\n",
       "            -2.0408e+00, -2.0751e+00]],\n",
       " \n",
       "          [[-1.3996e+00, -1.4098e+00, -1.4098e+00,  ...,  2.2141e+00,\n",
       "             2.3016e+00,  2.4242e+00],\n",
       "           [-1.4273e+00, -1.4055e+00, -1.4055e+00,  ...,  2.2010e+00,\n",
       "             2.3016e+00,  2.4242e+00],\n",
       "           [-1.4114e+00, -1.3880e+00, -1.4126e+00,  ...,  2.2082e+00,\n",
       "             2.3176e+00,  2.4242e+00],\n",
       "           ...,\n",
       "           [-5.7014e-01, -5.7485e-01, -4.9175e-01,  ..., -2.0066e+00,\n",
       "            -2.0197e+00, -2.0124e+00],\n",
       "           [-5.7814e-01, -4.4716e-01, -4.3854e-01,  ..., -2.0226e+00,\n",
       "            -2.0226e+00, -2.0270e+00],\n",
       "           [-5.4762e-01, -4.9947e-01, -5.2574e-01,  ..., -2.0357e+00,\n",
       "            -2.0357e+00, -2.0313e+00]],\n",
       " \n",
       "          [[-1.0956e+00, -1.1058e+00, -1.1058e+00,  ...,  2.4614e+00,\n",
       "             2.5572e+00,  2.6269e+00],\n",
       "           [-1.1116e+00, -1.0899e+00, -1.0899e+00,  ...,  2.4483e+00,\n",
       "             2.5572e+00,  2.6269e+00],\n",
       "           [-1.1188e+00, -1.0954e+00, -1.1200e+00,  ...,  2.4555e+00,\n",
       "             2.5731e+00,  2.6269e+00],\n",
       "           ...,\n",
       "           [-1.5226e-01, -2.0193e-01, -1.0769e-01,  ..., -1.7711e+00,\n",
       "            -1.7914e+00, -1.7856e+00],\n",
       "           [-1.6150e-01, -8.3448e-02, -3.1313e-02,  ..., -1.7914e+00,\n",
       "            -1.7914e+00, -1.8001e+00],\n",
       "           [-1.0074e-01, -1.1817e-01, -1.0510e-01,  ..., -1.8001e+00,\n",
       "            -1.8044e+00, -1.8001e+00]]],\n",
       " \n",
       " \n",
       "         ...,\n",
       " \n",
       " \n",
       "         [[[-1.0257e+00, -1.0915e+00, -9.7055e-01,  ...,  4.9282e-01,\n",
       "             5.1583e-01,  1.0002e-01],\n",
       "           [-9.9891e-01, -1.0468e+00, -1.0471e+00,  ...,  5.6159e-01,\n",
       "             5.6025e-01,  5.9616e-02],\n",
       "           [-9.4111e-01, -9.8928e-01, -1.0083e+00,  ...,  5.4526e-01,\n",
       "             5.8567e-01,  1.6156e-01],\n",
       "           ...,\n",
       "           [-1.7869e+00, -1.7754e+00, -1.7706e+00,  ..., -1.7061e+00,\n",
       "            -1.6023e+00, -1.5030e+00],\n",
       "           [-1.7754e+00, -1.7741e+00, -1.7754e+00,  ..., -1.6467e+00,\n",
       "            -1.7002e+00, -1.7591e+00],\n",
       "           [-1.8249e+00, -1.7965e+00, -1.8022e+00,  ..., -1.6499e+00,\n",
       "            -1.6448e+00, -1.6333e+00]],\n",
       " \n",
       "          [[-1.4733e+00, -1.4656e+00, -1.5302e+00,  ...,  9.6865e-01,\n",
       "             9.0656e-01,  5.0608e-01],\n",
       "           [-1.4558e+00, -1.4470e+00, -1.4005e+00,  ...,  9.2270e-01,\n",
       "             9.1339e-01,  6.0948e-01],\n",
       "           [-1.4418e+00, -1.3828e+00, -1.3877e+00,  ...,  1.0641e+00,\n",
       "             9.7768e-01,  5.7174e-01],\n",
       "           ...,\n",
       "           [-1.8680e+00, -1.8606e+00, -1.8631e+00,  ..., -1.7570e+00,\n",
       "            -1.6886e+00, -1.6355e+00],\n",
       "           [-1.8431e+00, -1.8431e+00, -1.8606e+00,  ..., -1.7250e+00,\n",
       "            -1.7529e+00, -1.7827e+00],\n",
       "           [-1.8587e+00, -1.8647e+00, -1.8705e+00,  ..., -1.7386e+00,\n",
       "            -1.7329e+00, -1.7154e+00]],\n",
       " \n",
       "          [[-1.7072e+00, -1.6770e+00, -1.7336e+00,  ...,  9.3466e-01,\n",
       "             9.2377e-01,  5.5422e-01],\n",
       "           [-1.7203e+00, -1.6792e+00, -1.6247e+00,  ...,  8.9272e-01,\n",
       "             9.6380e-01,  6.7214e-01],\n",
       "           [-1.6974e+00, -1.6754e+00, -1.7334e+00,  ...,  1.0027e+00,\n",
       "             1.0008e+00,  6.2911e-01],\n",
       "           ...,\n",
       "           [-1.7857e+00, -1.7870e+00, -1.7895e+00,  ..., -1.6421e+00,\n",
       "            -1.6356e+00, -1.6563e+00],\n",
       "           [-1.7347e+00, -1.7375e+00, -1.7870e+00,  ..., -1.6397e+00,\n",
       "            -1.6125e+00, -1.6833e+00],\n",
       "           [-1.7328e+00, -1.7562e+00, -1.7620e+00,  ..., -1.6163e+00,\n",
       "            -1.6331e+00, -1.6522e+00]]],\n",
       " \n",
       " \n",
       "         [[[-1.9704e-01, -2.2692e-01, -2.1272e-01,  ..., -1.4143e+00,\n",
       "            -1.5970e+00, -1.6541e+00],\n",
       "           [-7.5543e-02, -8.4297e-02, -7.5518e-02,  ..., -1.2574e+00,\n",
       "            -1.3770e+00, -1.5269e+00],\n",
       "           [ 1.2153e-01,  9.7678e-02,  1.2004e-01,  ..., -1.2717e+00,\n",
       "            -1.2502e+00, -1.4114e+00],\n",
       "           ...,\n",
       "           [ 2.2983e-02,  9.4266e-02,  1.3117e-01,  ..., -4.8332e-01,\n",
       "            -5.2202e-01, -5.0780e-01],\n",
       "           [ 1.4221e-01,  2.5347e-01,  3.3053e-01,  ..., -6.2801e-01,\n",
       "            -7.2202e-01, -7.2624e-01],\n",
       "           [ 8.1164e-02,  1.7535e-01,  3.5798e-01,  ..., -5.8805e-01,\n",
       "            -7.1076e-01, -7.4643e-01]],\n",
       " \n",
       "          [[-1.0815e+00, -1.0829e+00, -1.0917e+00,  ..., -1.9554e+00,\n",
       "            -2.0050e+00, -2.0313e+00],\n",
       "           [-8.7548e-01, -9.1939e-01, -8.8421e-01,  ..., -1.8126e+00,\n",
       "            -1.8430e+00, -1.9744e+00],\n",
       "           [-5.3380e-01, -6.0506e-01, -5.5288e-01,  ..., -1.8768e+00,\n",
       "            -1.7891e+00, -1.9657e+00],\n",
       "           ...,\n",
       "           [-6.3630e-01, -5.2255e-01, -4.1054e-01,  ..., -1.2547e+00,\n",
       "            -1.2679e+00, -1.2242e+00],\n",
       "           [-4.7803e-01, -2.8559e-01, -1.5419e-01,  ..., -1.3529e+00,\n",
       "            -1.4097e+00, -1.3834e+00],\n",
       "           [-5.4036e-01, -3.6529e-01, -1.2607e-01,  ..., -1.3120e+00,\n",
       "            -1.4069e+00, -1.4039e+00]],\n",
       " \n",
       "          [[-1.2903e+00, -1.3033e+00, -1.3033e+00,  ..., -1.7783e+00,\n",
       "            -1.7609e+00, -1.7943e+00],\n",
       "           [-1.1896e+00, -1.2160e+00, -1.1940e+00,  ..., -1.7740e+00,\n",
       "            -1.8044e+00, -1.7913e+00],\n",
       "           [-7.9998e-01, -8.5632e-01, -8.1313e-01,  ..., -1.7637e+00,\n",
       "            -1.8044e+00, -1.7433e+00],\n",
       "           ...,\n",
       "           [-9.6027e-01, -8.3408e-01, -6.9194e-01,  ..., -1.7285e+00,\n",
       "            -1.7665e+00, -1.7782e+00],\n",
       "           [-8.1140e-01, -5.9364e-01, -4.1499e-01,  ..., -1.8044e+00,\n",
       "            -1.8044e+00, -1.7914e+00],\n",
       "           [-8.7347e-01, -6.7304e-01, -3.8694e-01,  ..., -1.7812e+00,\n",
       "            -1.7986e+00, -1.7855e+00]]],\n",
       " \n",
       " \n",
       "         [[[ 2.1593e+00, -2.1298e-01,  2.3314e-01,  ...,  7.1433e-01,\n",
       "             1.0015e+00,  1.3532e+00],\n",
       "           [ 2.1836e+00, -2.0862e-01,  3.4197e-01,  ...,  1.1503e+00,\n",
       "             1.0072e+00,  1.2450e+00],\n",
       "           [ 2.1214e+00,  2.5820e-01,  3.3795e-02,  ...,  8.7991e-01,\n",
       "             1.1147e+00,  1.4505e+00],\n",
       "           ...,\n",
       "           [ 1.9680e+00,  1.6337e+00, -1.5550e+00,  ...,  1.4494e+00,\n",
       "             1.5918e+00,  1.7080e+00],\n",
       "           [ 1.9678e+00,  1.8556e+00,  5.6400e-01,  ...,  1.3789e+00,\n",
       "             1.3178e+00,  1.6711e+00],\n",
       "           [ 2.0245e+00,  2.0285e+00,  2.0346e+00,  ...,  1.9108e+00,\n",
       "             1.9316e+00,  2.0150e+00]],\n",
       " \n",
       "          [[ 2.3315e+00, -1.7759e-01,  3.2658e-01,  ...,  8.2035e-01,\n",
       "             1.1139e+00,  1.4552e+00],\n",
       "           [ 2.3338e+00, -9.3694e-02,  4.7183e-01,  ...,  1.3059e+00,\n",
       "             1.1306e+00,  1.3180e+00],\n",
       "           [ 2.3157e+00,  3.3925e-01,  1.8755e-01,  ...,  1.0361e+00,\n",
       "             1.2449e+00,  1.5188e+00],\n",
       "           ...,\n",
       "           [ 2.1266e+00,  1.7750e+00, -1.4678e+00,  ...,  1.6009e+00,\n",
       "             1.7201e+00,  1.8439e+00],\n",
       "           [ 2.1405e+00,  2.0404e+00,  7.2584e-01,  ...,  1.5435e+00,\n",
       "             1.4417e+00,  1.8029e+00],\n",
       "           [ 2.1599e+00,  2.1922e+00,  2.2306e+00,  ...,  2.0588e+00,\n",
       "             2.0692e+00,  2.1544e+00]],\n",
       " \n",
       "          [[ 2.4629e+00, -2.0631e-03,  4.6292e-01,  ...,  7.9403e-01,\n",
       "             1.0673e+00,  1.3259e+00],\n",
       "           [ 2.4259e+00,  3.6489e-02,  5.9894e-01,  ...,  1.2161e+00,\n",
       "             1.0452e+00,  1.1676e+00],\n",
       "           [ 2.4014e+00,  4.8432e-01,  3.3929e-01,  ...,  9.8094e-01,\n",
       "             1.1676e+00,  1.3868e+00],\n",
       "           ...,\n",
       "           [ 2.1568e+00,  1.8960e+00, -1.2324e+00,  ...,  1.6216e+00,\n",
       "             1.7223e+00,  1.8379e+00],\n",
       "           [ 2.2160e+00,  2.1825e+00,  9.8218e-01,  ...,  1.5192e+00,\n",
       "             1.4309e+00,  1.7557e+00],\n",
       "           [ 2.2494e+00,  2.2084e+00,  2.1727e+00,  ...,  2.0543e+00,\n",
       "             2.0683e+00,  2.1246e+00]]]]),\n",
       " 'label': [tensor([1, 0, 0, 0, 0, 0, 0, 0, 1, 1, 1, 0, 0, 0, 0, 0, 0, 0, 1, 0, 0, 0, 1, 0,\n",
       "          0, 0, 0, 0, 0, 1, 0, 0]),\n",
       "  tensor([0, 0, 1, 0, 0, 1, 0, 0, 0, 0, 0, 0, 0, 1, 1, 1, 0, 0, 0, 0, 1, 1, 0, 0,\n",
       "          1, 0, 0, 0, 1, 1, 1, 0]),\n",
       "  tensor([0, 0, 0, 1, 1, 0, 1, 0, 0, 0, 0, 0, 1, 1, 0, 0, 0, 1, 0, 1, 1, 0, 0, 0,\n",
       "          0, 1, 1, 1, 0, 0, 0, 0]),\n",
       "  tensor([1, 1, 0, 1, 0, 0, 0, 0, 0, 0, 1, 1, 1, 0, 1, 0, 1, 0, 1, 0, 0, 0, 0, 0,\n",
       "          0, 0, 0, 1, 1, 0, 1, 1])]}"
      ]
     },
     "execution_count": 27,
     "metadata": {},
     "output_type": "execute_result"
    }
   ],
   "source": [
    "next(iter(train1_dataloader))"
   ]
  },
  {
   "cell_type": "code",
   "execution_count": 28,
   "id": "1b8d2bde",
   "metadata": {
    "colab": {
     "base_uri": "https://localhost:8080/"
    },
    "executionInfo": {
     "elapsed": 12070,
     "status": "ok",
     "timestamp": 1623258888964,
     "user": {
      "displayName": "George Batchkala",
      "photoUrl": "https://lh3.googleusercontent.com/a-/AOh14GjDONxhSnrmdSTlEhvc2cJI7El4zBMhqZjcA1cl1A=s64",
      "userId": "05060257197849650568"
     },
     "user_tz": -60
    },
    "id": "1b8d2bde",
    "outputId": "7d183287-9eaa-4f90-b237-4942b44e1802"
   },
   "outputs": [
    {
     "data": {
      "text/plain": [
       "(tensor(-2.1179), tensor(2.6400))"
      ]
     },
     "execution_count": 28,
     "metadata": {},
     "output_type": "execute_result"
    }
   ],
   "source": [
    "next(iter(train1_dataloader))['image'].min(), next(iter(train1_dataloader))['image'].max()"
   ]
  },
  {
   "cell_type": "code",
   "execution_count": 29,
   "id": "d8acee95",
   "metadata": {
    "colab": {
     "base_uri": "https://localhost:8080/"
    },
    "executionInfo": {
     "elapsed": 106591,
     "status": "ok",
     "timestamp": 1623258997345,
     "user": {
      "displayName": "George Batchkala",
      "photoUrl": "https://lh3.googleusercontent.com/a-/AOh14GjDONxhSnrmdSTlEhvc2cJI7El4zBMhqZjcA1cl1A=s64",
      "userId": "05060257197849650568"
     },
     "user_tz": -60
    },
    "id": "d8acee95",
    "outputId": "6013f222-992c-4124-c784-2712deb97d19"
   },
   "outputs": [
    {
     "name": "stdout",
     "output_type": "stream",
     "text": [
      "torch.Size([32, 3, 256, 256]) torch.float32\n",
      "torch.Size([32, 4]) torch.int64 True\n",
      "\n",
      "torch.Size([32, 3, 256, 256]) torch.float32\n",
      "torch.Size([32, 4]) torch.int64 True\n",
      "\n",
      "torch.Size([32, 3, 256, 256]) torch.float32\n",
      "torch.Size([32, 4]) torch.int64 True\n",
      "\n",
      "torch.Size([32, 3, 256, 256]) torch.float32\n",
      "torch.Size([32, 4]) torch.int64 True\n",
      "\n",
      "torch.Size([32, 3, 256, 256]) torch.float32\n",
      "torch.Size([32, 4]) torch.int64 True\n",
      "\n",
      "torch.Size([32, 3, 256, 256]) torch.float32\n",
      "torch.Size([32, 4]) torch.int64 True\n",
      "\n",
      "torch.Size([32, 3, 256, 256]) torch.float32\n",
      "torch.Size([32, 4]) torch.int64 True\n",
      "\n",
      "torch.Size([32, 3, 256, 256]) torch.float32\n",
      "torch.Size([32, 4]) torch.int64 True\n",
      "\n",
      "torch.Size([32, 3, 256, 256]) torch.float32\n",
      "torch.Size([32, 4]) torch.int64 True\n",
      "\n",
      "torch.Size([32, 3, 256, 256]) torch.float32\n",
      "torch.Size([32, 4]) torch.int64 True\n",
      "\n",
      "torch.Size([32, 3, 256, 256]) torch.float32\n",
      "torch.Size([32, 4]) torch.int64 True\n",
      "\n",
      "torch.Size([32, 3, 256, 256]) torch.float32\n",
      "torch.Size([32, 4]) torch.int64 True\n",
      "\n",
      "torch.Size([32, 3, 256, 256]) torch.float32\n",
      "torch.Size([32, 4]) torch.int64 True\n",
      "\n",
      "torch.Size([32, 3, 256, 256]) torch.float32\n",
      "torch.Size([32, 4]) torch.int64 True\n",
      "\n",
      "torch.Size([32, 3, 256, 256]) torch.float32\n",
      "torch.Size([32, 4]) torch.int64 True\n",
      "\n",
      "torch.Size([32, 3, 256, 256]) torch.float32\n",
      "torch.Size([32, 4]) torch.int64 True\n",
      "\n",
      "torch.Size([32, 3, 256, 256]) torch.float32\n",
      "torch.Size([32, 4]) torch.int64 True\n",
      "\n",
      "torch.Size([32, 3, 256, 256]) torch.float32\n",
      "torch.Size([32, 4]) torch.int64 True\n",
      "\n",
      "torch.Size([32, 3, 256, 256]) torch.float32\n",
      "torch.Size([32, 4]) torch.int64 True\n",
      "\n",
      "torch.Size([32, 3, 256, 256]) torch.float32\n",
      "torch.Size([32, 4]) torch.int64 True\n",
      "\n"
     ]
    }
   ],
   "source": [
    "for batch in train1_dataloader:\n",
    "    inputs = batch['image'] # [batch size, channel, h, w]\n",
    "    print(inputs.shape, inputs.dtype)\n",
    "    \n",
    "    # right now, `labels` is a list with num_classes tensors, each tensor with batch-size labels\n",
    "    \n",
    "    labels = torch.vstack(batch['label']).T.contiguous() \n",
    "    print(labels.shape, labels.dtype, labels.is_contiguous()) # labels\n",
    "    print()\n",
    "    #break"
   ]
  },
  {
   "cell_type": "code",
   "execution_count": null,
   "id": "af619b3a",
   "metadata": {
    "id": "af619b3a"
   },
   "outputs": [],
   "source": []
  },
  {
   "cell_type": "code",
   "execution_count": 65,
   "id": "cb280416",
   "metadata": {
    "id": "cb280416"
   },
   "outputs": [],
   "source": [
    "dev1_dataset = CocoNoCropping(\n",
    "    img_ids = '../my_splits/dev1_ids.txt',\n",
    "    my_annotations_file = '../my_annotations/imgIds_to_labels_train2017.json',\n",
    "    img_dir = '../my_images/dev1/',\n",
    "    transform=simple_transforms,\n",
    "    divide_by_255=True\n",
    ")"
   ]
  },
  {
   "cell_type": "code",
   "execution_count": 66,
   "id": "0ba9d7aa",
   "metadata": {},
   "outputs": [],
   "source": [
    "dev1_dataloader = DataLoader(dev1_dataset, batch_size=32, shuffle=True)"
   ]
  },
  {
   "cell_type": "code",
   "execution_count": 67,
   "id": "703a117d",
   "metadata": {},
   "outputs": [
    {
     "name": "stdout",
     "output_type": "stream",
     "text": [
      "torch.Size([32, 3, 256, 256]) torch.float32\n",
      "torch.Size([32, 4]) torch.int64 True\n",
      "\n",
      "torch.Size([32, 3, 256, 256]) torch.float32\n",
      "torch.Size([32, 4]) torch.int64 True\n",
      "\n",
      "torch.Size([32, 3, 256, 256]) torch.float32\n",
      "torch.Size([32, 4]) torch.int64 True\n",
      "\n",
      "torch.Size([32, 3, 256, 256]) torch.float32\n",
      "torch.Size([32, 4]) torch.int64 True\n",
      "\n",
      "torch.Size([32, 3, 256, 256]) torch.float32\n",
      "torch.Size([32, 4]) torch.int64 True\n",
      "\n",
      "torch.Size([32, 3, 256, 256]) torch.float32\n",
      "torch.Size([32, 4]) torch.int64 True\n",
      "\n",
      "torch.Size([32, 3, 256, 256]) torch.float32\n",
      "torch.Size([32, 4]) torch.int64 True\n",
      "\n",
      "torch.Size([32, 3, 256, 256]) torch.float32\n",
      "torch.Size([32, 4]) torch.int64 True\n",
      "\n",
      "torch.Size([32, 3, 256, 256]) torch.float32\n",
      "torch.Size([32, 4]) torch.int64 True\n",
      "\n",
      "torch.Size([32, 3, 256, 256]) torch.float32\n",
      "torch.Size([32, 4]) torch.int64 True\n",
      "\n",
      "torch.Size([32, 3, 256, 256]) torch.float32\n",
      "torch.Size([32, 4]) torch.int64 True\n",
      "\n",
      "torch.Size([32, 3, 256, 256]) torch.float32\n",
      "torch.Size([32, 4]) torch.int64 True\n",
      "\n",
      "torch.Size([32, 3, 256, 256]) torch.float32\n",
      "torch.Size([32, 4]) torch.int64 True\n",
      "\n",
      "torch.Size([32, 3, 256, 256]) torch.float32\n",
      "torch.Size([32, 4]) torch.int64 True\n",
      "\n",
      "torch.Size([32, 3, 256, 256]) torch.float32\n",
      "torch.Size([32, 4]) torch.int64 True\n",
      "\n",
      "torch.Size([32, 3, 256, 256]) torch.float32\n",
      "torch.Size([32, 4]) torch.int64 True\n",
      "\n",
      "torch.Size([32, 3, 256, 256]) torch.float32\n",
      "torch.Size([32, 4]) torch.int64 True\n",
      "\n",
      "torch.Size([32, 3, 256, 256]) torch.float32\n",
      "torch.Size([32, 4]) torch.int64 True\n",
      "\n",
      "torch.Size([32, 3, 256, 256]) torch.float32\n",
      "torch.Size([32, 4]) torch.int64 True\n",
      "\n",
      "torch.Size([32, 3, 256, 256]) torch.float32\n",
      "torch.Size([32, 4]) torch.int64 True\n",
      "\n"
     ]
    }
   ],
   "source": [
    "for batch in dev1_dataloader:\n",
    "    inputs = batch['image'] # [batch size, channel, h, w]\n",
    "    print(inputs.shape, inputs.dtype)\n",
    "    \n",
    "    # right now, `labels` is a list with num_classes tensors, each tensor with batch-size labels\n",
    "    \n",
    "    labels = torch.vstack(batch['label']).T.contiguous() \n",
    "    print(labels.shape, labels.dtype, labels.is_contiguous()) # labels\n",
    "    print()\n",
    "    #break"
   ]
  },
  {
   "cell_type": "code",
   "execution_count": null,
   "id": "7b0ac20f",
   "metadata": {},
   "outputs": [],
   "source": []
  }
 ],
 "metadata": {
  "colab": {
   "collapsed_sections": [],
   "name": "3-pytorch-dataloader.ipynb",
   "provenance": []
  },
  "kernelspec": {
   "display_name": "Python [conda env:standard-dl] *",
   "language": "python",
   "name": "conda-env-standard-dl-py"
  },
  "language_info": {
   "codemirror_mode": {
    "name": "ipython",
    "version": 3
   },
   "file_extension": ".py",
   "mimetype": "text/x-python",
   "name": "python",
   "nbconvert_exporter": "python",
   "pygments_lexer": "ipython3",
   "version": "3.9.4"
  }
 },
 "nbformat": 4,
 "nbformat_minor": 5
}
