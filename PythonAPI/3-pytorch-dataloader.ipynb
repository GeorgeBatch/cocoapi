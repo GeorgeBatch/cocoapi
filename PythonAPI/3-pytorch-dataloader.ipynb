{
 "cells": [
  {
   "cell_type": "code",
   "execution_count": 70,
   "id": "feed021a",
   "metadata": {},
   "outputs": [],
   "source": [
    "import os\n",
    "\n",
    "import json\n",
    "import numpy as np\n",
    "import pandas as pd\n",
    "import matplotlib.pyplot as plt\n",
    "\n",
    "import torch\n",
    "from torch.utils.data import Dataset\n",
    "from torch.utils.data import DataLoader\n",
    "\n",
    "import torchvision\n",
    "from torchvision import datasets\n",
    "from torchvision.io import read_image\n",
    "from torchvision.transforms import ToTensor\n",
    "from torchvision.transforms import ToTensor"
   ]
  },
  {
   "cell_type": "code",
   "execution_count": null,
   "id": "9a2f57d2",
   "metadata": {},
   "outputs": [],
   "source": []
  },
  {
   "cell_type": "code",
   "execution_count": 73,
   "id": "bbf09f73",
   "metadata": {},
   "outputs": [],
   "source": [
    "simple_transforms = torch.nn.Sequential(\n",
    "    torchvision.transforms.Resize(size=(256, 256)),\n",
    "    #transforms.Normalize((0.485, 0.456, 0.406), (0.229, 0.224, 0.225)),\n",
    ")"
   ]
  },
  {
   "cell_type": "code",
   "execution_count": 41,
   "id": "3f92acb8",
   "metadata": {},
   "outputs": [],
   "source": [
    "class CocoNoCropping(Dataset):\n",
    "    def __init__(self, img_ids, my_annotations_file, img_dir,\n",
    "                 transform=None, target_transform=None):\n",
    "\n",
    "        # dataDir, dataType, annFile, \n",
    "        # self.coco_datatype = coco_datatype\n",
    "        # self.coco_annotations_file = \n",
    "        \n",
    "        with open(img_ids, 'r') as f:\n",
    "            self.img_ids = json.loads(f.read()) # python list saved as txt IDs as ints\n",
    "        with open(my_annotations_file, 'r') as f:\n",
    "            self.ids_to_labels = json.load(f)   # python dictionary saved as json IDs as strings\n",
    "            \n",
    "        self.img_dir = img_dir\n",
    "        \n",
    "        self.transform = transform\n",
    "        self.target_transform = target_transform\n",
    "\n",
    "    def __len__(self):\n",
    "        return len(self.img_ids)\n",
    "\n",
    "    def __getitem__(self, idx):\n",
    "        img_id = str(self.img_ids[idx])\n",
    "        img_name = (12-len(img_id)) * '0' + img_id + '.jpg'\n",
    "        \n",
    "        img_path = os.path.join(self.img_dir, img_name)\n",
    "        image = read_image(img_path)\n",
    "        \n",
    "        label = self.ids_to_labels[img_id]\n",
    "        if self.transform:\n",
    "            image = self.transform(image)\n",
    "            \n",
    "        if self.target_transform:\n",
    "            label = self.target_transform(label)\n",
    "        sample = {\"image\": image, \"label\": label}\n",
    "        return sample"
   ]
  },
  {
   "cell_type": "code",
   "execution_count": 42,
   "id": "858ebbf7",
   "metadata": {},
   "outputs": [
    {
     "name": "stdout",
     "output_type": "stream",
     "text": [
      "dev_ids.txt     test_ids.txt    train1_ids.txt  train_ids.txt\r\n"
     ]
    }
   ],
   "source": [
    "%ls ../my_splits/"
   ]
  },
  {
   "cell_type": "code",
   "execution_count": 43,
   "id": "0b49a684",
   "metadata": {},
   "outputs": [
    {
     "name": "stdout",
     "output_type": "stream",
     "text": [
      "imgIds_to_labels_train2017.json     strCatNms_to_imgIds_train2017.json\r\n",
      "imgIds_to_labels_val2017.json       strCatNms_to_imgIds_val2017.json\r\n"
     ]
    }
   ],
   "source": [
    "%ls ../my_annotations/"
   ]
  },
  {
   "cell_type": "code",
   "execution_count": 44,
   "id": "5d802bd8",
   "metadata": {},
   "outputs": [
    {
     "name": "stdout",
     "output_type": "stream",
     "text": [
      "\u001b[34mtrain2017\u001b[m\u001b[m/ \u001b[34mval2017\u001b[m\u001b[m/\r\n"
     ]
    }
   ],
   "source": [
    "%ls ../images/"
   ]
  },
  {
   "cell_type": "code",
   "execution_count": 75,
   "id": "9a2ff4cb",
   "metadata": {},
   "outputs": [],
   "source": [
    "train1_dataset = CocoNoCropping(\n",
    "    img_ids = '../my_splits/train1_ids.txt',\n",
    "    my_annotations_file = '../my_annotations/imgIds_to_labels_train2017.json',\n",
    "    img_dir = '../images/train2017/',\n",
    "    transform=simple_transforms\n",
    ")"
   ]
  },
  {
   "cell_type": "code",
   "execution_count": 84,
   "id": "faac2a73",
   "metadata": {},
   "outputs": [],
   "source": [
    "train1_dataloader = DataLoader(train1_dataset, batch_size=8, shuffle=True)"
   ]
  },
  {
   "cell_type": "code",
   "execution_count": 85,
   "id": "8106d084",
   "metadata": {},
   "outputs": [
    {
     "data": {
      "text/plain": [
       "{'image': tensor([[[[107, 114, 108,  ..., 107, 125, 152],\n",
       "           [104, 106,  95,  ...,  85, 107, 140],\n",
       "           [ 95,  98,  80,  ...,  73,  88, 124],\n",
       "           ...,\n",
       "           [128, 129, 129,  ..., 166, 189, 155],\n",
       "           [132, 136, 132,  ..., 186, 193, 192],\n",
       "           [131, 131, 131,  ..., 192, 188, 192]],\n",
       " \n",
       "          [[123, 131, 125,  ..., 108, 119, 137],\n",
       "           [123, 127, 109,  ...,  87, 102, 125],\n",
       "           [117, 123,  93,  ...,  75,  86, 112],\n",
       "           ...,\n",
       "           [163, 166, 167,  ..., 178, 205, 158],\n",
       "           [170, 172, 173,  ..., 179, 181, 175],\n",
       "           [166, 162, 168,  ..., 179, 176, 175]],\n",
       " \n",
       "          [[ 97,  99,  95,  ..., 100, 116, 141],\n",
       "           [ 94,  90,  80,  ...,  77,  98, 128],\n",
       "           [ 85,  83,  63,  ...,  63,  80, 113],\n",
       "           ...,\n",
       "           [142, 146, 146,  ..., 172, 197, 151],\n",
       "           [152, 156, 155,  ..., 173, 173, 168],\n",
       "           [152, 150, 154,  ..., 174, 167, 169]]],\n",
       " \n",
       " \n",
       "         [[[ 93,  99,  93,  ...,  74,  73,  70],\n",
       "           [ 92, 100,  93,  ...,  75,  71,  70],\n",
       "           [ 93, 102,  94,  ...,  75,  73,  72],\n",
       "           ...,\n",
       "           [  3,   3,  47,  ...,   0,   1,   3],\n",
       "           [  2,  11,  46,  ...,   0,   0,   5],\n",
       "           [  2,  25,  44,  ...,   0,   0,   5]],\n",
       " \n",
       "          [[ 98, 102,  94,  ...,  78,  77,  76],\n",
       "           [ 98, 103,  94,  ...,  79,  77,  76],\n",
       "           [ 99, 104,  95,  ...,  80,  79,  78],\n",
       "           ...,\n",
       "           [  1,   3,  39,  ...,   0,   1,   2],\n",
       "           [  2,  10,  38,  ...,   0,   0,   4],\n",
       "           [  2,  20,  35,  ...,   0,   0,   4]],\n",
       " \n",
       "          [[ 88,  90,  81,  ...,  64,  63,  62],\n",
       "           [ 88,  93,  85,  ...,  65,  63,  62],\n",
       "           [ 90,  94,  88,  ...,  66,  64,  64],\n",
       "           ...,\n",
       "           [  2,   1,  22,  ...,   0,   2,   1],\n",
       "           [  4,   5,  26,  ...,   1,   1,   5],\n",
       "           [  2,  16,  25,  ...,   2,   0,   5]]],\n",
       " \n",
       " \n",
       "         [[[ 75,  34,  41,  ..., 106,  94, 179],\n",
       "           [ 78,  34,  43,  ...,  92,  82, 185],\n",
       "           [ 82,  39,  37,  ..., 103,  93, 182],\n",
       "           ...,\n",
       "           [ 19,  18,  18,  ...,  97,  96, 103],\n",
       "           [ 19,  18,  19,  ...,  99,  96,  99],\n",
       "           [ 17,  18,  19,  ...,  96,  94,  98]],\n",
       " \n",
       "          [[ 27,   9,   9,  ...,  49,  38, 107],\n",
       "           [ 28,   9,  11,  ...,  28,  22, 108],\n",
       "           [ 27,  12,   8,  ...,  33,  26, 102],\n",
       "           ...,\n",
       "           [  7,   6,   6,  ...,  30,  42,  43],\n",
       "           [  8,   6,   7,  ...,  33,  42,  40],\n",
       "           [  6,   6,   7,  ...,  28,  39,  38]],\n",
       " \n",
       "          [[ 20,  10,  11,  ...,  31,  30,  17],\n",
       "           [ 21,  10,  13,  ...,  11,   5,  27],\n",
       "           [ 21,  14,   9,  ...,  17,  10,  26],\n",
       "           ...,\n",
       "           [ 11,  10,  10,  ...,  14,  24,  25],\n",
       "           [ 12,  10,  11,  ...,  12,  24,  23],\n",
       "           [ 10,  10,  11,  ...,   7,  24,  22]]],\n",
       " \n",
       " \n",
       "         ...,\n",
       " \n",
       " \n",
       "         [[[ 36,  33,  35,  ...,   4,   6,   6],\n",
       "           [ 34,  39,  42,  ...,   2,   9,   6],\n",
       "           [ 39,  40,  30,  ...,   4,   5,   4],\n",
       "           ...,\n",
       "           [111, 108,  91,  ...,  72,  91, 102],\n",
       "           [120, 102, 119,  ...,  84,  90,  79],\n",
       "           [ 91,  82,  97,  ...,  85,  98,  86]],\n",
       " \n",
       "          [[ 82,  66,  74,  ...,  12,  13,  14],\n",
       "           [ 63,  71,  67,  ...,   8,  13,  14],\n",
       "           [ 66,  62,  52,  ...,  14,  14,  16],\n",
       "           ...,\n",
       "           [115, 120, 101,  ...,  77,  92,  99],\n",
       "           [124, 115, 130,  ...,  90,  89,  80],\n",
       "           [103,  95, 100,  ...,  92,  98,  93]],\n",
       " \n",
       "          [[  5,  13,  16,  ...,   3,   3,   2],\n",
       "           [ 13,  18,  22,  ...,   1,   5,   5],\n",
       "           [ 18,  13,  13,  ...,   3,   1,   3],\n",
       "           ...,\n",
       "           [113, 113, 112,  ...,  76,  70,  94],\n",
       "           [120, 117, 125,  ...,  88,  84,  74],\n",
       "           [101, 100, 104,  ...,  93,  96,  89]]],\n",
       " \n",
       " \n",
       "         [[[175, 170, 178,  ..., 140, 135, 137],\n",
       "           [180, 177, 188,  ..., 138, 139, 146],\n",
       "           [175, 182, 177,  ..., 144, 130, 140],\n",
       "           ...,\n",
       "           [198, 201, 199,  ..., 182, 180, 183],\n",
       "           [196, 198, 197,  ..., 193, 191, 198],\n",
       "           [186, 191, 196,  ..., 198, 205, 200]],\n",
       " \n",
       "          [[166, 163, 171,  ..., 129, 117, 122],\n",
       "           [173, 171, 182,  ..., 127, 121, 132],\n",
       "           [167, 175, 169,  ..., 134, 113, 127],\n",
       "           ...,\n",
       "           [200, 203, 201,  ..., 181, 174, 176],\n",
       "           [198, 200, 199,  ..., 195, 188, 191],\n",
       "           [187, 193, 199,  ..., 201, 208, 205]],\n",
       " \n",
       "          [[156, 151, 158,  ...,  39,  33,  38],\n",
       "           [162, 159, 169,  ...,  37,  36,  46],\n",
       "           [156, 164, 158,  ...,  43,  26,  37],\n",
       "           ...,\n",
       "           [195, 198, 196,  ..., 169, 163, 163],\n",
       "           [193, 195, 194,  ..., 185, 178, 182],\n",
       "           [182, 188, 192,  ..., 194, 201, 198]]],\n",
       " \n",
       " \n",
       "         [[[164, 175, 161,  ..., 172, 178, 176],\n",
       "           [157, 197, 185,  ..., 174, 182, 182],\n",
       "           [158, 179, 175,  ..., 175, 175, 182],\n",
       "           ...,\n",
       "           [196, 220, 199,  ..., 214, 164, 224],\n",
       "           [185, 175, 222,  ..., 219, 165, 200],\n",
       "           [198, 200, 214,  ..., 209, 200, 185]],\n",
       " \n",
       "          [[126, 138, 120,  ..., 140, 140, 140],\n",
       "           [121, 161, 141,  ..., 143, 144, 140],\n",
       "           [119, 142, 129,  ..., 144, 134, 140],\n",
       "           ...,\n",
       "           [120, 140, 120,  ..., 149,  90, 161],\n",
       "           [106,  94, 145,  ..., 150,  98, 136],\n",
       "           [120, 123, 137,  ..., 137, 134, 117]],\n",
       " \n",
       "          [[117, 137, 115,  ..., 118, 122, 117],\n",
       "           [115, 154, 136,  ..., 119, 123, 121],\n",
       "           [114, 126, 111,  ..., 116, 115, 121],\n",
       "           ...,\n",
       "           [101, 110, 101,  ...,  89,  89, 105],\n",
       "           [ 87,  79, 116,  ..., 100,  84,  88],\n",
       "           [ 95,  92, 103,  ...,  89, 111,  73]]]], dtype=torch.uint8),\n",
       " 'label': [tensor([1, 0, 0, 0, 0, 0, 1, 0]),\n",
       "  tensor([0, 0, 0, 0, 0, 0, 0, 0]),\n",
       "  tensor([0, 0, 0, 0, 0, 1, 0, 1]),\n",
       "  tensor([0, 0, 0, 0, 1, 1, 0, 1])]}"
      ]
     },
     "execution_count": 85,
     "metadata": {},
     "output_type": "execute_result"
    }
   ],
   "source": [
    "next(iter(train1_dataloader))"
   ]
  },
  {
   "cell_type": "code",
   "execution_count": 86,
   "id": "23e56e12",
   "metadata": {},
   "outputs": [
    {
     "name": "stdout",
     "output_type": "stream",
     "text": [
      "torch.Size([8, 3, 256, 256]) torch.uint8\n",
      "[tensor([1, 0, 0, 1, 0, 0, 1, 0]), tensor([0, 0, 0, 0, 0, 0, 0, 0]), tensor([0, 1, 1, 0, 0, 0, 1, 0]), tensor([0, 1, 0, 1, 1, 1, 1, 1])]\n",
      "\n",
      "torch.Size([8, 3, 256, 256]) torch.uint8\n",
      "[tensor([0, 0, 0, 0, 0, 0, 0, 0]), tensor([1, 1, 1, 0, 0, 1, 0, 1]), tensor([0, 0, 0, 1, 0, 0, 0, 0]), tensor([0, 0, 0, 1, 0, 0, 0, 0])]\n",
      "\n",
      "torch.Size([8, 3, 256, 256]) torch.uint8\n",
      "[tensor([0, 0, 1, 0, 1, 0, 0, 0]), tensor([0, 0, 0, 0, 0, 1, 1, 0]), tensor([0, 0, 0, 1, 0, 1, 0, 0]), tensor([0, 0, 0, 1, 0, 0, 0, 0])]\n",
      "\n",
      "torch.Size([8, 3, 256, 256]) torch.uint8\n",
      "[tensor([0, 0, 0, 0, 0, 0, 0, 0]), tensor([0, 0, 0, 0, 0, 0, 0, 0]), tensor([1, 0, 0, 0, 1, 0, 0, 0]), tensor([0, 0, 0, 0, 0, 1, 1, 0])]\n",
      "\n",
      "torch.Size([8, 3, 256, 256]) torch.uint8\n",
      "[tensor([0, 0, 1, 1, 1, 0, 0, 0]), tensor([1, 0, 0, 0, 0, 0, 1, 0]), tensor([0, 0, 0, 0, 0, 1, 0, 1]), tensor([0, 1, 0, 1, 0, 1, 1, 1])]\n",
      "\n",
      "torch.Size([8, 3, 256, 256]) torch.uint8\n",
      "[tensor([0, 0, 1, 0, 0, 0, 0, 0]), tensor([0, 0, 0, 1, 0, 0, 1, 0]), tensor([0, 0, 1, 0, 0, 1, 0, 0]), tensor([1, 0, 1, 0, 1, 0, 0, 0])]\n",
      "\n",
      "torch.Size([8, 3, 256, 256]) torch.uint8\n",
      "[tensor([0, 0, 0, 0, 1, 1, 0, 0]), tensor([0, 0, 0, 0, 0, 0, 0, 0]), tensor([1, 0, 1, 0, 0, 0, 0, 1]), tensor([1, 1, 0, 0, 0, 0, 1, 0])]\n",
      "\n",
      "torch.Size([8, 3, 256, 256]) torch.uint8\n",
      "[tensor([0, 0, 0, 0, 0, 1, 0, 0]), tensor([0, 0, 0, 0, 0, 0, 1, 1]), tensor([1, 1, 1, 0, 0, 0, 0, 0]), tensor([1, 0, 1, 0, 0, 0, 0, 0])]\n",
      "\n",
      "torch.Size([8, 3, 256, 256]) torch.uint8\n",
      "[tensor([1, 0, 0, 0, 0, 0, 0, 0]), tensor([0, 0, 0, 0, 0, 0, 0, 0]), tensor([0, 0, 0, 1, 0, 0, 0, 0]), tensor([0, 0, 0, 1, 0, 1, 1, 1])]\n",
      "\n",
      "torch.Size([8, 3, 256, 256]) torch.uint8\n",
      "[tensor([1, 0, 0, 0, 0, 0, 0, 0]), tensor([0, 0, 1, 0, 0, 1, 0, 0]), tensor([0, 0, 0, 0, 0, 0, 0, 1]), tensor([0, 0, 0, 1, 0, 0, 1, 1])]\n",
      "\n",
      "torch.Size([8, 3, 256, 256]) torch.uint8\n",
      "[tensor([1, 0, 0, 0, 0, 0, 1, 0]), tensor([0, 0, 0, 0, 1, 0, 0, 0]), tensor([0, 0, 1, 0, 0, 1, 0, 0]), tensor([1, 1, 1, 1, 0, 0, 0, 1])]\n",
      "\n",
      "torch.Size([8, 3, 256, 256]) torch.uint8\n",
      "[tensor([1, 1, 1, 0, 0, 1, 0, 0]), tensor([0, 0, 0, 1, 1, 0, 0, 1]), tensor([0, 0, 0, 0, 0, 0, 1, 0]), tensor([0, 0, 1, 0, 1, 1, 0, 0])]\n",
      "\n",
      "torch.Size([4, 3, 256, 256]) torch.uint8\n",
      "[tensor([0, 1, 0, 0]), tensor([0, 0, 1, 0]), tensor([0, 0, 0, 0]), tensor([1, 0, 0, 0])]\n",
      "\n"
     ]
    }
   ],
   "source": [
    "for batch in train1_dataloader:\n",
    "    inputs = batch['image'] # [batch size, channel, h, w]\n",
    "    print(inputs.shape, inputs.dtype)\n",
    "    \n",
    "    labels = batch['label'] # list with num classes tensors, each tensor with batch-size labels\n",
    "    print(labels) #labels.shape, labels.dtype\n",
    "    \n",
    "    print()\n",
    " \n",
    "    #break"
   ]
  },
  {
   "cell_type": "code",
   "execution_count": null,
   "id": "67d9a628",
   "metadata": {},
   "outputs": [],
   "source": []
  },
  {
   "cell_type": "code",
   "execution_count": null,
   "id": "f8135435",
   "metadata": {},
   "outputs": [],
   "source": []
  },
  {
   "cell_type": "code",
   "execution_count": null,
   "id": "dd4b696b",
   "metadata": {},
   "outputs": [],
   "source": []
  },
  {
   "cell_type": "code",
   "execution_count": null,
   "id": "cb20a3a2",
   "metadata": {},
   "outputs": [],
   "source": []
  }
 ],
 "metadata": {
  "kernelspec": {
   "display_name": "Python [conda env:standard-dl] *",
   "language": "python",
   "name": "conda-env-standard-dl-py"
  },
  "language_info": {
   "codemirror_mode": {
    "name": "ipython",
    "version": 3
   },
   "file_extension": ".py",
   "mimetype": "text/x-python",
   "name": "python",
   "nbconvert_exporter": "python",
   "pygments_lexer": "ipython3",
   "version": "3.9.4"
  }
 },
 "nbformat": 4,
 "nbformat_minor": 5
}
