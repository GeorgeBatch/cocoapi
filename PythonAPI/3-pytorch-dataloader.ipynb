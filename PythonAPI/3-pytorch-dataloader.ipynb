{
 "cells": [
  {
   "cell_type": "markdown",
   "id": "d7126d12",
   "metadata": {},
   "source": [
    "A lot of the code is from here:\n",
    "* https://pytorch.org/tutorials/beginner/basics/data_tutorial.html\n",
    "* https://pytorch.org/tutorials/beginner/data_loading_tutorial.html"
   ]
  },
  {
   "cell_type": "code",
   "execution_count": 38,
   "id": "cca2f258",
   "metadata": {},
   "outputs": [],
   "source": [
    "import os\n",
    "\n",
    "import json\n",
    "import numpy as np\n",
    "import pandas as pd\n",
    "import matplotlib.pyplot as plt\n",
    "\n",
    "import torch\n",
    "from torch.utils.data import Dataset\n",
    "from torch.utils.data import DataLoader\n",
    "\n",
    "import torchvision\n",
    "from torchvision import datasets\n",
    "from torchvision.io import read_image\n",
    "from torchvision.transforms import ToTensor"
   ]
  },
  {
   "cell_type": "code",
   "execution_count": 48,
   "id": "1e0fd5c3",
   "metadata": {},
   "outputs": [],
   "source": [
    "simple_transforms = torch.nn.Sequential(\n",
    "    torchvision.transforms.Resize(size=(256, 256)),\n",
    "    torchvision.transforms.Normalize((0.485, 0.456, 0.406), (0.229, 0.224, 0.225)),\n",
    ")"
   ]
  },
  {
   "cell_type": "code",
   "execution_count": 49,
   "id": "faeed268",
   "metadata": {},
   "outputs": [],
   "source": [
    "class CocoNoCropping(Dataset):\n",
    "    def __init__(self, img_ids, my_annotations_file, img_dir,\n",
    "                 transform=None, target_transform=None, divide_by_255=False):\n",
    "\n",
    "        # dataDir, dataType, annFile, \n",
    "        # self.coco_datatype = coco_datatype\n",
    "        # self.coco_annotations_file = \n",
    "        \n",
    "        with open(img_ids, 'r') as f:\n",
    "            self.img_ids = json.loads(f.read()) # python list saved as txt IDs as ints\n",
    "        with open(my_annotations_file, 'r') as f:\n",
    "            self.ids_to_labels = json.load(f)   # python dictionary saved as json IDs as strings\n",
    "            \n",
    "        self.img_dir = img_dir\n",
    "        \n",
    "        # target transforms\n",
    "        self.target_transform = target_transform\n",
    "        # image transforms\n",
    "        self.transform = transform\n",
    "        self.divide_by_255 = divide_by_255\n",
    "        \n",
    "\n",
    "    def __len__(self):\n",
    "        return len(self.img_ids)\n",
    "\n",
    "    def __getitem__(self, idx):\n",
    "        img_id = str(self.img_ids[idx])\n",
    "        img_name = (12-len(img_id)) * '0' + img_id + '.jpg'\n",
    "        \n",
    "        img_path = os.path.join(self.img_dir, img_name)\n",
    "        image = read_image(img_path)\n",
    "        \n",
    "        if self.divide_by_255:\n",
    "            image = image / 255.0\n",
    "        \n",
    "        label = self.ids_to_labels[img_id]\n",
    "        if self.transform:\n",
    "            image = self.transform(image)\n",
    "            \n",
    "        if self.target_transform:\n",
    "            label = self.target_transform(label)\n",
    "        sample = {\"image\": image, \"label\": label}\n",
    "        return sample"
   ]
  },
  {
   "cell_type": "code",
   "execution_count": 50,
   "id": "5c7298a5",
   "metadata": {},
   "outputs": [
    {
     "name": "stdout",
     "output_type": "stream",
     "text": [
      "dev_ids.txt     test_ids.txt    train1_ids.txt  train_ids.txt\r\n"
     ]
    }
   ],
   "source": [
    "%ls ../my_splits/"
   ]
  },
  {
   "cell_type": "code",
   "execution_count": 51,
   "id": "3cbd0098",
   "metadata": {},
   "outputs": [
    {
     "name": "stdout",
     "output_type": "stream",
     "text": [
      "imgIds_to_labels_train2017.json     strCatNms_to_imgIds_train2017.json\r\n",
      "imgIds_to_labels_val2017.json       strCatNms_to_imgIds_val2017.json\r\n"
     ]
    }
   ],
   "source": [
    "%ls ../my_annotations/"
   ]
  },
  {
   "cell_type": "code",
   "execution_count": 52,
   "id": "e0bb3f76",
   "metadata": {},
   "outputs": [
    {
     "name": "stdout",
     "output_type": "stream",
     "text": [
      "\u001b[34mtrain2017\u001b[m\u001b[m/ \u001b[34mval2017\u001b[m\u001b[m/\r\n"
     ]
    }
   ],
   "source": [
    "%ls ../images/"
   ]
  },
  {
   "cell_type": "code",
   "execution_count": 53,
   "id": "74b4a7c5",
   "metadata": {},
   "outputs": [],
   "source": [
    "train1_dataset = CocoNoCropping(\n",
    "    img_ids = '../my_splits/train1_ids.txt',\n",
    "    my_annotations_file = '../my_annotations/imgIds_to_labels_train2017.json',\n",
    "    img_dir = '../images/train2017/',\n",
    "    transform=simple_transforms,\n",
    "    divide_by_255=True\n",
    ")"
   ]
  },
  {
   "cell_type": "code",
   "execution_count": 61,
   "id": "796d1720",
   "metadata": {},
   "outputs": [],
   "source": [
    "train1_dataloader = DataLoader(train1_dataset, batch_size=8, shuffle=True)"
   ]
  },
  {
   "cell_type": "code",
   "execution_count": 62,
   "id": "03067a5f",
   "metadata": {},
   "outputs": [
    {
     "data": {
      "text/plain": [
       "{'image': tensor([[[[ 1.5667,  1.7109,  1.9064,  ..., -0.5681, -0.3712, -0.1928],\n",
       "           [ 1.3752,  1.6708,  1.8592,  ..., -0.6110, -0.4140, -0.2556],\n",
       "           [ 1.1756,  1.5551,  1.7979,  ..., -0.6381, -0.4268, -0.2728],\n",
       "           ...,\n",
       "           [ 0.6294,  0.6422,  0.5908,  ...,  0.1252,  0.0684,  0.0626],\n",
       "           [ 0.5878,  0.5836,  0.5750,  ...,  0.0230,  0.0228,  0.1595],\n",
       "           [ 0.5422,  0.5364,  0.5379,  ..., -0.0472,  0.0898,  0.0727]],\n",
       " \n",
       "          [[ 0.3233,  0.6997,  1.1622,  ..., -1.9832, -2.0313, -2.0284],\n",
       "           [ 0.0690,  0.5418,  1.0015,  ..., -1.9876, -2.0357, -2.0357],\n",
       "           [-0.2548,  0.1957,  0.7474,  ..., -1.9846, -2.0357, -2.0211],\n",
       "           ...,\n",
       "           [-0.1784, -0.1594, -0.1770,  ..., -0.5829, -0.6409, -0.6469],\n",
       "           [-0.2325, -0.1975, -0.1931,  ..., -0.6481, -0.6789, -0.5827],\n",
       "           [-0.2792, -0.2456, -0.2310,  ..., -0.7197, -0.6104, -0.6716]],\n",
       " \n",
       "          [[-0.0674,  0.6530,  1.1817,  ..., -1.7609, -1.6824, -1.6548],\n",
       "           [-0.3017,  0.3258,  1.0797,  ..., -1.7914, -1.6999, -1.6563],\n",
       "           [-0.6225, -0.0113,  0.7322,  ..., -1.7827, -1.7042, -1.6447],\n",
       "           ...,\n",
       "           [-0.6147, -0.5987, -0.6337,  ..., -0.9855, -1.0608, -1.0841],\n",
       "           [-0.6889, -0.6715, -0.6672,  ..., -0.9982, -1.0724, -1.0028],\n",
       "           [-0.7354, -0.7195, -0.7049,  ..., -1.0695, -1.0042, -1.0913]]],\n",
       " \n",
       " \n",
       "         [[[-0.5596, -0.5146, -0.4557,  ...,  0.6274,  0.6970,  0.7419],\n",
       "           [-0.5769, -0.5320, -0.4727,  ...,  0.6635,  0.6970,  0.7176],\n",
       "           [-0.6171, -0.5721, -0.5118,  ...,  0.7468,  0.6970,  0.6614],\n",
       "           ...,\n",
       "           [-0.1352,  0.0363,  0.2696,  ..., -0.6207, -0.6819, -0.7370],\n",
       "           [-0.3118, -0.0665,  0.2676,  ..., -0.6057, -0.6488, -0.6968],\n",
       "           [-0.3883, -0.1111,  0.2667,  ..., -0.5992, -0.6345, -0.6794]],\n",
       " \n",
       "          [[-0.3025, -0.2566, -0.1975,  ...,  1.0116,  1.0969,  1.1506],\n",
       "           [-0.3239, -0.2779, -0.2181,  ...,  1.0347,  1.0847,  1.1150],\n",
       "           [-0.3731, -0.3271, -0.2658,  ...,  1.0881,  1.0565,  1.0329],\n",
       "           ...,\n",
       "           [ 0.1089,  0.2842,  0.5209,  ..., -0.6284, -0.7966, -0.9270],\n",
       "           [-0.1537,  0.0970,  0.4373,  ..., -0.6782, -0.8099, -0.9188],\n",
       "           [-0.2675,  0.0159,  0.4010,  ..., -0.6997, -0.8157, -0.9153]],\n",
       " \n",
       "          [[-0.2707, -0.2249, -0.1628,  ...,  1.2805,  1.3862,  1.4548],\n",
       "           [-0.2778, -0.2320, -0.1699,  ...,  1.2969,  1.3610,  1.4017],\n",
       "           [-0.2941, -0.2483, -0.1863,  ...,  1.3347,  1.3028,  1.2792],\n",
       "           ...,\n",
       "           [-0.1108,  0.0739,  0.3257,  ..., -0.4817, -0.6287, -0.7407],\n",
       "           [-0.3804, -0.1171,  0.2425,  ..., -0.5716, -0.6920, -0.7897],\n",
       "           [-0.4973, -0.1999,  0.2064,  ..., -0.6105, -0.7195, -0.8110]]],\n",
       " \n",
       " \n",
       "         [[[-1.3657, -1.3759, -1.2618,  ..., -1.7156, -1.6555, -1.6598],\n",
       "           [-1.3136, -1.3217, -1.1847,  ..., -1.6641, -1.7282, -1.6385],\n",
       "           [-1.4447, -1.2379, -1.1535,  ..., -1.7126, -1.6912, -1.7475],\n",
       "           ...,\n",
       "           [-1.5917, -1.2745, -1.5373,  ..., -2.0664, -1.9668, -1.9866],\n",
       "           [-1.3848, -1.1247, -1.4496,  ..., -2.0107, -2.0323, -1.9726],\n",
       "           [-1.1876, -1.0889, -1.3073,  ..., -1.9995, -2.0437, -2.0452]],\n",
       " \n",
       "          [[-1.3209, -1.2391, -1.2303,  ..., -1.6273, -1.6798, -1.6928],\n",
       "           [-1.2655, -1.2306, -1.1869,  ..., -1.5850, -1.6157, -1.6683],\n",
       "           [-1.2569, -1.1968, -1.1400,  ..., -1.5790, -1.6372, -1.6416],\n",
       "           ...,\n",
       "           [-1.4112, -1.2243, -1.3560,  ..., -1.9570, -1.9337, -1.9584],\n",
       "           [-1.2168, -1.0507, -1.1775,  ..., -1.9393, -2.0049, -1.8959],\n",
       "           [-1.1649, -0.9809, -1.0757,  ..., -1.9322, -1.9599, -1.9701]],\n",
       " \n",
       "          [[-1.4733, -1.3526, -1.3529,  ..., -1.5691, -1.5997, -1.6128],\n",
       "           [-1.3821, -1.4079, -1.2380,  ..., -1.5649, -1.5475, -1.5519],\n",
       "           [-1.4339, -1.3703, -1.3688,  ..., -1.5023, -1.5312, -1.6631],\n",
       "           ...,\n",
       "           [-1.3207, -1.1907, -1.3116,  ..., -1.7739, -1.7247, -1.7669],\n",
       "           [-1.3332, -1.1856, -1.2420,  ..., -1.7434, -1.7913, -1.7390],\n",
       "           [-1.2134, -1.1072, -1.1319,  ..., -1.7711, -1.7638, -1.7260]]],\n",
       " \n",
       " \n",
       "         ...,\n",
       " \n",
       " \n",
       "         [[[ 1.7823,  1.7994,  1.8293,  ..., -0.3409, -0.0842,  0.0855],\n",
       "           [ 1.7652,  1.8037,  1.8165,  ...,  0.0742,  0.0869,  0.1425],\n",
       "           [ 1.7980,  1.8037,  1.8294,  ...,  0.0953,  0.1083,  0.1097],\n",
       "           ...,\n",
       "           [-0.5033, -0.6570, -0.3909,  ..., -0.6178, -0.6510, -0.6536],\n",
       "           [-0.1404, -0.1061, -0.0973,  ..., -0.5555, -0.6879, -0.7820],\n",
       "           [-0.1158, -0.0901, -0.0387,  ..., -0.6052, -0.6452, -0.7551]],\n",
       " \n",
       "          [[ 1.9690,  1.9865,  2.0171,  ..., -0.7939, -0.6263, -0.5607],\n",
       "           [ 1.9515,  1.9909,  2.0040,  ..., -0.5125, -0.4863, -0.4601],\n",
       "           [ 1.9851,  1.9909,  2.0172,  ..., -0.4498, -0.4601, -0.4631],\n",
       "           ...,\n",
       "           [-0.4750, -0.9678, -0.8341,  ..., -0.7721, -0.7476, -0.7531],\n",
       "           [-0.1935, -0.1323, -0.1106,  ..., -0.7141, -0.7926, -0.9063],\n",
       "           [-0.1683, -0.1391, -0.1085,  ..., -0.7650, -0.7489, -0.8817]],\n",
       " \n",
       "          [[ 2.0953,  2.1128,  2.1433,  ..., -0.9124, -0.7397, -0.7412],\n",
       "           [ 2.0780,  2.1171,  2.1302,  ..., -0.6715, -0.6846, -0.6541],\n",
       "           [ 2.1114,  2.1171,  2.1433,  ..., -0.6803, -0.6890, -0.6614],\n",
       "           ...,\n",
       "           [-0.4116, -0.8523, -0.6896,  ..., -0.8562, -0.8345, -0.7558],\n",
       "           [-0.1057, -0.0579, -0.0880,  ..., -0.7892, -0.8327, -0.9022],\n",
       "           [-0.0993, -0.0528, -0.0427,  ..., -0.8662, -0.7718, -0.8517]]],\n",
       " \n",
       " \n",
       "         [[[ 0.0719,  0.0044, -0.7194,  ..., -1.7347, -1.7031, -1.7657],\n",
       "           [ 0.1417, -0.0226, -0.0112,  ..., -1.8343, -1.7001, -1.7708],\n",
       "           [ 0.1320,  0.1196,  0.0057,  ..., -1.8662, -1.7147, -1.7519],\n",
       "           ...,\n",
       "           [-0.4168, -0.4815, -0.4062,  ..., -2.0548, -2.0791, -2.0806],\n",
       "           [-0.3980, -0.4668, -0.5075,  ..., -2.0494, -2.0524, -2.0592],\n",
       "           [-0.6365, -0.5984, -0.5315,  ..., -2.0665, -2.0665, -2.0859]],\n",
       " \n",
       "          [[-0.5567, -0.6629, -1.1051,  ..., -1.7868, -1.8051, -1.8486],\n",
       "           [-0.5547, -0.6486, -0.6374,  ..., -1.8683, -1.7692, -1.8234],\n",
       "           [-0.5659, -0.6024, -0.6171,  ..., -1.9251, -1.7645, -1.7997],\n",
       "           ...,\n",
       "           [-0.8668, -0.9088, -0.8954,  ..., -2.0098, -2.0204, -1.9976],\n",
       "           [-0.9008, -0.8545, -0.9053,  ..., -1.9944, -1.9915, -2.0107],\n",
       "           [-1.0617, -1.0212, -0.9098,  ..., -2.0182, -2.0182, -2.0112]],\n",
       " \n",
       "          [[-0.7701, -0.7614, -1.1313,  ..., -1.5676, -1.5610, -1.6196],\n",
       "           [-0.7214, -0.7521, -0.7893,  ..., -1.4984, -1.4824, -1.5244],\n",
       "           [-0.6777, -0.7608, -0.8147,  ..., -1.6704, -1.5253, -1.5951],\n",
       "           ...,\n",
       "           [-0.9477, -1.1264, -1.0495,  ..., -1.7612, -1.7771, -1.7499],\n",
       "           [-0.9883, -1.2974, -1.2134,  ..., -1.7647, -1.7795, -1.7621],\n",
       "           [-1.1027, -1.2894, -1.3785,  ..., -1.7696, -1.7696, -1.7760]]],\n",
       " \n",
       " \n",
       "         [[[-0.5343, -0.4950, -0.4906,  ...,  0.3798,  0.4333,  0.4239],\n",
       "           [-0.3507, -0.3012, -0.3257,  ...,  0.4299,  0.3579,  0.3677],\n",
       "           [-0.3069, -0.3512, -0.3047,  ...,  0.4333,  0.4373,  0.4130],\n",
       "           ...,\n",
       "           [ 0.4811,  0.4328,  0.3138,  ...,  0.5189,  0.2541,  0.3155],\n",
       "           [ 0.3761,  0.3316,  0.3792,  ...,  0.5109,  0.2990,  0.3516],\n",
       "           [ 0.3667,  0.3942,  0.3923,  ...,  0.3526,  0.2862,  0.3554]],\n",
       " \n",
       "          [[-0.9069, -0.8683, -0.8881,  ...,  0.0626,  0.1002,  0.0902],\n",
       "           [-0.7207, -0.6862, -0.7112,  ...,  0.0963,  0.0386,  0.0502],\n",
       "           [-0.6920, -0.7365, -0.6814,  ...,  0.0997,  0.1198,  0.0965],\n",
       "           ...,\n",
       "           [ 0.2587,  0.1845, -0.0049,  ...,  0.2720, -0.0150,  0.0394],\n",
       "           [ 0.1783,  0.0979,  0.1420,  ...,  0.2758,  0.0052,  0.0673],\n",
       "           [ 0.1717,  0.1648,  0.1629,  ...,  0.1139, -0.0081,  0.0727]],\n",
       " \n",
       "          [[-0.9247, -0.8862, -0.8810,  ..., -0.0118,  0.0257,  0.0157],\n",
       "           [-0.7423, -0.7079, -0.7328,  ...,  0.0218, -0.0356, -0.0241],\n",
       "           [-0.7748, -0.8269, -0.7948,  ...,  0.0252,  0.0604,  0.0386],\n",
       "           ...,\n",
       "           [ 0.1835,  0.0998, -0.0790,  ...,  0.1144, -0.1489, -0.0955],\n",
       "           [ 0.1353,  0.0191,  0.0354,  ...,  0.1293, -0.1557, -0.1231],\n",
       "           [ 0.1317,  0.0870,  0.0532,  ..., -0.0304, -0.1723, -0.1237]]]]),\n",
       " 'label': [tensor([0, 1, 0, 0, 0, 0, 0, 0]),\n",
       "  tensor([0, 1, 0, 0, 1, 1, 0, 0]),\n",
       "  tensor([0, 0, 0, 1, 0, 0, 0, 0]),\n",
       "  tensor([0, 0, 1, 0, 0, 0, 0, 0])]}"
      ]
     },
     "execution_count": 62,
     "metadata": {},
     "output_type": "execute_result"
    }
   ],
   "source": [
    "next(iter(train1_dataloader))"
   ]
  },
  {
   "cell_type": "code",
   "execution_count": 65,
   "id": "1b8d2bde",
   "metadata": {},
   "outputs": [
    {
     "data": {
      "text/plain": [
       "(tensor(-2.1179), tensor(2.6400))"
      ]
     },
     "execution_count": 65,
     "metadata": {},
     "output_type": "execute_result"
    }
   ],
   "source": [
    "next(iter(train1_dataloader))['image'].min(), next(iter(train1_dataloader))['image'].max()"
   ]
  },
  {
   "cell_type": "code",
   "execution_count": 66,
   "id": "d8acee95",
   "metadata": {},
   "outputs": [
    {
     "name": "stdout",
     "output_type": "stream",
     "text": [
      "torch.Size([8, 3, 256, 256]) torch.float32\n",
      "torch.Size([8, 4]) torch.int64 True\n",
      "\n",
      "torch.Size([8, 3, 256, 256]) torch.float32\n",
      "torch.Size([8, 4]) torch.int64 True\n",
      "\n",
      "torch.Size([8, 3, 256, 256]) torch.float32\n",
      "torch.Size([8, 4]) torch.int64 True\n",
      "\n",
      "torch.Size([8, 3, 256, 256]) torch.float32\n",
      "torch.Size([8, 4]) torch.int64 True\n",
      "\n",
      "torch.Size([8, 3, 256, 256]) torch.float32\n",
      "torch.Size([8, 4]) torch.int64 True\n",
      "\n",
      "torch.Size([8, 3, 256, 256]) torch.float32\n",
      "torch.Size([8, 4]) torch.int64 True\n",
      "\n",
      "torch.Size([8, 3, 256, 256]) torch.float32\n",
      "torch.Size([8, 4]) torch.int64 True\n",
      "\n",
      "torch.Size([8, 3, 256, 256]) torch.float32\n",
      "torch.Size([8, 4]) torch.int64 True\n",
      "\n",
      "torch.Size([8, 3, 256, 256]) torch.float32\n",
      "torch.Size([8, 4]) torch.int64 True\n",
      "\n",
      "torch.Size([8, 3, 256, 256]) torch.float32\n",
      "torch.Size([8, 4]) torch.int64 True\n",
      "\n",
      "torch.Size([8, 3, 256, 256]) torch.float32\n",
      "torch.Size([8, 4]) torch.int64 True\n",
      "\n",
      "torch.Size([8, 3, 256, 256]) torch.float32\n",
      "torch.Size([8, 4]) torch.int64 True\n",
      "\n",
      "torch.Size([4, 3, 256, 256]) torch.float32\n",
      "torch.Size([4, 4]) torch.int64 True\n",
      "\n"
     ]
    }
   ],
   "source": [
    "for batch in train1_dataloader:\n",
    "    inputs = batch['image'] # [batch size, channel, h, w]\n",
    "    print(inputs.shape, inputs.dtype)\n",
    "    \n",
    "    # right now, `labels` is a list with num_classes tensors, each tensor with batch-size labels\n",
    "    \n",
    "    labels = torch.vstack(batch['label']).T.contiguous() \n",
    "    print(labels.shape, labels.dtype, labels.is_contiguous()) # labels\n",
    "    print()\n",
    "    #break"
   ]
  },
  {
   "cell_type": "code",
   "execution_count": null,
   "id": "af619b3a",
   "metadata": {},
   "outputs": [],
   "source": []
  },
  {
   "cell_type": "code",
   "execution_count": null,
   "id": "cb280416",
   "metadata": {},
   "outputs": [],
   "source": []
  }
 ],
 "metadata": {
  "kernelspec": {
   "display_name": "Python [conda env:standard-dl] *",
   "language": "python",
   "name": "conda-env-standard-dl-py"
  },
  "language_info": {
   "codemirror_mode": {
    "name": "ipython",
    "version": 3
   },
   "file_extension": ".py",
   "mimetype": "text/x-python",
   "name": "python",
   "nbconvert_exporter": "python",
   "pygments_lexer": "ipython3",
   "version": "3.9.4"
  }
 },
 "nbformat": 4,
 "nbformat_minor": 5
}
