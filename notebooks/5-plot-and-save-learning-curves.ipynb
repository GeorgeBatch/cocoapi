{
 "cells": [
  {
   "cell_type": "markdown",
   "id": "d8b8792d",
   "metadata": {},
   "source": [
    "# Learning Curves and Results"
   ]
  },
  {
   "cell_type": "code",
   "execution_count": 1,
   "id": "a2a26f0e",
   "metadata": {},
   "outputs": [],
   "source": [
    "import os\n",
    "import copy\n",
    "\n",
    "import json\n",
    "import numpy as np\n",
    "import pandas as pd\n",
    "import matplotlib.pyplot as plt\n",
    "\n",
    "import torch\n",
    "from torch.utils.data import Dataset\n",
    "from torch.utils.data import DataLoader\n",
    "\n",
    "import torchvision\n",
    "from torchvision.io import read_image\n",
    "from torchvision import datasets, models, transforms\n",
    "\n",
    "from tqdm.notebook import trange, tqdm"
   ]
  },
  {
   "cell_type": "markdown",
   "id": "b5dd65b5",
   "metadata": {},
   "source": [
    "## All"
   ]
  },
  {
   "cell_type": "markdown",
   "id": "1f38ccde",
   "metadata": {},
   "source": [
    "### baseline-2021-06-09\n",
    "\n",
    "* SGD(lr=1e-3, **momentum=0.9**)\n",
    "* SGD(lr=1e-4, **momentum=0.9**)\n",
    "\n",
    "**Note, by default, momentum=0**\n",
    "\n",
    "#### Results\n",
    "\n",
    "* Bayes acc: 1.0\n",
    "* Train acc: 0.997\n",
    "* Dev acc:   0.861\n",
    "\n",
    "#### Bias-Varience\n",
    "\n",
    "* Bias:      0.00273\n",
    "* Variance:  0.136\n",
    "\n",
    "**Bias.** Bias is very low, no need to do anything here.\n",
    "\n",
    "**Variance.** Need to reduce variance, model is overfitting to the train set.\n",
    "\n",
    "#### Next Step\n",
    "\n",
    "Try Adam Optimizer with default momentum parameters, same lr schedule."
   ]
  },
  {
   "cell_type": "markdown",
   "id": "a97951f7",
   "metadata": {},
   "source": [
    "### baseline-Adam-2021-06-11\n",
    "\n",
    "#### Results\n",
    "\n",
    "* Bayes acc: 1.0\n",
    "* Train acc: 0.998\n",
    "* Dev acc:   0.87\n",
    "\n",
    "#### Bias-Varience\n",
    "\n",
    "* Bias:      0.00156\n",
    "* Variance:  0.129\n",
    "\n",
    "**Bias.** Bias is very low, no need to do anything here.\n",
    "\n",
    "**Variance.** Need to reduce variance, model is overfitting to the train set.\n",
    "\n",
    "#### Next Step\n",
    "\n",
    "Introduce L2 regularisation: weight_decay=1e-08\n",
    "\n"
   ]
  },
  {
   "cell_type": "markdown",
   "id": "dbe36549",
   "metadata": {},
   "source": [
    "### Adam_wd=1e-08_2021-06-11\n",
    "\n",
    "#### Results\n",
    "\n",
    "* Bayes acc: 1.0\n",
    "* Train acc: 0.998\n",
    "* Dev acc:   0.867\n",
    "\n",
    "#### Bias-Varience\n",
    "\n",
    "* Bias:      0.00156\n",
    "* Variance:  0.132\n",
    "\n",
    "**Bias.** Bias is very low, no need to do anything here.\n",
    "\n",
    "**Variance.** Need to reduce variance, model is overfitting to the train set.\n",
    "\n",
    "#### Next Step\n",
    "\n",
    "Increase L2 regularisation: weight_decay=1e-04"
   ]
  },
  {
   "cell_type": "markdown",
   "id": "62d91e53",
   "metadata": {},
   "source": [
    "### Adam_wd=0.0001_2021-06-11\n",
    "\n",
    "#### Results\n",
    "\n",
    "\n",
    "* Bayes acc: 1.0\n",
    "* Train acc: 0.998\n",
    "* Dev acc:   0.869\n",
    "\n",
    "#### Bias-Varience\n",
    "\n",
    "* Bias:      0.00156\n",
    "* Variance:  0.13\n",
    "\n",
    "**Bias.** Bias is very low, no need to do anything here.\n",
    "\n",
    "**Variance.** Need to reduce variance, model is overfitting to the train set.\n",
    "\n",
    "#### Next Step\n",
    "\n",
    "Increase L2 regularisation: weight_decay=1e-02"
   ]
  },
  {
   "cell_type": "markdown",
   "id": "cb3b9aaa",
   "metadata": {},
   "source": [
    "### Adam_wd=0.01_2021-06-11\n",
    "\n",
    "#### Results\n",
    "\n",
    "* Bayes acc: 1.0\n",
    "* Train acc: 0.997\n",
    "* Dev acc:   0.869\n",
    "\n",
    "#### Bias-Varience\n",
    "\n",
    "* Bias:      0.00312\n",
    "* Variance:  0.128\n",
    "\n",
    "#### Bias-Varience\n",
    "\n",
    "**Bias.** Bias is very low, no need to do anything here.\n",
    "\n",
    "**Variance.** Need to reduce variance, model is overfitting to the train set.\n",
    "\n",
    "#### Next Step\n",
    "\n",
    "Increase L2 regularisation: weight_decay=1"
   ]
  },
  {
   "cell_type": "markdown",
   "id": "7a566b55",
   "metadata": {},
   "source": [
    "### Adam_wd=1_2021-06-11\n",
    "\n",
    "#### Results\n",
    "\n",
    "* Bayes acc: 1.0\n",
    "* Train acc: 0.996\n",
    "* Dev acc:   0.865\n",
    "\n",
    "#### Bias-Varience\n",
    "\n",
    "* Bias:      0.00352\n",
    "* Variance:  0.131\n",
    "\n",
    "**Bias.** Bias is very low, no need to do anything here.\n",
    "\n",
    "**Variance.** Need to reduce variance, model is overfitting to the train set.\n",
    "\n",
    "#### Next Step\n",
    "\n",
    "Increase L2 regularisation: weight_decay=10"
   ]
  },
  {
   "cell_type": "markdown",
   "id": "6a1fcb46",
   "metadata": {},
   "source": [
    "### Adam_wd=10_2021-06-11\n",
    "\n",
    "#### Results\n",
    "\n",
    "* Bayes acc: 1.0\n",
    "* Train acc: 0.939\n",
    "* Dev acc:   0.857\n",
    "\n",
    "**Train acc.** Significant drop in performance.\n",
    "\n",
    "**Dev acc.** Marginal drop in performance.\n",
    "\n",
    "**Overall.** Weight decay only hurts the train set performance, marginal (negative) effect on the dev set performance.\n",
    "\n",
    "#### Bias-Varience\n",
    "\n",
    "* Bias:      0.0605\n",
    "* Variance:  0.082\n",
    "\n",
    "**Bias.** Bias increased significantly - maybe we started to underfit\n",
    "\n",
    "**Variance.** Variance Decreased, but only due to increase in bias.\n",
    "\n",
    "**Overall.** Weight decay does not seem to help at all.\n",
    "\n",
    "#### Next Step\n",
    "\n",
    "Increase L2 regularisation: weight_decay=100"
   ]
  },
  {
   "cell_type": "markdown",
   "id": "348c4311",
   "metadata": {},
   "source": [
    "### Adam_wd=100_2021-06-11\n",
    "\n",
    "#### Results\n",
    "\n",
    "* Bayes acc: 1.0\n",
    "* Train acc: 0.762\n",
    "* Dev acc:   0.764\n",
    "\n",
    "**Train acc.** Huge drop in performance.\n",
    "\n",
    "**Dev acc.** Huge drop in performance.\n",
    "\n",
    "**Overall.** Started to underfit.\n",
    "\n",
    "#### Bias-Varience\n",
    "\n",
    "* Bias:      0.238\n",
    "* Variance:  -0.00234\n",
    "\n",
    "**Bias.** Bias increased a lot.\n",
    "\n",
    "**Variance.** Variance is not there anymore.\n",
    "\n",
    "**Overall.** Started to underfit.\n",
    "\n",
    "#### Next Step\n",
    "\n",
    "Use **more aggressive augmentation**. Try w/o weight decay to start with."
   ]
  },
  {
   "cell_type": "code",
   "execution_count": null,
   "id": "13b698d0",
   "metadata": {},
   "outputs": [],
   "source": []
  },
  {
   "cell_type": "markdown",
   "id": "3ba45354",
   "metadata": {},
   "source": [
    "## Current"
   ]
  },
  {
   "cell_type": "code",
   "execution_count": 25,
   "id": "507bf01e",
   "metadata": {},
   "outputs": [],
   "source": [
    "MODEL_NAME = 'Adam_wd=100_2021-06-11'"
   ]
  },
  {
   "cell_type": "markdown",
   "id": "9d6a9d94",
   "metadata": {},
   "source": [
    "### Plot and Save Learning Curves"
   ]
  },
  {
   "cell_type": "code",
   "execution_count": 26,
   "id": "70ccda18",
   "metadata": {},
   "outputs": [],
   "source": [
    "with open(f'../history/{MODEL_NAME}.json') as f:\n",
    "    history = json.load(f)\n",
    "    \n",
    "with open(f'../history/dummy-classifier.json') as f:\n",
    "    dummy = json.load(f)"
   ]
  },
  {
   "cell_type": "code",
   "execution_count": 27,
   "id": "adb4bf47",
   "metadata": {},
   "outputs": [
    {
     "data": {
      "text/plain": [
       "{'loss_w_all_one_half_probs': 2.7725887298583984,\n",
       " 'train_per_class_accuracies': [0.7953125238418579,\n",
       "  0.7875000238418579,\n",
       "  0.7734375,\n",
       "  0.637499988079071],\n",
       " 'dev_per_class_accuracies': [0.785937488079071,\n",
       "  0.7906249761581421,\n",
       "  0.776562511920929,\n",
       "  0.6343749761581421],\n",
       " 'train_average_accuracy': 0.7484375238418579,\n",
       " 'dev_average_accuracy': 0.7468749284744263}"
      ]
     },
     "execution_count": 27,
     "metadata": {},
     "output_type": "execute_result"
    }
   ],
   "source": [
    "dummy"
   ]
  },
  {
   "cell_type": "code",
   "execution_count": 28,
   "id": "3ffed937",
   "metadata": {},
   "outputs": [
    {
     "data": {
      "image/png": "[encoded data removed]",
      "text/plain": [
       "<Figure size 1296x864 with 2 Axes>"
      ]
     },
     "metadata": {
      "needs_background": "light"
     },
     "output_type": "display_data"
    }
   ],
   "source": [
    "f, (ax1, ax2) = plt.subplots(nrows=2, ncols=1, sharex=True, figsize=(18, 12))\n",
    "\n",
    "\n",
    "ax1.plot(np.arange(len(history['train_losses'])), history['train_losses'], label=f'Train', linewidth=3)\n",
    "ax1.plot(np.arange(len(history['dev_losses'])), history['dev_losses'], label=f'Dev', linewidth=3)\n",
    "\n",
    "ax1.axvline(x=history['best_epoch'], label=f\"Best epoch: {history['best_epoch']}\", color='green', ls='--')\n",
    "ax1.axhline(y=dummy['loss_w_all_one_half_probs'], label=f\"Dummy loss: {dummy['loss_w_all_one_half_probs']:.3}\", color='blue', ls='--')\n",
    "\n",
    "ax1.set_xlabel('Epoch')\n",
    "ax1.set_ylabel('Loss')\n",
    "ax1.set_title(\"Loss Curves\")\n",
    "ax1.legend(loc='best')\n",
    "\n",
    "ax2.plot(np.arange(len(history['train_average_accuracies'])), history['train_average_accuracies'], label=f'Train', linewidth=3)\n",
    "ax2.plot(np.arange(len(history['dev_average_accuracies'])), history['dev_average_accuracies'], label=f'Dev', linewidth=3)\n",
    "ax2.axvline(x=history['best_epoch'], label=f\"Best epoch: {history['best_epoch']}\", color='green', ls='--')\n",
    "ax2.axhline(y=history['best_acc'], label=f\"Best acc: {history['best_acc']:.3}\", color='black', ls='--')\n",
    "ax2.axhline(y=1, label=f\"Accuracy=1\", color='black', ls='-')\n",
    "ax2.axhline(y=dummy['train_average_accuracy'], label=f\"Dummy train acc.: {dummy['train_average_accuracy']:.3}\", color='blue', ls='--')\n",
    "ax2.axhline(y=dummy['dev_average_accuracy'], label=f\"Dummy dev acc.:   {dummy['dev_average_accuracy']:.3}\", color='orange', ls='--')\n",
    "ax2.set_xlabel('Epoch')\n",
    "ax2.set_ylabel('Loss')\n",
    "ax2.set_title(f\"Accuracy Curves\")\n",
    "\n",
    "ax2.legend(loc='best')\n",
    "\n",
    "plt.savefig(f'../learning_curves/{MODEL_NAME}.png', dpi=300, bbox_inches='tight')\n",
    "plt.show()"
   ]
  },
  {
   "cell_type": "markdown",
   "id": "bae2af66",
   "metadata": {},
   "source": [
    "### Results"
   ]
  },
  {
   "cell_type": "code",
   "execution_count": 19,
   "id": "35d5b9ee",
   "metadata": {},
   "outputs": [],
   "source": [
    "# sanity check\n",
    "assert np.max(history['dev_average_accuracies']) == history['best_acc']\n",
    "assert np.argmax(history['dev_average_accuracies']) == history['best_epoch']"
   ]
  },
  {
   "cell_type": "code",
   "execution_count": 20,
   "id": "85aa931b",
   "metadata": {},
   "outputs": [
    {
     "name": "stdout",
     "output_type": "stream",
     "text": [
      "* Bayes acc: 1.0\n",
      "* Train acc: 0.998\n",
      "* Dev acc:   0.87\n",
      "\n",
      "#### Bias-Varience\n",
      "\n",
      "* Bias:      0.00156\n",
      "* Variance:  0.129\n"
     ]
    }
   ],
   "source": [
    "bias = 1 - np.max(history['train_average_accuracies'])\n",
    "variance = np.max(history['train_average_accuracies']) - history['dev_average_accuracies'][history['best_epoch']]\n",
    "\n",
    "print(f\"* Bayes acc: {1.:.3}\")\n",
    "print(f\"* Train acc: {np.max(history['train_average_accuracies']):.3}\")\n",
    "print(f\"* Dev acc:   {history['best_acc']:.3}\")\n",
    "print('\\n#### Bias-Varience\\n')\n",
    "print(f\"* Bias:      {bias:.3}\")\n",
    "print(f\"* Variance:  {variance:.3}\")"
   ]
  },
  {
   "cell_type": "code",
   "execution_count": null,
   "id": "3ec077fc",
   "metadata": {},
   "outputs": [],
   "source": []
  },
  {
   "cell_type": "code",
   "execution_count": 181,
   "id": "716e57be",
   "metadata": {},
   "outputs": [],
   "source": [
    "# # plot losses\n",
    "# plt.figure(figsize=(18, 9))\n",
    "# plt.plot(np.arange(len(history['train_losses'])), history['train_losses'], label=f'Train', linewidth=3)\n",
    "# plt.plot(np.arange(len(history['dev_losses'])), history['dev_losses'], label=f'Dev', linewidth=3)\n",
    "# plt.axvline(x=history['best_epoch'], label=f\"Best epoch: {history['best_epoch']}\", color='red', ls='--')\n",
    "# plt.xlabel('Epoch')\n",
    "# plt.ylabel('Loss')\n",
    "# plt.title(\"Loss Curves\")\n",
    "# plt.legend(loc='best')\n",
    "# plt.show()"
   ]
  },
  {
   "cell_type": "code",
   "execution_count": 182,
   "id": "9718ec0c",
   "metadata": {},
   "outputs": [],
   "source": [
    "# # plot accuracies\n",
    "# plt.figure(figsize=(18, 9))\n",
    "# plt.plot(np.arange(len(history['train_average_accuracies'])), history['train_average_accuracies'], label=f'Train', linewidth=3)\n",
    "# plt.plot(np.arange(len(history['dev_average_accuracies'])), history['dev_average_accuracies'], label=f'Dev', linewidth=3)\n",
    "# plt.axvline(x=history['best_epoch'], label=f\"Best epoch: {history['best_epoch']}\", color='red', ls='--')\n",
    "# plt.axhline(y=history['best_acc'], label=f\"Best acc: {history['best_acc']:.3}\", color='black', ls='--')\n",
    "# plt.xlabel('Epoch')\n",
    "# plt.ylabel('Loss')\n",
    "# plt.title(f\"Accuracy Curves\")\n",
    "# plt.legend(loc='best')\n",
    "# plt.show()"
   ]
  },
  {
   "cell_type": "code",
   "execution_count": null,
   "id": "6111c101",
   "metadata": {},
   "outputs": [],
   "source": []
  },
  {
   "cell_type": "code",
   "execution_count": null,
   "id": "245e057c",
   "metadata": {},
   "outputs": [],
   "source": []
  }
 ],
 "metadata": {
  "kernelspec": {
   "display_name": "Python [conda env:standard-dl] *",
   "language": "python",
   "name": "conda-env-standard-dl-py"
  },
  "language_info": {
   "codemirror_mode": {
    "name": "ipython",
    "version": 3
   },
   "file_extension": ".py",
   "mimetype": "text/x-python",
   "name": "python",
   "nbconvert_exporter": "python",
   "pygments_lexer": "ipython3",
   "version": "3.9.4"
  }
 },
 "nbformat": 4,
 "nbformat_minor": 5
}
