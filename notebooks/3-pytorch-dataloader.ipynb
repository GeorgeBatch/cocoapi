{
 "cells": [
  {
   "cell_type": "code",
   "execution_count": 17,
   "id": "Viq8E8apwhxR",
   "metadata": {
    "colab": {
     "base_uri": "https://localhost:8080/"
    },
    "executionInfo": {
     "elapsed": 20891,
     "status": "ok",
     "timestamp": 1623258738227,
     "user": {
      "displayName": "George Batchkala",
      "photoUrl": "https://lh3.googleusercontent.com/a-/AOh14GjDONxhSnrmdSTlEhvc2cJI7El4zBMhqZjcA1cl1A=s64",
      "userId": "05060257197849650568"
     },
     "user_tz": -60
    },
    "id": "Viq8E8apwhxR",
    "outputId": "6569cca2-c559-47c8-9ceb-e6385208f864"
   },
   "outputs": [
    {
     "ename": "ModuleNotFoundError",
     "evalue": "No module named 'google.colab'",
     "output_type": "error",
     "traceback": [
      "\u001b[0;31m---------------------------------------------------------------------------\u001b[0m",
      "\u001b[0;31mModuleNotFoundError\u001b[0m                       Traceback (most recent call last)",
      "\u001b[0;32m<ipython-input-17-d5df0069828e>\u001b[0m in \u001b[0;36m<module>\u001b[0;34m\u001b[0m\n\u001b[0;32m----> 1\u001b[0;31m \u001b[0;32mfrom\u001b[0m \u001b[0mgoogle\u001b[0m\u001b[0;34m.\u001b[0m\u001b[0mcolab\u001b[0m \u001b[0;32mimport\u001b[0m \u001b[0mdrive\u001b[0m\u001b[0;34m\u001b[0m\u001b[0;34m\u001b[0m\u001b[0m\n\u001b[0m\u001b[1;32m      2\u001b[0m \u001b[0mdrive\u001b[0m\u001b[0;34m.\u001b[0m\u001b[0mmount\u001b[0m\u001b[0;34m(\u001b[0m\u001b[0;34m'/content/drive'\u001b[0m\u001b[0;34m)\u001b[0m\u001b[0;34m\u001b[0m\u001b[0;34m\u001b[0m\u001b[0m\n",
      "\u001b[0;31mModuleNotFoundError\u001b[0m: No module named 'google.colab'"
     ]
    }
   ],
   "source": [
    "from google.colab import drive\n",
    "drive.mount('/content/drive')"
   ]
  },
  {
   "cell_type": "code",
   "execution_count": 18,
   "id": "oknkWWV6wltm",
   "metadata": {
    "colab": {
     "base_uri": "https://localhost:8080/"
    },
    "executionInfo": {
     "elapsed": 225,
     "status": "ok",
     "timestamp": 1623258817406,
     "user": {
      "displayName": "George Batchkala",
      "photoUrl": "https://lh3.googleusercontent.com/a-/AOh14GjDONxhSnrmdSTlEhvc2cJI7El4zBMhqZjcA1cl1A=s64",
      "userId": "05060257197849650568"
     },
     "user_tz": -60
    },
    "id": "oknkWWV6wltm",
    "outputId": "e931e45b-6229-48ab-abc8-fc704fd1428f"
   },
   "outputs": [
    {
     "name": "stdout",
     "output_type": "stream",
     "text": [
      "[Errno 2] No such file or directory: 'drive/MyDrive/colab_projects/cocoapi/PythonAPI/'\n",
      "/Users/gbatch/Google Drive/colab_projects/cocoapi/PythonAPI\n"
     ]
    }
   ],
   "source": [
    "%cd drive/MyDrive/colab_projects/cocoapi/PythonAPI/"
   ]
  },
  {
   "cell_type": "markdown",
   "id": "d7126d12",
   "metadata": {
    "id": "d7126d12"
   },
   "source": [
    "A lot of the code is from here:\n",
    "* https://pytorch.org/tutorials/beginner/basics/data_tutorial.html\n",
    "* https://pytorch.org/tutorials/beginner/data_loading_tutorial.html"
   ]
  },
  {
   "cell_type": "code",
   "execution_count": 2,
   "id": "cca2f258",
   "metadata": {
    "executionInfo": {
     "elapsed": 4,
     "status": "ok",
     "timestamp": 1623258782828,
     "user": {
      "displayName": "George Batchkala",
      "photoUrl": "https://lh3.googleusercontent.com/a-/AOh14GjDONxhSnrmdSTlEhvc2cJI7El4zBMhqZjcA1cl1A=s64",
      "userId": "05060257197849650568"
     },
     "user_tz": -60
    },
    "id": "cca2f258"
   },
   "outputs": [],
   "source": [
    "import os\n",
    "\n",
    "import json\n",
    "import numpy as np\n",
    "import pandas as pd\n",
    "import matplotlib.pyplot as plt\n",
    "\n",
    "import torch\n",
    "from torch.utils.data import Dataset\n",
    "from torch.utils.data import DataLoader\n",
    "\n",
    "import torchvision\n",
    "from torchvision import datasets\n",
    "from torchvision.io import read_image\n",
    "from torchvision.transforms import ToTensor"
   ]
  },
  {
   "cell_type": "code",
   "execution_count": 5,
   "id": "1e0fd5c3",
   "metadata": {
    "executionInfo": {
     "elapsed": 205,
     "status": "ok",
     "timestamp": 1623258784449,
     "user": {
      "displayName": "George Batchkala",
      "photoUrl": "https://lh3.googleusercontent.com/a-/AOh14GjDONxhSnrmdSTlEhvc2cJI7El4zBMhqZjcA1cl1A=s64",
      "userId": "05060257197849650568"
     },
     "user_tz": -60
    },
    "id": "1e0fd5c3"
   },
   "outputs": [
    {
     "name": "stdout",
     "output_type": "stream",
     "text": [
      "/Users/gbatch/Google Drive/colab_projects/cocoapi/utils\n",
      "/Users/gbatch/Google Drive/colab_projects/cocoapi/notebooks\n"
     ]
    }
   ],
   "source": [
    "%cd ../utils/\n",
    "\n",
    "from config import CATEGORIES_OF_INTEREST\n",
    "from config import IMG_SIZE, NORMALIZATION_MEAN, NORMALIZATION_STD\n",
    "\n",
    "from my_transforms import baseline_train_transforms, SimCLR_train_transforms, dev_transforms\n",
    "\n",
    "from my_dataloaders import CocoNoCropping\n",
    "\n",
    "%cd ../notebooks/"
   ]
  },
  {
   "cell_type": "code",
   "execution_count": 6,
   "id": "9fd5b450",
   "metadata": {},
   "outputs": [
    {
     "name": "stdout",
     "output_type": "stream",
     "text": [
      "torch.Size([3, 437, 583])\n",
      "3\n",
      "torch.Size([437, 583])\n"
     ]
    },
    {
     "data": {
      "text/plain": [
       "torch.Size([3, 437, 583])"
      ]
     },
     "execution_count": 6,
     "metadata": {},
     "output_type": "execute_result"
    }
   ],
   "source": [
    "idx=1\n",
    "with open('../my_splits/dev1_ids.txt', 'r') as f:\n",
    "    img_ids = json.loads(f.read())\n",
    "img_dir = '../my_images/dev1/'\n",
    "\n",
    "    \n",
    "img_id = str(img_ids[idx])\n",
    "img_name = (12-len(img_id)) * '0' + img_id + '.jpg'\n",
    "\n",
    "img_path = os.path.join(img_dir, img_name)\n",
    "image = read_image(img_path)\n",
    "\n",
    "print(image.shape)\n",
    "print(image.shape[0])\n",
    "print(image[0].shape)\n",
    "\n",
    "if 1 == 1:\n",
    "    image = torch.stack([image[0], image[0], image[0]], dim=0)\n",
    "    \n",
    "image.shape"
   ]
  },
  {
   "cell_type": "code",
   "execution_count": 7,
   "id": "5c7298a5",
   "metadata": {
    "colab": {
     "base_uri": "https://localhost:8080/"
    },
    "executionInfo": {
     "elapsed": 204,
     "status": "ok",
     "timestamp": 1623258822392,
     "user": {
      "displayName": "George Batchkala",
      "photoUrl": "https://lh3.googleusercontent.com/a-/AOh14GjDONxhSnrmdSTlEhvc2cJI7El4zBMhqZjcA1cl1A=s64",
      "userId": "05060257197849650568"
     },
     "user_tz": -60
    },
    "id": "5c7298a5",
    "outputId": "e152be9d-3238-4718-afb3-6af79eb44c39"
   },
   "outputs": [
    {
     "name": "stdout",
     "output_type": "stream",
     "text": [
      "dev1_ids.txt    dev_ids.txt     test_ids.txt    train1_ids.txt  train_ids.txt\r\n"
     ]
    }
   ],
   "source": [
    "%ls ../my_splits/"
   ]
  },
  {
   "cell_type": "code",
   "execution_count": 8,
   "id": "3cbd0098",
   "metadata": {
    "colab": {
     "base_uri": "https://localhost:8080/"
    },
    "executionInfo": {
     "elapsed": 400,
     "status": "ok",
     "timestamp": 1623258825216,
     "user": {
      "displayName": "George Batchkala",
      "photoUrl": "https://lh3.googleusercontent.com/a-/AOh14GjDONxhSnrmdSTlEhvc2cJI7El4zBMhqZjcA1cl1A=s64",
      "userId": "05060257197849650568"
     },
     "user_tz": -60
    },
    "id": "3cbd0098",
    "outputId": "66bce918-4ece-4817-caaf-69c98ac89313"
   },
   "outputs": [
    {
     "name": "stdout",
     "output_type": "stream",
     "text": [
      "Icon?                               strCatNms_to_imgIds_train2017.json\r\n",
      "imgIds_to_labels_train2017.json     strCatNms_to_imgIds_val2017.json\r\n",
      "imgIds_to_labels_val2017.json\r\n"
     ]
    }
   ],
   "source": [
    "%ls ../my_annotations/"
   ]
  },
  {
   "cell_type": "code",
   "execution_count": 9,
   "id": "e0bb3f76",
   "metadata": {
    "colab": {
     "base_uri": "https://localhost:8080/"
    },
    "executionInfo": {
     "elapsed": 204,
     "status": "ok",
     "timestamp": 1623258826261,
     "user": {
      "displayName": "George Batchkala",
      "photoUrl": "https://lh3.googleusercontent.com/a-/AOh14GjDONxhSnrmdSTlEhvc2cJI7El4zBMhqZjcA1cl1A=s64",
      "userId": "05060257197849650568"
     },
     "user_tz": -60
    },
    "id": "e0bb3f76",
    "outputId": "a7a23a97-de6e-4656-8186-b66f5b489114"
   },
   "outputs": [
    {
     "name": "stdout",
     "output_type": "stream",
     "text": [
      "\u001b[34mtrain2017\u001b[m\u001b[m/ \u001b[34mval2017\u001b[m\u001b[m/\r\n"
     ]
    }
   ],
   "source": [
    "%ls ../images/"
   ]
  },
  {
   "cell_type": "code",
   "execution_count": 12,
   "id": "74b4a7c5",
   "metadata": {
    "executionInfo": {
     "elapsed": 1289,
     "status": "ok",
     "timestamp": 1623258850169,
     "user": {
      "displayName": "George Batchkala",
      "photoUrl": "https://lh3.googleusercontent.com/a-/AOh14GjDONxhSnrmdSTlEhvc2cJI7El4zBMhqZjcA1cl1A=s64",
      "userId": "05060257197849650568"
     },
     "user_tz": -60
    },
    "id": "74b4a7c5"
   },
   "outputs": [],
   "source": [
    "train1_dataset = CocoNoCropping(\n",
    "    img_ids = '../my_splits/train1_ids.txt',\n",
    "    my_annotations_file = '../my_annotations/imgIds_to_labels_train2017.json',\n",
    "    img_dir = '../my_images/train1/',\n",
    "    transform=baseline_train_transforms,\n",
    "    divide_by_255=True\n",
    ")"
   ]
  },
  {
   "cell_type": "code",
   "execution_count": 13,
   "id": "796d1720",
   "metadata": {
    "executionInfo": {
     "elapsed": 206,
     "status": "ok",
     "timestamp": 1623258855623,
     "user": {
      "displayName": "George Batchkala",
      "photoUrl": "https://lh3.googleusercontent.com/a-/AOh14GjDONxhSnrmdSTlEhvc2cJI7El4zBMhqZjcA1cl1A=s64",
      "userId": "05060257197849650568"
     },
     "user_tz": -60
    },
    "id": "796d1720"
   },
   "outputs": [],
   "source": [
    "train1_dataloader = DataLoader(train1_dataset, batch_size=32, shuffle=True)"
   ]
  },
  {
   "cell_type": "code",
   "execution_count": 14,
   "id": "03067a5f",
   "metadata": {
    "colab": {
     "base_uri": "https://localhost:8080/"
    },
    "executionInfo": {
     "elapsed": 12715,
     "status": "ok",
     "timestamp": 1623258870122,
     "user": {
      "displayName": "George Batchkala",
      "photoUrl": "https://lh3.googleusercontent.com/a-/AOh14GjDONxhSnrmdSTlEhvc2cJI7El4zBMhqZjcA1cl1A=s64",
      "userId": "05060257197849650568"
     },
     "user_tz": -60
    },
    "id": "03067a5f",
    "outputId": "2dc67efc-097d-4e5f-a572-8e1f263e725a"
   },
   "outputs": [
    {
     "data": {
      "text/plain": [
       "{'image': tensor([[[[-7.2049e-01, -6.1879e-01, -5.9153e-01,  ..., -2.3139e-01,\n",
       "            -2.1339e-01, -2.1758e-01],\n",
       "           [-6.6579e-01, -6.1844e-01, -5.5641e-01,  ..., -1.7232e-01,\n",
       "            -1.5729e-01, -2.1583e-01],\n",
       "           [-6.4727e-01, -6.1390e-01, -5.3736e-01,  ..., -1.4489e-01,\n",
       "            -1.4314e-01, -2.1950e-01],\n",
       "           ...,\n",
       "           [-6.5863e-01, -5.7668e-01, -5.6357e-01,  ..., -2.2218e-02,\n",
       "            -1.5928e-02, -3.2354e-02],\n",
       "           [-6.5985e-01, -6.0463e-01, -6.3172e-01,  ..., -1.1116e-01,\n",
       "            -9.4562e-02, -1.0120e-01],\n",
       "           [-7.2346e-01, -6.4884e-01, -6.6719e-01,  ..., -7.1497e-02,\n",
       "            -1.4611e-01, -1.8595e-01]],\n",
       " \n",
       "          [[-7.7557e-01, -7.5342e-01, -6.6767e-01,  ..., -2.0731e-01,\n",
       "            -2.0123e-01, -2.2552e-01],\n",
       "           [-7.2894e-01, -7.3037e-01, -6.3194e-01,  ..., -1.4674e-01,\n",
       "            -1.5371e-01, -2.3124e-01],\n",
       "           [-7.2233e-01, -6.9071e-01, -6.5731e-01,  ..., -1.8462e-01,\n",
       "            -1.9033e-01, -2.3499e-01],\n",
       "           ...,\n",
       "           [-7.3644e-01, -6.5695e-01, -5.6423e-01,  ..., -7.8324e-02,\n",
       "            -7.9396e-02, -9.6189e-02],\n",
       "           [-7.5520e-01, -6.9268e-01, -6.3712e-01,  ..., -1.2424e-01,\n",
       "            -1.0726e-01, -1.1173e-01],\n",
       "           [-8.1273e-01, -7.3234e-01, -6.6267e-01,  ..., -1.0619e-01,\n",
       "            -1.4246e-01, -1.3317e-01]],\n",
       " \n",
       "          [[-8.9066e-01, -9.4419e-01, -8.7750e-01,  ..., -4.0744e-01,\n",
       "            -3.9268e-01, -4.2558e-01],\n",
       "           [-9.2925e-01, -8.3072e-01, -9.3334e-01,  ..., -4.7164e-01,\n",
       "            -3.9232e-01, -3.4911e-01],\n",
       "           [-8.8817e-01, -8.4388e-01, -8.3837e-01,  ..., -4.1207e-01,\n",
       "            -3.6227e-01, -3.7276e-01],\n",
       "           ...,\n",
       "           [-8.8941e-01, -8.1365e-01, -7.5158e-01,  ..., -2.1181e-01,\n",
       "            -1.9900e-01, -1.8726e-01],\n",
       "           [-7.9853e-01, -7.6847e-01, -7.6723e-01,  ..., -2.9237e-01,\n",
       "            -2.4844e-01, -2.1928e-01],\n",
       "           [-8.9457e-01, -8.6398e-01, -8.8159e-01,  ..., -2.1999e-01,\n",
       "            -2.4916e-01, -2.4151e-01]]],\n",
       " \n",
       " \n",
       "         [[[-7.5033e-01, -8.5275e-01, -6.2065e-01,  ..., -1.9843e+00,\n",
       "            -1.9662e+00, -1.8294e+00],\n",
       "           [-1.0377e+00, -1.0993e+00, -1.0717e+00,  ..., -2.0504e+00,\n",
       "            -1.9925e+00, -1.9823e+00],\n",
       "           [-1.5653e+00, -1.3835e+00, -1.1938e+00,  ..., -2.0084e+00,\n",
       "            -1.9929e+00, -2.0400e+00],\n",
       "           ...,\n",
       "           [ 9.5364e-01,  4.3566e-01,  1.4926e+00,  ...,  9.4488e-01,\n",
       "             1.1611e+00,  4.1659e-01],\n",
       "           [ 9.8981e-01,  1.4495e+00,  1.2152e+00,  ...,  1.3438e+00,\n",
       "             1.8007e+00,  1.5151e+00],\n",
       "           [ 5.0469e-01,  1.2233e+00,  1.3079e+00,  ...,  7.9867e-01,\n",
       "             6.8519e-01,  7.4450e-01]],\n",
       " \n",
       "          [[-3.1008e-01, -3.1228e-01, -1.6230e-01,  ..., -1.8988e+00,\n",
       "            -1.8470e+00, -1.5702e+00],\n",
       "           [-3.3476e-01, -3.6586e-01, -3.7656e-01,  ..., -1.8792e+00,\n",
       "            -1.8285e+00, -1.8514e+00],\n",
       "           [-8.7898e-01, -6.8111e-01, -4.3571e-01,  ..., -1.8314e+00,\n",
       "            -1.8231e+00, -1.8578e+00],\n",
       "           ...,\n",
       "           [ 9.8316e-01,  5.5999e-01,  1.7475e+00,  ...,  1.0233e+00,\n",
       "             1.0444e+00,  3.8814e-01],\n",
       "           [ 1.1368e+00,  1.5346e+00,  1.4793e+00,  ...,  1.5417e+00,\n",
       "             2.0172e+00,  1.6368e+00],\n",
       "           [ 6.5542e-01,  1.3717e+00,  1.4647e+00,  ...,  8.9916e-01,\n",
       "             7.2601e-01,  7.0801e-01]],\n",
       " \n",
       "          [[-1.0341e+00, -1.1990e+00, -8.5779e-01,  ..., -1.6825e+00,\n",
       "            -1.7078e+00, -1.6098e+00],\n",
       "           [-1.3278e+00, -1.2878e+00, -1.3915e+00,  ..., -1.7308e+00,\n",
       "            -1.6787e+00, -1.7199e+00],\n",
       "           [-1.6294e+00, -1.4383e+00, -1.4446e+00,  ..., -1.6798e+00,\n",
       "            -1.6620e+00, -1.7122e+00],\n",
       "           ...,\n",
       "           [ 1.1579e+00,  8.0705e-01,  2.0984e+00,  ...,  1.1520e+00,\n",
       "             1.1931e+00,  4.5071e-01],\n",
       "           [ 1.3596e+00,  1.8087e+00,  1.7660e+00,  ...,  1.6641e+00,\n",
       "             2.2942e+00,  2.1399e+00],\n",
       "           [ 9.4445e-01,  1.5879e+00,  1.6273e+00,  ...,  1.1122e+00,\n",
       "             1.1403e+00,  9.9991e-01]]],\n",
       " \n",
       " \n",
       "         [[[-1.2784e+00, -1.3260e+00, -1.3358e+00,  ...,  1.2198e-01,\n",
       "             3.9159e-01,  1.2373e+00],\n",
       "           [-1.2400e+00, -1.2880e+00, -1.2969e+00,  ...,  3.1127e-01,\n",
       "             3.1043e-01,  5.4242e-01],\n",
       "           [-1.2591e+00, -1.2507e+00, -1.2762e+00,  ...,  3.3463e-01,\n",
       "             3.6537e-01,  4.9561e-01],\n",
       "           ...,\n",
       "           [ 1.9673e+00,  2.0117e+00,  2.0040e+00,  ...,  8.6423e-01,\n",
       "             1.0273e+00,  1.0071e+00],\n",
       "           [ 1.9102e+00,  1.8179e+00,  1.9633e+00,  ...,  8.3755e-01,\n",
       "             8.7165e-01,  9.9838e-01],\n",
       "           [ 2.1186e+00,  1.8544e+00,  1.7452e+00,  ...,  8.6351e-01,\n",
       "             8.2696e-01,  1.0209e+00]],\n",
       " \n",
       "          [[-1.1533e+00, -1.2261e+00, -1.2712e+00,  ...,  1.4520e-01,\n",
       "             3.8660e-01,  1.2531e+00],\n",
       "           [-1.1189e+00, -1.1873e+00, -1.2186e+00,  ...,  2.2061e-01,\n",
       "             2.2080e-01,  4.1589e-01],\n",
       "           [-1.1557e+00, -1.1800e+00, -1.1927e+00,  ...,  2.1654e-01,\n",
       "             2.3507e-01,  2.9558e-01],\n",
       "           ...,\n",
       "           [ 2.1205e+00,  2.2036e+00,  2.2104e+00,  ...,  4.3526e-01,\n",
       "             6.0200e-01,  5.8129e-01],\n",
       "           [ 2.0640e+00,  2.0229e+00,  2.1688e+00,  ...,  4.0798e-01,\n",
       "             4.4284e-01,  5.7240e-01],\n",
       "           [ 2.2820e+00,  2.0603e+00,  1.9469e+00,  ...,  4.3452e-01,\n",
       "             3.9715e-01,  5.9546e-01]],\n",
       " \n",
       "          [[-1.2595e+00, -1.1852e+00, -1.2784e+00,  ...,  7.9393e-02,\n",
       "             3.2695e-01,  1.1393e+00],\n",
       "           [-1.1737e+00, -1.1690e+00, -1.2906e+00,  ...,  1.1183e-01,\n",
       "             1.1972e-01,  2.4102e-01],\n",
       "           [-1.1642e+00, -1.1648e+00, -1.3109e+00,  ...,  1.1766e-01,\n",
       "             9.2879e-02,  1.3390e-01],\n",
       "           ...,\n",
       "           [ 2.1704e+00,  2.2766e+00,  2.2303e+00,  ..., -9.6712e-02,\n",
       "             7.0945e-02,  1.6614e-02],\n",
       "           [ 2.0982e+00,  2.0444e+00,  2.1796e+00,  ..., -1.2387e-01,\n",
       "            -7.6941e-02,  3.2851e-02],\n",
       "           [ 2.2849e+00,  2.0817e+00,  1.9332e+00,  ..., -9.7443e-02,\n",
       "            -9.6988e-02,  8.1827e-02]]],\n",
       " \n",
       " \n",
       "         ...,\n",
       " \n",
       " \n",
       "         [[[-2.4727e-03, -1.4227e-01, -3.5842e-01,  ..., -7.4985e-01,\n",
       "            -1.0134e+00, -6.4115e-01],\n",
       "           [-4.9189e-03, -2.0779e-01, -2.5567e-01,  ..., -5.6252e-01,\n",
       "            -7.7291e-01, -7.2381e-01],\n",
       "           [-2.9499e-01, -2.4170e-01, -1.1745e-01,  ..., -9.2581e-01,\n",
       "            -8.0506e-01, -6.7680e-01],\n",
       "           ...,\n",
       "           [-1.0838e-01, -2.0936e-01,  9.8525e-02,  ..., -1.5084e+00,\n",
       "            -1.6150e+00, -1.5540e+00],\n",
       "           [-2.4799e-01, -1.9696e-01, -1.7756e-01,  ..., -1.4527e+00,\n",
       "            -1.5851e+00, -1.5931e+00],\n",
       "           [-1.6342e-01, -3.2662e-01, -2.6896e-01,  ..., -1.5210e+00,\n",
       "            -1.6008e+00, -1.5806e+00]],\n",
       " \n",
       "          [[ 5.2800e-02,  2.9755e-02, -1.3370e-01,  ..., -5.0135e-01,\n",
       "            -5.0296e-01, -4.2507e-01],\n",
       "           [ 3.4757e-02,  1.4534e-01,  3.4757e-02,  ..., -2.5464e-01,\n",
       "            -4.9385e-01, -3.5325e-01],\n",
       "           [ 3.4221e-02,  2.9219e-02,  9.2108e-03,  ..., -3.5165e-01,\n",
       "            -4.2614e-01, -3.7380e-01],\n",
       "           ...,\n",
       "           [ 9.3347e-02,  1.7107e-01,  2.7699e-01,  ..., -1.6709e+00,\n",
       "            -1.6127e+00, -1.8172e+00],\n",
       "           [ 1.7303e-01,  1.7446e-01,  8.3885e-02,  ..., -1.6475e+00,\n",
       "            -1.6813e+00, -1.6925e+00],\n",
       "           [ 1.4926e-01,  1.2390e-01,  1.4176e-01,  ..., -1.5550e+00,\n",
       "            -1.5219e+00, -1.7065e+00]],\n",
       " \n",
       "          [[ 2.7087e-01, -7.8147e-03, -2.6133e-02,  ..., -2.8099e-01,\n",
       "            -6.0219e-01, -1.7624e-01],\n",
       "           [ 7.0323e-01,  2.8083e-01, -1.3861e-02,  ..., -1.4405e-01,\n",
       "            -4.4213e-01, -2.5395e-01],\n",
       "           [ 1.9404e-01,  4.1582e-01,  2.3673e-01,  ..., -2.5413e-01,\n",
       "            -8.7312e-02, -4.0015e-01],\n",
       "           ...,\n",
       "           [ 2.4739e-01,  6.0790e-01,  8.1029e-01,  ..., -8.2787e-01,\n",
       "            -1.1131e+00, -8.7412e-01],\n",
       "           [ 2.7799e-01,  3.0057e-01,  4.6580e-01,  ..., -1.3817e+00,\n",
       "            -1.3433e+00, -1.4404e+00],\n",
       "           [ 4.1618e-01,  2.0579e-01,  3.5838e-01,  ..., -1.5544e+00,\n",
       "            -1.3762e+00, -1.3008e+00]]],\n",
       " \n",
       " \n",
       "         [[[-7.3202e-01, -7.0074e-01, -6.3609e-01,  ..., -7.1612e-01,\n",
       "            -7.2346e-01, -6.4832e-01],\n",
       "           [-6.9270e-01, -6.7541e-01, -6.4203e-01,  ..., -6.6842e-01,\n",
       "            -6.9061e-01, -6.6125e-01],\n",
       "           [-7.6522e-01, -7.2783e-01, -6.2665e-01,  ..., -6.2805e-01,\n",
       "            -6.3102e-01, -6.3521e-01],\n",
       "           ...,\n",
       "           [-3.2453e-01, -2.3366e-01, -2.5743e-01,  ..., -8.4822e-01,\n",
       "            -7.7012e-01, -7.2503e-01],\n",
       "           [-3.7887e-01, -3.8586e-01, -4.0281e-01,  ..., -3.7398e-01,\n",
       "            -5.1482e-01, -8.6325e-01],\n",
       "           [-4.0106e-01, -3.3693e-01, -3.2103e-01,  ..., -3.2540e-01,\n",
       "            -5.8820e-01, -3.8569e-01]],\n",
       " \n",
       "          [[-6.8017e-01, -6.6892e-01, -6.3408e-01,  ..., -5.8513e-01,\n",
       "            -5.9514e-01, -6.7088e-01],\n",
       "           [-6.5766e-01, -6.3783e-01, -5.9282e-01,  ..., -5.5387e-01,\n",
       "            -5.7406e-01, -6.2729e-01],\n",
       "           [-6.4909e-01, -6.3819e-01, -6.1515e-01,  ..., -5.6513e-01,\n",
       "            -5.6638e-01, -5.6548e-01],\n",
       "           ...,\n",
       "           [-7.2144e-01, -8.5221e-01, -8.7275e-01,  ..., -1.1134e+00,\n",
       "            -1.1559e+00, -1.1763e+00],\n",
       "           [-8.1148e-01, -9.2991e-01, -8.9847e-01,  ..., -5.3654e-01,\n",
       "            -6.0460e-01, -1.1437e+00],\n",
       "           [-8.2255e-01, -8.6524e-01, -8.7150e-01,  ..., -6.2748e-01,\n",
       "            -8.6417e-01, -5.4888e-01]],\n",
       " \n",
       "          [[-5.3709e-01, -5.1682e-01, -5.1219e-01,  ..., -4.6382e-01,\n",
       "            -5.9472e-01, -5.8120e-01],\n",
       "           [-5.4456e-01, -5.2215e-01, -5.2162e-01,  ..., -4.7360e-01,\n",
       "            -5.8831e-01, -5.5986e-01],\n",
       "           [-5.1113e-01, -5.0348e-01, -4.6898e-01,  ..., -4.2932e-01,\n",
       "            -5.0384e-01, -4.3768e-01],\n",
       "           ...,\n",
       "           [-5.2002e-01, -7.1992e-01, -7.1317e-01,  ..., -9.6517e-01,\n",
       "            -9.4917e-01, -1.0079e+00],\n",
       "           [-6.8898e-01, -9.0079e-01, -8.2912e-01,  ..., -4.3252e-01,\n",
       "            -4.8836e-01, -9.5913e-01],\n",
       "           [-7.3202e-01, -8.3712e-01, -7.4126e-01,  ..., -5.7534e-01,\n",
       "            -7.7309e-01, -4.3057e-01]]],\n",
       " \n",
       " \n",
       "         [[[-1.8521e+00, -1.9341e+00, -1.8355e+00,  ...,  2.1374e+00,\n",
       "             2.1381e+00,  2.1332e+00],\n",
       "           [-1.7735e+00, -1.7703e+00, -1.7637e+00,  ...,  7.9243e-01,\n",
       "             5.8134e-01, -1.2798e+00],\n",
       "           [-1.7102e+00, -1.7613e+00, -1.8020e+00,  ...,  8.2423e-01,\n",
       "             6.0912e-01, -1.4355e+00],\n",
       "           ...,\n",
       "           [ 1.8921e+00,  1.6195e+00,  1.4751e+00,  ...,  1.7254e+00,\n",
       "             1.5655e+00,  1.4098e+00],\n",
       "           [ 1.7626e+00,  1.7257e+00,  1.6273e+00,  ...,  1.4025e+00,\n",
       "             1.4301e+00,  1.3984e+00],\n",
       "           [ 1.7280e+00,  1.7242e+00,  1.6661e+00,  ...,  1.4862e+00,\n",
       "             1.5174e+00,  1.5104e+00]],\n",
       " \n",
       "          [[-1.7758e+00, -1.8324e+00, -1.7969e+00,  ...,  2.2885e+00,\n",
       "             2.3037e+00,  2.2828e+00],\n",
       "           [-1.6709e+00, -1.6640e+00, -1.6661e+00,  ...,  7.9524e-01,\n",
       "             5.5514e-01, -1.4187e+00],\n",
       "           [-1.6731e+00, -1.7376e+00, -1.7070e+00,  ...,  9.1207e-01,\n",
       "             6.6840e-01, -1.5584e+00],\n",
       "           ...,\n",
       "           [ 1.9938e+00,  1.6976e+00,  1.5300e+00,  ...,  1.7124e+00,\n",
       "             1.5473e+00,  1.4107e+00],\n",
       "           [ 1.8564e+00,  1.8062e+00,  1.7056e+00,  ...,  1.3681e+00,\n",
       "             1.3789e+00,  1.3841e+00],\n",
       "           [ 1.8085e+00,  1.8046e+00,  1.7313e+00,  ...,  1.5554e+00,\n",
       "             1.5364e+00,  1.4635e+00]],\n",
       " \n",
       "          [[-9.1947e-01, -9.0577e-01, -9.1200e-01,  ...,  2.4061e+00,\n",
       "             2.5191e+00,  2.5230e+00],\n",
       "           [-6.1766e-01, -4.6969e-01, -4.4497e-01,  ...,  4.9888e-01,\n",
       "             2.2570e-01, -1.2977e+00],\n",
       "           [-5.8049e-01, -4.5866e-01, -4.2558e-01,  ...,  4.3805e-01,\n",
       "             1.4140e-01, -1.5005e+00],\n",
       "           ...,\n",
       "           [ 1.7365e+00,  1.3931e+00,  1.1952e+00,  ...,  1.3068e+00,\n",
       "             1.1377e+00,  9.5434e-01],\n",
       "           [ 1.5599e+00,  1.5149e+00,  1.4023e+00,  ...,  9.1700e-01,\n",
       "             9.7996e-01,  9.7268e-01],\n",
       "           [ 1.4987e+00,  1.5096e+00,  1.4820e+00,  ...,  1.1167e+00,\n",
       "             1.1091e+00,  1.0169e+00]]]]),\n",
       " 'label': [tensor([0, 0, 0, 0, 0, 0, 0, 0, 1, 0, 1, 0, 1, 0, 0, 0, 0, 0, 0, 0, 0, 0, 0, 1,\n",
       "          0, 0, 0, 0, 0, 0, 0, 0]),\n",
       "  tensor([0, 0, 0, 0, 0, 0, 0, 0, 0, 0, 0, 1, 0, 1, 0, 1, 1, 0, 1, 1, 0, 0, 1, 0,\n",
       "          0, 0, 0, 1, 0, 1, 1, 1]),\n",
       "  tensor([0, 1, 0, 1, 0, 0, 1, 1, 0, 1, 0, 0, 0, 0, 0, 0, 0, 1, 0, 0, 0, 0, 0, 0,\n",
       "          1, 0, 0, 0, 0, 1, 0, 0]),\n",
       "  tensor([0, 1, 0, 0, 0, 1, 1, 1, 0, 1, 0, 1, 0, 0, 1, 0, 0, 0, 0, 1, 0, 0, 1, 0,\n",
       "          1, 1, 1, 0, 0, 0, 0, 1])]}"
      ]
     },
     "execution_count": 14,
     "metadata": {},
     "output_type": "execute_result"
    }
   ],
   "source": [
    "next(iter(train1_dataloader))"
   ]
  },
  {
   "cell_type": "code",
   "execution_count": 15,
   "id": "1b8d2bde",
   "metadata": {
    "colab": {
     "base_uri": "https://localhost:8080/"
    },
    "executionInfo": {
     "elapsed": 12070,
     "status": "ok",
     "timestamp": 1623258888964,
     "user": {
      "displayName": "George Batchkala",
      "photoUrl": "https://lh3.googleusercontent.com/a-/AOh14GjDONxhSnrmdSTlEhvc2cJI7El4zBMhqZjcA1cl1A=s64",
      "userId": "05060257197849650568"
     },
     "user_tz": -60
    },
    "id": "1b8d2bde",
    "outputId": "7d183287-9eaa-4f90-b237-4942b44e1802"
   },
   "outputs": [
    {
     "data": {
      "text/plain": [
       "(tensor(-2.1179), tensor(2.6400))"
      ]
     },
     "execution_count": 15,
     "metadata": {},
     "output_type": "execute_result"
    }
   ],
   "source": [
    "next(iter(train1_dataloader))['image'].min(), next(iter(train1_dataloader))['image'].max()"
   ]
  },
  {
   "cell_type": "code",
   "execution_count": 16,
   "id": "d8acee95",
   "metadata": {
    "colab": {
     "base_uri": "https://localhost:8080/"
    },
    "executionInfo": {
     "elapsed": 106591,
     "status": "ok",
     "timestamp": 1623258997345,
     "user": {
      "displayName": "George Batchkala",
      "photoUrl": "https://lh3.googleusercontent.com/a-/AOh14GjDONxhSnrmdSTlEhvc2cJI7El4zBMhqZjcA1cl1A=s64",
      "userId": "05060257197849650568"
     },
     "user_tz": -60
    },
    "id": "d8acee95",
    "outputId": "6013f222-992c-4124-c784-2712deb97d19"
   },
   "outputs": [
    {
     "name": "stdout",
     "output_type": "stream",
     "text": [
      "torch.Size([32, 3, 224, 224]) torch.float32\n",
      "torch.Size([32, 4]) torch.int64 True\n",
      "\n",
      "torch.Size([32, 3, 224, 224]) torch.float32\n",
      "torch.Size([32, 4]) torch.int64 True\n",
      "\n",
      "torch.Size([32, 3, 224, 224]) torch.float32\n",
      "torch.Size([32, 4]) torch.int64 True\n",
      "\n",
      "torch.Size([32, 3, 224, 224]) torch.float32\n",
      "torch.Size([32, 4]) torch.int64 True\n",
      "\n",
      "torch.Size([32, 3, 224, 224]) torch.float32\n",
      "torch.Size([32, 4]) torch.int64 True\n",
      "\n",
      "torch.Size([32, 3, 224, 224]) torch.float32\n",
      "torch.Size([32, 4]) torch.int64 True\n",
      "\n",
      "torch.Size([32, 3, 224, 224]) torch.float32\n",
      "torch.Size([32, 4]) torch.int64 True\n",
      "\n",
      "torch.Size([32, 3, 224, 224]) torch.float32\n",
      "torch.Size([32, 4]) torch.int64 True\n",
      "\n",
      "torch.Size([32, 3, 224, 224]) torch.float32\n",
      "torch.Size([32, 4]) torch.int64 True\n",
      "\n",
      "torch.Size([32, 3, 224, 224]) torch.float32\n",
      "torch.Size([32, 4]) torch.int64 True\n",
      "\n",
      "torch.Size([32, 3, 224, 224]) torch.float32\n",
      "torch.Size([32, 4]) torch.int64 True\n",
      "\n",
      "torch.Size([32, 3, 224, 224]) torch.float32\n",
      "torch.Size([32, 4]) torch.int64 True\n",
      "\n",
      "torch.Size([32, 3, 224, 224]) torch.float32\n",
      "torch.Size([32, 4]) torch.int64 True\n",
      "\n",
      "torch.Size([32, 3, 224, 224]) torch.float32\n",
      "torch.Size([32, 4]) torch.int64 True\n",
      "\n",
      "torch.Size([32, 3, 224, 224]) torch.float32\n",
      "torch.Size([32, 4]) torch.int64 True\n",
      "\n",
      "torch.Size([32, 3, 224, 224]) torch.float32\n",
      "torch.Size([32, 4]) torch.int64 True\n",
      "\n",
      "torch.Size([32, 3, 224, 224]) torch.float32\n",
      "torch.Size([32, 4]) torch.int64 True\n",
      "\n",
      "torch.Size([32, 3, 224, 224]) torch.float32\n",
      "torch.Size([32, 4]) torch.int64 True\n",
      "\n",
      "torch.Size([32, 3, 224, 224]) torch.float32\n",
      "torch.Size([32, 4]) torch.int64 True\n",
      "\n",
      "torch.Size([32, 3, 224, 224]) torch.float32\n",
      "torch.Size([32, 4]) torch.int64 True\n",
      "\n"
     ]
    }
   ],
   "source": [
    "for batch in train1_dataloader:\n",
    "    inputs = batch['image'] # [batch size, channel, h, w]\n",
    "    print(inputs.shape, inputs.dtype)\n",
    "    \n",
    "    # right now, `labels` is a list with num_classes tensors, each tensor with batch-size labels\n",
    "    \n",
    "    labels = torch.vstack(batch['label']).T.contiguous() \n",
    "    print(labels.shape, labels.dtype, labels.is_contiguous()) # labels\n",
    "    print()\n",
    "    #break"
   ]
  },
  {
   "cell_type": "code",
   "execution_count": null,
   "id": "af619b3a",
   "metadata": {
    "id": "af619b3a"
   },
   "outputs": [],
   "source": []
  },
  {
   "cell_type": "code",
   "execution_count": 21,
   "id": "cb280416",
   "metadata": {
    "id": "cb280416"
   },
   "outputs": [],
   "source": [
    "dev1_dataset = CocoNoCropping(\n",
    "    img_ids = '../my_splits/dev1_ids.txt',\n",
    "    my_annotations_file = '../my_annotations/imgIds_to_labels_train2017.json',\n",
    "    img_dir = '../my_images/dev1/',\n",
    "    transform=dev_transforms,\n",
    "    divide_by_255=True\n",
    ")"
   ]
  },
  {
   "cell_type": "code",
   "execution_count": 24,
   "id": "0ba9d7aa",
   "metadata": {},
   "outputs": [],
   "source": [
    "dev1_dataloader = DataLoader(dev1_dataset, batch_size=32, shuffle=False)"
   ]
  },
  {
   "cell_type": "code",
   "execution_count": 25,
   "id": "703a117d",
   "metadata": {},
   "outputs": [
    {
     "name": "stdout",
     "output_type": "stream",
     "text": [
      "torch.Size([32, 3, 224, 224]) torch.float32\n",
      "torch.Size([32, 4]) torch.int64 True\n",
      "\n",
      "torch.Size([32, 3, 224, 224]) torch.float32\n",
      "torch.Size([32, 4]) torch.int64 True\n",
      "\n",
      "torch.Size([32, 3, 224, 224]) torch.float32\n",
      "torch.Size([32, 4]) torch.int64 True\n",
      "\n",
      "torch.Size([32, 3, 224, 224]) torch.float32\n",
      "torch.Size([32, 4]) torch.int64 True\n",
      "\n",
      "torch.Size([32, 3, 224, 224]) torch.float32\n",
      "torch.Size([32, 4]) torch.int64 True\n",
      "\n",
      "torch.Size([32, 3, 224, 224]) torch.float32\n",
      "torch.Size([32, 4]) torch.int64 True\n",
      "\n",
      "torch.Size([32, 3, 224, 224]) torch.float32\n",
      "torch.Size([32, 4]) torch.int64 True\n",
      "\n",
      "torch.Size([32, 3, 224, 224]) torch.float32\n",
      "torch.Size([32, 4]) torch.int64 True\n",
      "\n",
      "torch.Size([32, 3, 224, 224]) torch.float32\n",
      "torch.Size([32, 4]) torch.int64 True\n",
      "\n",
      "torch.Size([32, 3, 224, 224]) torch.float32\n",
      "torch.Size([32, 4]) torch.int64 True\n",
      "\n",
      "torch.Size([32, 3, 224, 224]) torch.float32\n",
      "torch.Size([32, 4]) torch.int64 True\n",
      "\n",
      "torch.Size([32, 3, 224, 224]) torch.float32\n",
      "torch.Size([32, 4]) torch.int64 True\n",
      "\n",
      "torch.Size([32, 3, 224, 224]) torch.float32\n",
      "torch.Size([32, 4]) torch.int64 True\n",
      "\n",
      "torch.Size([32, 3, 224, 224]) torch.float32\n",
      "torch.Size([32, 4]) torch.int64 True\n",
      "\n",
      "torch.Size([32, 3, 224, 224]) torch.float32\n",
      "torch.Size([32, 4]) torch.int64 True\n",
      "\n",
      "torch.Size([32, 3, 224, 224]) torch.float32\n",
      "torch.Size([32, 4]) torch.int64 True\n",
      "\n",
      "torch.Size([32, 3, 224, 224]) torch.float32\n",
      "torch.Size([32, 4]) torch.int64 True\n",
      "\n",
      "torch.Size([32, 3, 224, 224]) torch.float32\n",
      "torch.Size([32, 4]) torch.int64 True\n",
      "\n",
      "torch.Size([32, 3, 224, 224]) torch.float32\n",
      "torch.Size([32, 4]) torch.int64 True\n",
      "\n",
      "torch.Size([32, 3, 224, 224]) torch.float32\n",
      "torch.Size([32, 4]) torch.int64 True\n",
      "\n"
     ]
    }
   ],
   "source": [
    "for batch in dev1_dataloader:\n",
    "    inputs = batch['image'] # [batch size, channel, h, w]\n",
    "    print(inputs.shape, inputs.dtype)\n",
    "    \n",
    "    # right now, `labels` is a list with num_classes tensors, each tensor with batch-size labels\n",
    "    \n",
    "    labels = torch.vstack(batch['label']).T.contiguous() \n",
    "    print(labels.shape, labels.dtype, labels.is_contiguous()) # labels\n",
    "    print()\n",
    "    #break"
   ]
  },
  {
   "cell_type": "code",
   "execution_count": null,
   "id": "7b0ac20f",
   "metadata": {},
   "outputs": [],
   "source": []
  }
 ],
 "metadata": {
  "colab": {
   "collapsed_sections": [],
   "name": "3-pytorch-dataloader.ipynb",
   "provenance": []
  },
  "kernelspec": {
   "display_name": "Python [conda env:standard-dl] *",
   "language": "python",
   "name": "conda-env-standard-dl-py"
  },
  "language_info": {
   "codemirror_mode": {
    "name": "ipython",
    "version": 3
   },
   "file_extension": ".py",
   "mimetype": "text/x-python",
   "name": "python",
   "nbconvert_exporter": "python",
   "pygments_lexer": "ipython3",
   "version": "3.9.5"
  }
 },
 "nbformat": 4,
 "nbformat_minor": 5
}
