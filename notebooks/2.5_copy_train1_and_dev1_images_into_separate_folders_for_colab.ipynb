{
 "cells": [
  {
   "cell_type": "code",
   "execution_count": 29,
   "id": "35e065d7",
   "metadata": {},
   "outputs": [],
   "source": [
    "import os\n",
    "import json\n",
    "\n",
    "import shutil # to copy files"
   ]
  },
  {
   "cell_type": "code",
   "execution_count": 3,
   "id": "4dbf1f07",
   "metadata": {},
   "outputs": [],
   "source": [
    "with open('../my_splits/train1_ids.txt', 'r') as f:\n",
    "    train1_ids = json.loads(f.read())\n",
    "with open('../my_splits/dev1_ids.txt', 'r') as f:\n",
    "    dev1_ids = json.loads(f.read())\n",
    "    \n",
    "with open('../my_splits/test_ids.txt', 'r') as f:\n",
    "    test_ids = json.loads(f.read())"
   ]
  },
  {
   "cell_type": "code",
   "execution_count": 6,
   "id": "3b43071b",
   "metadata": {},
   "outputs": [
    {
     "data": {
      "text/plain": [
       "(640, 640, 5000)"
      ]
     },
     "execution_count": 6,
     "metadata": {},
     "output_type": "execute_result"
    }
   ],
   "source": [
    "len(train1_ids), len(dev1_ids), len(test_ids)"
   ]
  },
  {
   "cell_type": "code",
   "execution_count": 8,
   "id": "f74ad820",
   "metadata": {},
   "outputs": [
    {
     "name": "stdout",
     "output_type": "stream",
     "text": [
      "\u001b[34mLuaAPI\u001b[m\u001b[m/         README.txt      \u001b[34mimages\u001b[m\u001b[m/         \u001b[34mmy_splits\u001b[m\u001b[m/\r\n",
      "\u001b[34mMatlabAPI\u001b[m\u001b[m/      \u001b[34mannotations\u001b[m\u001b[m/    license.txt     \u001b[34mresults\u001b[m\u001b[m/\r\n",
      "\u001b[34mPythonAPI\u001b[m\u001b[m/      \u001b[34mcommon\u001b[m\u001b[m/         \u001b[34mmy_annotations\u001b[m\u001b[m/\r\n"
     ]
    }
   ],
   "source": [
    "%ls ../"
   ]
  },
  {
   "cell_type": "code",
   "execution_count": 18,
   "id": "48b26f10",
   "metadata": {},
   "outputs": [
    {
     "name": "stdout",
     "output_type": "stream",
     "text": [
      "mkdir: ../my_images: File exists\r\n"
     ]
    }
   ],
   "source": [
    "%mkdir ../my_images\n",
    "%mkdir ../my_images/train1\n",
    "%mkdir ../my_images/dev1"
   ]
  },
  {
   "cell_type": "code",
   "execution_count": 19,
   "id": "9aabbcfb",
   "metadata": {},
   "outputs": [
    {
     "name": "stdout",
     "output_type": "stream",
     "text": [
      "total 16\r\n",
      "drwxr-xr-x   8 gbatch  staff   256 19 May 18:22 \u001b[34mLuaAPI\u001b[m\u001b[m/\r\n",
      "drwxr-xr-x  10 gbatch  staff   320 19 May 18:22 \u001b[34mMatlabAPI\u001b[m\u001b[m/\r\n",
      "drwxr-xr-x  15 gbatch  staff   480  9 Jun 17:14 \u001b[34mPythonAPI\u001b[m\u001b[m/\r\n",
      "-rw-r--r--   1 gbatch  staff  1286 19 May 18:22 README.txt\r\n",
      "drwxr-xr-x@ 14 gbatch  staff   448 20 May 11:39 \u001b[34mannotations\u001b[m\u001b[m/\r\n",
      "drwxr-xr-x   6 gbatch  staff   192 19 May 18:22 \u001b[34mcommon\u001b[m\u001b[m/\r\n",
      "drwxr-xr-x   5 gbatch  staff   160 19 May 20:18 \u001b[34mimages\u001b[m\u001b[m/\r\n",
      "-rw-r--r--   1 gbatch  staff  1533 19 May 18:22 license.txt\r\n",
      "drwxr-xr-x   7 gbatch  staff   224 26 May 11:33 \u001b[34mmy_annotations\u001b[m\u001b[m/\r\n",
      "drwxr-xr-x   4 gbatch  staff   128  9 Jun 17:16 \u001b[34mmy_images\u001b[m\u001b[m/\r\n",
      "drwxr-xr-x   7 gbatch  staff   224  1 Jun 19:14 \u001b[34mmy_splits\u001b[m\u001b[m/\r\n",
      "drwxr-xr-x   7 gbatch  staff   224 19 May 18:22 \u001b[34mresults\u001b[m\u001b[m/\r\n"
     ]
    }
   ],
   "source": [
    "%ls -l ../"
   ]
  },
  {
   "cell_type": "code",
   "execution_count": 34,
   "id": "801c1114",
   "metadata": {},
   "outputs": [
    {
     "data": {
      "text/plain": [
       "627"
      ]
     },
     "execution_count": 34,
     "metadata": {},
     "output_type": "execute_result"
    }
   ],
   "source": [
    "for img_id in train1_ids:\n",
    "    img_id_str = str(img_id)\n",
    "    img_name = (12-len(img_id_str)) * '0' + img_id_str + '.jpg'\n",
    "    \n",
    "    # copy\n",
    "    shutil.copy(f'../images/train2017/{img_name}', f'../my_images/train1/{img_name}')\n",
    "    \n",
    "len(os.listdir('../my_images/train1/'))"
   ]
  },
  {
   "cell_type": "code",
   "execution_count": 36,
   "id": "52c91e1e",
   "metadata": {},
   "outputs": [
    {
     "data": {
      "text/plain": [
       "631"
      ]
     },
     "execution_count": 36,
     "metadata": {},
     "output_type": "execute_result"
    }
   ],
   "source": [
    "for img_id in dev1_ids:\n",
    "    img_id_str = str(img_id)\n",
    "    img_name = (12-len(img_id_str)) * '0' + img_id_str + '.jpg'\n",
    "    \n",
    "    # copy\n",
    "    shutil.copy(f'../images/train2017/{img_name}', f'../my_images/dev1/{img_name}')\n",
    "    \n",
    "len(os.listdir('../my_images/dev1/'))"
   ]
  },
  {
   "cell_type": "code",
   "execution_count": null,
   "id": "2ee0f196",
   "metadata": {},
   "outputs": [],
   "source": []
  },
  {
   "cell_type": "code",
   "execution_count": null,
   "id": "685d0818",
   "metadata": {},
   "outputs": [],
   "source": []
  },
  {
   "cell_type": "code",
   "execution_count": null,
   "id": "4a803517",
   "metadata": {},
   "outputs": [],
   "source": []
  }
 ],
 "metadata": {
  "kernelspec": {
   "display_name": "Python [conda env:standard-dl] *",
   "language": "python",
   "name": "conda-env-standard-dl-py"
  },
  "language_info": {
   "codemirror_mode": {
    "name": "ipython",
    "version": 3
   },
   "file_extension": ".py",
   "mimetype": "text/x-python",
   "name": "python",
   "nbconvert_exporter": "python",
   "pygments_lexer": "ipython3",
   "version": "3.9.5"
  }
 },
 "nbformat": 4,
 "nbformat_minor": 5
}
