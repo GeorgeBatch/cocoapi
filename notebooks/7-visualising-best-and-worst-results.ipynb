{
 "cells": [
  {
   "cell_type": "code",
   "execution_count": null,
   "id": "4LdN8P_5GeHk",
   "metadata": {
    "colab": {
     "base_uri": "https://localhost:8080/"
    },
    "executionInfo": {
     "elapsed": 22262,
     "status": "ok",
     "timestamp": 1627307789151,
     "user": {
      "displayName": "George Batchkala",
      "photoUrl": "https://lh3.googleusercontent.com/a-/AOh14GjDONxhSnrmdSTlEhvc2cJI7El4zBMhqZjcA1cl1A=s64",
      "userId": "05060257197849650568"
     },
     "user_tz": -60
    },
    "id": "4LdN8P_5GeHk",
    "outputId": "18daa06f-4ce9-4b6a-d2ff-b87349546948"
   },
   "outputs": [],
   "source": [
    "from google.colab import drive\n",
    "drive.mount('/content/drive')"
   ]
  },
  {
   "cell_type": "code",
   "execution_count": null,
   "id": "BrgI-ZnrGc8P",
   "metadata": {
    "colab": {
     "base_uri": "https://localhost:8080/"
    },
    "executionInfo": {
     "elapsed": 197,
     "status": "ok",
     "timestamp": 1627307837872,
     "user": {
      "displayName": "George Batchkala",
      "photoUrl": "https://lh3.googleusercontent.com/a-/AOh14GjDONxhSnrmdSTlEhvc2cJI7El4zBMhqZjcA1cl1A=s64",
      "userId": "05060257197849650568"
     },
     "user_tz": -60
    },
    "id": "BrgI-ZnrGc8P",
    "outputId": "6d7871ab-794f-4dae-c825-8f321ebd440b"
   },
   "outputs": [],
   "source": [
    "%cd drive/MyDrive/colab_projects/cocoapi/notebooks/"
   ]
  },
  {
   "cell_type": "code",
   "execution_count": null,
   "id": "EnUpFZZKGexO",
   "metadata": {
    "colab": {
     "base_uri": "https://localhost:8080/",
     "height": 35
    },
    "executionInfo": {
     "elapsed": 206,
     "status": "ok",
     "timestamp": 1627307844452,
     "user": {
      "displayName": "George Batchkala",
      "photoUrl": "https://lh3.googleusercontent.com/a-/AOh14GjDONxhSnrmdSTlEhvc2cJI7El4zBMhqZjcA1cl1A=s64",
      "userId": "05060257197849650568"
     },
     "user_tz": -60
    },
    "id": "EnUpFZZKGexO",
    "outputId": "f5d6ef1e-4c45-4867-9808-e129805eb522"
   },
   "outputs": [],
   "source": [
    "%pwd"
   ]
  },
  {
   "cell_type": "markdown",
   "id": "29dc5ecb",
   "metadata": {
    "id": "29dc5ecb"
   },
   "source": [
    "# Visualising Images with best and worst losses"
   ]
  },
  {
   "cell_type": "markdown",
   "id": "TYUUFYkfMRGy",
   "metadata": {
    "id": "TYUUFYkfMRGy"
   },
   "source": [
    "## CONFIG"
   ]
  },
  {
   "cell_type": "code",
   "execution_count": null,
   "id": "ScNydjxULox8",
   "metadata": {
    "executionInfo": {
     "elapsed": 217,
     "status": "ok",
     "timestamp": 1627307851906,
     "user": {
      "displayName": "George Batchkala",
      "photoUrl": "https://lh3.googleusercontent.com/a-/AOh14GjDONxhSnrmdSTlEhvc2cJI7El4zBMhqZjcA1cl1A=s64",
      "userId": "05060257197849650568"
     },
     "user_tz": -60
    },
    "id": "ScNydjxULox8"
   },
   "outputs": [],
   "source": [
    "MODEL_NAMES = [\n",
    "    'baseline-Adam-2021-06-11',\n",
    "    'strong-aug-not-so-long-Adam-2021-06-14',\n",
    "    '2-layer-head_dropout=0.8_wd=0.1_2021-06-16',\n",
    "    'gated-attention_dilated-block=True_resnet18_wd=0_2021-06-30'\n",
    "]\n",
    "\n",
    "MODEL_NAME = 'gated-attention_dilated-block=True_resnet18_wd=0_2021-06-30'\n",
    "assert MODEL_NAME in MODEL_NAMES"
   ]
  },
  {
   "cell_type": "markdown",
   "id": "2aae0a07",
   "metadata": {
    "id": "2aae0a07"
   },
   "source": [
    "## Model Descriptions\n",
    "\n",
    "* batch size: 32\n",
    "* augmentation\n",
    "    * baseline train transforms: **at the beginning**\n",
    "        1. resize (224x224)\n",
    "        2. RandomHorizontalFlip(p=0.5)\n",
    "        3. Normalize (ImageNet constants)\n",
    "    * SimCLR train transforms: starting from **strong-aug-longer-Adam-2021-06-14**\n",
    "        1. resize (224x224) - the only step not like in SimCLR\n",
    "        2. Random Horizontal Flip\n",
    "        3. Random  Color Distortion\n",
    "        4. Random Gaussian Blur\n",
    "    * dev transforms: **always for dev set**\n",
    "        1. resize (224x224)\n",
    "        2. Normalize (ImageNet constants)\n"
   ]
  },
  {
   "cell_type": "markdown",
   "id": "cvtHB6K_LuNJ",
   "metadata": {
    "id": "cvtHB6K_LuNJ"
   },
   "source": [
    "### baseline-Adam-2021-06-11"
   ]
  },
  {
   "cell_type": "markdown",
   "id": "wkfSDKc7L-Ep",
   "metadata": {
    "id": "wkfSDKc7L-Ep"
   },
   "source": [
    "Last layer training\n",
    "* epochs: 4 (0, ..., 3)\n",
    "* optimizer: **Adam(lr=1e-3)**\n",
    "* scheduler: StepLR(step_size=2, gamma=0.1)\n",
    "* learning rate alpha:\n",
    "    * epochs 0, 1: 1e-3\n",
    "    * epochs 2, 3: 1e-4\n",
    "* weight_decay=0\n",
    "    \n",
    "All layers training\n",
    "* epochs: 10 (4, 5, ..., 13)\n",
    "* optimizer: **Adam(lr=1e-4)**\n",
    "* scheduler: StepLR(step_size=5, gamma=0.1)\n",
    "* learning rate alpha:\n",
    "    * epochs 4, ..., 8: 1e-4\n",
    "    * epochs 9, ..., 13: 1e-5\n",
    "* **weight_decay=0**"
   ]
  },
  {
   "cell_type": "markdown",
   "id": "-rwvY0QvxXL1",
   "metadata": {
    "id": "-rwvY0QvxXL1"
   },
   "source": [
    "### strong-aug-not-so-long-Adam-2021-06-14"
   ]
  },
  {
   "cell_type": "markdown",
   "id": "cQpt-wAKxX9E",
   "metadata": {
    "id": "cQpt-wAKxX9E"
   },
   "source": [
    "Last layer training\n",
    "* **epochs: 6 (0, ..., 6)**\n",
    "* **optimizer: Adam(lr=1e-2)**\n",
    "* scheduler: StepLR(**step_size=3**, gamma=0.1)\n",
    "* learning rate alpha:\n",
    "    * **epochs 0, 1, 2: 1e-2**\n",
    "    * **epochs 3, 4, 5: 1e-3**\n",
    "* weight_decay=0\n",
    "    \n",
    "All layers training\n",
    "* **epochs: 10 (6, 7, ..., 15)**\n",
    "* optimizer: Adam(lr=1e-4)\n",
    "* scheduler: StepLR(**step_size=5**, gamma=0.1)\n",
    "* learning rate alpha:\n",
    "    * **epochs 6, ..., 10: 1e-4**\n",
    "    * **epochs 11, ..., 15: 1e-5**\n",
    "* weight_decay=0"
   ]
  },
  {
   "cell_type": "markdown",
   "id": "cfab89c6",
   "metadata": {
    "id": "cfab89c6"
   },
   "source": [
    "### 2-layer-head_dropout=0.8_wd=0.1_2021-06-16"
   ]
  },
  {
   "cell_type": "markdown",
   "id": "d90f7273",
   "metadata": {
    "id": "d90f7273"
   },
   "source": [
    "Last 2 layers training\n",
    "* epochs: 8 (0, ..., 7)\n",
    "* optimizer: Adam(lr=1e-2)\n",
    "* scheduler: StepLR(step_size=6, gamma=0.1)\n",
    "* learning rate alpha:\n",
    "    * epochs 0, 1, 2, 3: 1e-2\n",
    "    * epochs 4, 5, 6, 7: 1e-3\n",
    "* weight_decay=0\n",
    "* dropout_prob=0\n",
    "    \n",
    "All layers training\n",
    "* epochs: 10 (6, 7, ..., 15)\n",
    "* optimizer: Adam(lr=1e-4)\n",
    "* scheduler: StepLR(step_size=5, gamma=0.1)\n",
    "* learning rate alpha:\n",
    "    * epochs 6, ..., 10: 1e-4\n",
    "    * epochs 11, ..., 15: 1e-5\n",
    "* **weight_decay=0.1**\n",
    "* dropout_prob=0.8"
   ]
  },
  {
   "cell_type": "markdown",
   "id": "48692d30",
   "metadata": {},
   "source": [
    "### gated-attention_dilated-block=True_resnet18_wd=0_2021-06-30"
   ]
  },
  {
   "cell_type": "markdown",
   "id": "1850e59c",
   "metadata": {},
   "source": [
    "**Attention head** training\n",
    "* epochs: 8 (0, ..., 7)\n",
    "* optimizer: Adam(lr=1e-2)\n",
    "* scheduler: StepLR(step_size=6, gamma=0.1)\n",
    "* learning rate alpha:\n",
    "    * epochs 0, 1, 2, 3, 4, 5: 1e-2\n",
    "    * epochs 6, 7: 1e-3\n",
    "* weight_decay=0\n",
    "    \n",
    "All layers training\n",
    "* epochs: 14 (8, 9, ..., 21)\n",
    "* optimizer: Adam(lr=1e-4)\n",
    "* scheduler: StepLR(step_size=10, gamma=0.1)\n",
    "* learning rate alpha:\n",
    "    * epochs 8, ..., 17: 1e-4\n",
    "    * epochs 18, ..., 21: 1e-5\n",
    "* **weight_decay=0**\n",
    "* **USE_DILATED_BLOCK = True**\n",
    "\n",
    "Reason: need better representation"
   ]
  },
  {
   "cell_type": "markdown",
   "id": "f73e6307",
   "metadata": {
    "id": "f73e6307"
   },
   "source": [
    "## Imports"
   ]
  },
  {
   "cell_type": "code",
   "execution_count": null,
   "id": "a0e777a1",
   "metadata": {
    "executionInfo": {
     "elapsed": 4331,
     "status": "ok",
     "timestamp": 1627307886390,
     "user": {
      "displayName": "George Batchkala",
      "photoUrl": "https://lh3.googleusercontent.com/a-/AOh14GjDONxhSnrmdSTlEhvc2cJI7El4zBMhqZjcA1cl1A=s64",
      "userId": "05060257197849650568"
     },
     "user_tz": -60
    },
    "id": "a0e777a1"
   },
   "outputs": [],
   "source": [
    "import os\n",
    "import copy\n",
    "\n",
    "import json\n",
    "import numpy as np\n",
    "import pandas as pd\n",
    "import matplotlib.pyplot as plt\n",
    "\n",
    "import torch\n",
    "from torch import nn\n",
    "from torch.nn import functional as F\n",
    "from torch.utils.data import Dataset\n",
    "from torch.utils.data import DataLoader\n",
    "\n",
    "import torchvision\n",
    "from torchvision.io import read_image\n",
    "from torchvision import datasets, models, transforms\n",
    "\n",
    "from tqdm.notebook import trange, tqdm"
   ]
  },
  {
   "cell_type": "code",
   "execution_count": null,
   "id": "nTbQwoe5ymZr",
   "metadata": {
    "colab": {
     "base_uri": "https://localhost:8080/",
     "height": 35
    },
    "executionInfo": {
     "elapsed": 5,
     "status": "ok",
     "timestamp": 1627307886391,
     "user": {
      "displayName": "George Batchkala",
      "photoUrl": "https://lh3.googleusercontent.com/a-/AOh14GjDONxhSnrmdSTlEhvc2cJI7El4zBMhqZjcA1cl1A=s64",
      "userId": "05060257197849650568"
     },
     "user_tz": -60
    },
    "id": "nTbQwoe5ymZr",
    "outputId": "9cde21b8-1f68-47e4-ad11-4df1e402194f"
   },
   "outputs": [],
   "source": [
    "device = \"cuda:0\" if torch.cuda.is_available() else \"cpu\"\n",
    "device"
   ]
  },
  {
   "cell_type": "code",
   "execution_count": null,
   "id": "484334c3",
   "metadata": {
    "colab": {
     "base_uri": "https://localhost:8080/"
    },
    "executionInfo": {
     "elapsed": 2208,
     "status": "ok",
     "timestamp": 1627307891785,
     "user": {
      "displayName": "George Batchkala",
      "photoUrl": "https://lh3.googleusercontent.com/a-/AOh14GjDONxhSnrmdSTlEhvc2cJI7El4zBMhqZjcA1cl1A=s64",
      "userId": "05060257197849650568"
     },
     "user_tz": -60
    },
    "id": "484334c3",
    "outputId": "529a6d7d-4531-460d-ea2c-e6c06cb18fa7"
   },
   "outputs": [],
   "source": [
    "%cd ../utils/\n",
    "\n",
    "from config import CATEGORIES_OF_INTEREST\n",
    "from config import IMG_SIZE, NORMALIZATION_MEAN, NORMALIZATION_STD\n",
    "\n",
    "from my_transforms import baseline_train_transforms, SimCLR_train_transforms, dev_transforms\n",
    "\n",
    "from my_dataloaders import CocoNoCropping\n",
    "\n",
    "from my_visualizations import imshow_from_normalized\n",
    "\n",
    "%cd ../notebooks/"
   ]
  },
  {
   "cell_type": "code",
   "execution_count": null,
   "id": "7eff3841",
   "metadata": {
    "colab": {
     "base_uri": "https://localhost:8080/"
    },
    "executionInfo": {
     "elapsed": 2168,
     "status": "ok",
     "timestamp": 1627307893949,
     "user": {
      "displayName": "George Batchkala",
      "photoUrl": "https://lh3.googleusercontent.com/a-/AOh14GjDONxhSnrmdSTlEhvc2cJI7El4zBMhqZjcA1cl1A=s64",
      "userId": "05060257197849650568"
     },
     "user_tz": -60
    },
    "id": "7eff3841",
    "outputId": "33559dde-6328-439b-f703-a34e3ecefefd"
   },
   "outputs": [],
   "source": [
    "%cd ../models/\n",
    "from george_model import get_resnet, GatedAttentionModule\n",
    "%cd ../notebooks/"
   ]
  },
  {
   "cell_type": "markdown",
   "id": "8d5fbccf",
   "metadata": {
    "id": "8d5fbccf"
   },
   "source": [
    "## Transforms, Datasets, and Data Loaders"
   ]
  },
  {
   "cell_type": "code",
   "execution_count": null,
   "id": "8174b217",
   "metadata": {
    "executionInfo": {
     "elapsed": 650,
     "status": "ok",
     "timestamp": 1627308382454,
     "user": {
      "displayName": "George Batchkala",
      "photoUrl": "https://lh3.googleusercontent.com/a-/AOh14GjDONxhSnrmdSTlEhvc2cJI7El4zBMhqZjcA1cl1A=s64",
      "userId": "05060257197849650568"
     },
     "user_tz": -60
    },
    "id": "8174b217"
   },
   "outputs": [],
   "source": [
    "dev1_dataset = CocoNoCropping(\n",
    "    img_ids = '../my_splits/dev1_ids.txt',\n",
    "    my_annotations_file = '../my_annotations/imgIds_to_labels_train2017.json',\n",
    "    img_dir = '../my_images/dev1/',\n",
    "    transform=dev_transforms,\n",
    "    divide_by_255=True,\n",
    "    return_image_details=False\n",
    ")\n",
    "\n",
    "dev1_error_analysis_dataset = CocoNoCropping(\n",
    "    img_ids = '../my_splits/dev1_ids.txt',\n",
    "    my_annotations_file = '../my_annotations/imgIds_to_labels_train2017.json',\n",
    "    img_dir = '../my_images/dev1/',\n",
    "    transform=dev_transforms,\n",
    "    divide_by_255=True,\n",
    "    return_image_details=True # difference\n",
    ")"
   ]
  },
  {
   "cell_type": "code",
   "execution_count": null,
   "id": "53b3ddf2",
   "metadata": {
    "executionInfo": {
     "elapsed": 4,
     "status": "ok",
     "timestamp": 1627308382455,
     "user": {
      "displayName": "George Batchkala",
      "photoUrl": "https://lh3.googleusercontent.com/a-/AOh14GjDONxhSnrmdSTlEhvc2cJI7El4zBMhqZjcA1cl1A=s64",
      "userId": "05060257197849650568"
     },
     "user_tz": -60
    },
    "id": "53b3ddf2"
   },
   "outputs": [],
   "source": [
    "# droplast=False by default, addressed the problem of total % batch_size != 0 via reduction='sum' in the loss\n",
    "\n",
    "# for visualization\n",
    "example_dataloader = DataLoader(dev1_error_analysis_dataset, batch_size=8, shuffle=True)\n",
    "\n",
    "# for error analysis\n",
    "dev1_error_analysis_dataloader = DataLoader(dev1_error_analysis_dataset, batch_size=32, shuffle=False)\n",
    "dev1_dataloader = DataLoader(dev1_dataset, batch_size=32, shuffle=False)"
   ]
  },
  {
   "cell_type": "markdown",
   "id": "bdced509",
   "metadata": {
    "id": "bdced509"
   },
   "source": [
    "## Visualize a few images"
   ]
  },
  {
   "cell_type": "code",
   "execution_count": null,
   "id": "5c91e95c",
   "metadata": {
    "colab": {
     "base_uri": "https://localhost:8080/",
     "height": 1000,
     "output_embedded_package_id": "1GsVvqnw41QoQNfVsBZ3rac0VKgcSvyJw"
    },
    "executionInfo": {
     "elapsed": 24030,
     "status": "ok",
     "timestamp": 1627307922426,
     "user": {
      "displayName": "George Batchkala",
      "photoUrl": "https://lh3.googleusercontent.com/a-/AOh14GjDONxhSnrmdSTlEhvc2cJI7El4zBMhqZjcA1cl1A=s64",
      "userId": "05060257197849650568"
     },
     "user_tz": -60
    },
    "id": "5c91e95c",
    "outputId": "53682bf9-3fa8-41e3-f0da-0d5cebf0dfe2"
   },
   "outputs": [],
   "source": [
    "LIMIT = 5\n",
    "for i, batch in enumerate(example_dataloader):\n",
    "    inputs, labels, image_ids = batch['image'], batch['label'], batch['image_id']\n",
    "\n",
    "    # Make a grid from batch\n",
    "    out = torchvision.utils.make_grid(inputs)\n",
    "\n",
    "    plt.subplots(figsize=(18, 3))\n",
    "    imshow_from_normalized(out)\n",
    "    \n",
    "    df = pd.DataFrame({CATEGORIES_OF_INTEREST[i]: labels[i].numpy() for i in range(len(labels))})\n",
    "    df.index = image_ids # index with image ids\n",
    "    display(df)\n",
    "        \n",
    "    if i == LIMIT:\n",
    "        break"
   ]
  },
  {
   "cell_type": "markdown",
   "id": "lxlCpz7iTKiE",
   "metadata": {
    "id": "lxlCpz7iTKiE"
   },
   "source": [
    "## Make and load the model"
   ]
  },
  {
   "cell_type": "code",
   "execution_count": null,
   "id": "e846f0ce",
   "metadata": {
    "executionInfo": {
     "elapsed": 197,
     "status": "ok",
     "timestamp": 1627310977487,
     "user": {
      "displayName": "George Batchkala",
      "photoUrl": "https://lh3.googleusercontent.com/a-/AOh14GjDONxhSnrmdSTlEhvc2cJI7El4zBMhqZjcA1cl1A=s64",
      "userId": "05060257197849650568"
     },
     "user_tz": -60
    },
    "id": "e846f0ce"
   },
   "outputs": [],
   "source": [
    "def load_pre_trained_model(model_name):\n",
    "\n",
    "    # sanity check\n",
    "    assert model_name in MODEL_NAMES\n",
    "\n",
    "    if model_name == 'gated-attention_dilated-block=True_resnet18_wd=0_2021-06-30':\n",
    "        # resnet\n",
    "        headless_resnet18 = get_resnet(arch='resnet18', pretrained=False, include_top=False)\n",
    "        # attention head\n",
    "        gated_attention_model = GatedAttentionModule(num_classes=len(CATEGORIES_OF_INTEREST),\n",
    "                                                    use_dilated_block=True)\n",
    "        # combined model\n",
    "        model_ft = nn.Sequential()\n",
    "        model_ft.add_module('resnet', headless_resnet18)\n",
    "        model_ft.add_module('attention_head', gated_attention_model)\n",
    "    else:\n",
    "        model_ft = models.resnet18(pretrained=True)\n",
    "        num_ftrs = model_ft.fc.in_features\n",
    "\n",
    "        if model_name == 'baseline-Adam-2021-06-11' or model_name == 'strong-aug-not-so-long-Adam-2021-06-14':\n",
    "            model_ft.fc = nn.Linear(num_ftrs, len(CATEGORIES_OF_INTEREST))\n",
    "        elif model_name == '2-layer-head_dropout=0.8_wd=0.1_2021-06-16':\n",
    "            # replace with 2 layers like in SimCLR\n",
    "            interm_num_ftrs = 64\n",
    "            model_ft.fc = nn.Sequential(\n",
    "                nn.Linear(num_ftrs, interm_num_ftrs),\n",
    "                nn.Dropout(p=0.8), # p - dropout probability\n",
    "                nn.Linear(interm_num_ftrs, len(CATEGORIES_OF_INTEREST))\n",
    "            )\n",
    "        else:\n",
    "            assert False, \"Model name scenario not addressed\"\n",
    "        \n",
    "    model_ft.load_state_dict(torch.load(f'../weights/{model_name}.pth', map_location=torch.device(device)))\n",
    "\n",
    "    # place it on the device\n",
    "    model_ft = model_ft.to(device)\n",
    "\n",
    "    return model_ft"
   ]
  },
  {
   "cell_type": "code",
   "execution_count": null,
   "id": "a2YuxDI_RMR0",
   "metadata": {
    "executionInfo": {
     "elapsed": 565,
     "status": "ok",
     "timestamp": 1627310982707,
     "user": {
      "displayName": "George Batchkala",
      "photoUrl": "https://lh3.googleusercontent.com/a-/AOh14GjDONxhSnrmdSTlEhvc2cJI7El4zBMhqZjcA1cl1A=s64",
      "userId": "05060257197849650568"
     },
     "user_tz": -60
    },
    "id": "a2YuxDI_RMR0"
   },
   "outputs": [],
   "source": [
    "model_ft = load_pre_trained_model(model_name=MODEL_NAME)"
   ]
  },
  {
   "cell_type": "code",
   "execution_count": null,
   "id": "Ao5LaLBhJeHR",
   "metadata": {
    "executionInfo": {
     "elapsed": 219,
     "status": "ok",
     "timestamp": 1627310987952,
     "user": {
      "displayName": "George Batchkala",
      "photoUrl": "https://lh3.googleusercontent.com/a-/AOh14GjDONxhSnrmdSTlEhvc2cJI7El4zBMhqZjcA1cl1A=s64",
      "userId": "05060257197849650568"
     },
     "user_tz": -60
    },
    "id": "Ao5LaLBhJeHR"
   },
   "outputs": [],
   "source": [
    "criterion = torch.nn.BCEWithLogitsLoss(reduction='none')\n",
    "criterion_with_sum_reduction = torch.nn.BCEWithLogitsLoss(reduction='sum')"
   ]
  },
  {
   "cell_type": "markdown",
   "id": "z1yQD1DMIT-9",
   "metadata": {
    "id": "z1yQD1DMIT-9"
   },
   "source": [
    "### Define evaluation functions"
   ]
  },
  {
   "cell_type": "code",
   "execution_count": null,
   "id": "VjIk0b-xIQ5f",
   "metadata": {
    "executionInfo": {
     "elapsed": 219,
     "status": "ok",
     "timestamp": 1627310988395,
     "user": {
      "displayName": "George Batchkala",
      "photoUrl": "https://lh3.googleusercontent.com/a-/AOh14GjDONxhSnrmdSTlEhvc2cJI7El4zBMhqZjcA1cl1A=s64",
      "userId": "05060257197849650568"
     },
     "user_tz": -60
    },
    "id": "VjIk0b-xIQ5f"
   },
   "outputs": [],
   "source": [
    "def evaluate(iterator, model, criterion):\n",
    "    total = 0\n",
    "    epoch_loss = 0\n",
    "    per_class_correct = torch.zeros(4)\n",
    "    \n",
    "    for batch in tqdm(iterator, desc='dev'):\n",
    "        \n",
    "        # no need for gradients, batch-norm and dropout in evaluation mode\n",
    "        model.eval()\n",
    "        with torch.no_grad():\n",
    "            \n",
    "            inputs = batch['image'].to(device) # [batch size, channel, h, w]\n",
    "            #print(inputs.shape, inputs.dtype)\n",
    "            # right now, `labels` is a list with num_classes tensors, each tensor with batch_size of labels (integers)\n",
    "            labels = torch.vstack(batch['label']).T.contiguous().to(torch.float32).to(device)\n",
    "            #print(labels.shape, labels.dtype, labels.is_contiguous()) # labels\n",
    "            total += labels.shape[0]\n",
    "\n",
    "            outputs = model(inputs) #logits\n",
    "            #print(outputs.shape, outputs.dtype, outputs.is_contiguous())\n",
    "            #print(outputs)\n",
    "\n",
    "            loss = criterion(outputs, labels)\n",
    "            epoch_loss += loss.item() # no need to drag \n",
    "            #print(loss.item())\n",
    "\n",
    "            preds = (outputs > 0.5).detach().to(torch.int32) # no need to drag the gradients\n",
    "            #print(preds)\n",
    "            per_class_correct += (preds.cpu() == labels.cpu()).sum(0) # 0-th axis for batch_size\n",
    "            #print(per_class_correct)\n",
    "    \n",
    "    avg_epoch_loss = epoch_loss / total\n",
    "    avg_per_class_acc = per_class_correct / total\n",
    "    \n",
    "    return avg_epoch_loss, avg_per_class_acc"
   ]
  },
  {
   "cell_type": "code",
   "execution_count": null,
   "id": "c8222b43",
   "metadata": {
    "executionInfo": {
     "elapsed": 3,
     "status": "ok",
     "timestamp": 1627310988931,
     "user": {
      "displayName": "George Batchkala",
      "photoUrl": "https://lh3.googleusercontent.com/a-/AOh14GjDONxhSnrmdSTlEhvc2cJI7El4zBMhqZjcA1cl1A=s64",
      "userId": "05060257197849650568"
     },
     "user_tz": -60
    },
    "id": "c8222b43"
   },
   "outputs": [],
   "source": [
    "def evaluate_and_record_losses(iterator, model, criterion):\n",
    "    losses = []\n",
    "    correct_predictions = []\n",
    "    image_ids = []\n",
    "    image_paths = []\n",
    "    all_labels = []\n",
    "    all_preds = []\n",
    "    \n",
    "    for batch in tqdm(iterator, desc='dev'):\n",
    "        \n",
    "        # no need for gradients, batch-norm and dropout in evaluation mode\n",
    "        model.eval()\n",
    "        with torch.no_grad():\n",
    "            \n",
    "            inputs = batch['image'].to(device) # [batch size, channel, h, w]\n",
    "            #print(inputs.shape, inputs.dtype)\n",
    "            # right now, `labels` is a list with num_classes tensors, each tensor with batch_size of labels (integers)\n",
    "            labels = torch.vstack(batch['label']).T.contiguous().to(torch.float32).to(device)\n",
    "            #print(labels.shape, labels.dtype, labels.is_contiguous()) # labels\n",
    "            \n",
    "\n",
    "            outputs = model(inputs) #logits\n",
    "            #print(outputs.shape, outputs.dtype, outputs.is_contiguous())\n",
    "            #print(outputs)\n",
    "            \n",
    "            # reduction='none'\n",
    "            loss = criterion(outputs, labels)\n",
    "            #print(loss.item())\n",
    "\n",
    "            preds = (outputs > 0.5).detach().to(torch.int32) # no need to drag the gradients\n",
    "            #print(preds)\n",
    "            \n",
    "            image_ids.extend(batch['image_id'])\n",
    "            image_paths.extend(batch['image_path'])\n",
    "            losses.extend(loss.detach().cpu())\n",
    "            correct_predictions.extend(preds.cpu() == labels.cpu())\n",
    "            all_labels.extend(labels.cpu())\n",
    "            all_preds.extend(preds.cpu())\n",
    "                \n",
    "    out = {\n",
    "        'image_ids': image_ids,\n",
    "        'image_paths': image_paths,\n",
    "        'losses': losses,\n",
    "        'correct_predictions': correct_predictions,\n",
    "        'labels': all_labels,\n",
    "        'preds': all_preds\n",
    "    }\n",
    "    \n",
    "    return out"
   ]
  },
  {
   "cell_type": "code",
   "execution_count": null,
   "id": "ZKCAi1AFIbvr",
   "metadata": {
    "executionInfo": {
     "elapsed": 3,
     "status": "ok",
     "timestamp": 1627310989711,
     "user": {
      "displayName": "George Batchkala",
      "photoUrl": "https://lh3.googleusercontent.com/a-/AOh14GjDONxhSnrmdSTlEhvc2cJI7El4zBMhqZjcA1cl1A=s64",
      "userId": "05060257197849650568"
     },
     "user_tz": -60
    },
    "id": "ZKCAi1AFIbvr"
   },
   "outputs": [],
   "source": []
  },
  {
   "cell_type": "markdown",
   "id": "4878c9cc",
   "metadata": {
    "executionInfo": {
     "elapsed": 334,
     "status": "ok",
     "timestamp": 1623862646008,
     "user": {
      "displayName": "George Batchkala",
      "photoUrl": "https://lh3.googleusercontent.com/a-/AOh14GjDONxhSnrmdSTlEhvc2cJI7El4zBMhqZjcA1cl1A=s64",
      "userId": "05060257197849650568"
     },
     "user_tz": -60
    },
    "id": "4878c9cc"
   },
   "source": [
    "## Evaluate the model"
   ]
  },
  {
   "cell_type": "code",
   "execution_count": null,
   "id": "vjAX5BvdIThl",
   "metadata": {
    "colab": {
     "base_uri": "https://localhost:8080/",
     "height": 100,
     "referenced_widgets": [
      "9ffc3eb3d0f442cdb2866fb5a021d64f",
      "47c004ab2a934cdd9640c16e8dd06aa6",
      "7fe6ade07ab7456288800587c1b9ff88",
      "60b999186fcc4620a6fcc1317f36b525",
      "4178711dbec748b4ac2fc1a492e307c5",
      "837a32caeb4d4d5cbb35314cb30feeb5",
      "cee1d1ded3cf47208c215d314d909a61",
      "3b91afd9d3504a70993cffbe49caa9b1"
     ]
    },
    "executionInfo": {
     "elapsed": 6385,
     "status": "ok",
     "timestamp": 1627310997207,
     "user": {
      "displayName": "George Batchkala",
      "photoUrl": "https://lh3.googleusercontent.com/a-/AOh14GjDONxhSnrmdSTlEhvc2cJI7El4zBMhqZjcA1cl1A=s64",
      "userId": "05060257197849650568"
     },
     "user_tz": -60
    },
    "id": "vjAX5BvdIThl",
    "outputId": "81a46755-bf16-4f27-acc4-50751a48ab0e"
   },
   "outputs": [],
   "source": [
    "print(MODEL_NAME)\n",
    "loss, per_class_accs = evaluate(iterator=dev1_dataloader, model=model_ft, criterion=criterion_with_sum_reduction)\n",
    "print(loss, per_class_accs, per_class_accs.mean())"
   ]
  },
  {
   "cell_type": "code",
   "execution_count": null,
   "id": "TMOPWGTBIhLY",
   "metadata": {
    "executionInfo": {
     "elapsed": 197,
     "status": "ok",
     "timestamp": 1627310999779,
     "user": {
      "displayName": "George Batchkala",
      "photoUrl": "https://lh3.googleusercontent.com/a-/AOh14GjDONxhSnrmdSTlEhvc2cJI7El4zBMhqZjcA1cl1A=s64",
      "userId": "05060257197849650568"
     },
     "user_tz": -60
    },
    "id": "TMOPWGTBIhLY"
   },
   "outputs": [],
   "source": []
  },
  {
   "cell_type": "code",
   "execution_count": null,
   "id": "SjytcAe7GTXs",
   "metadata": {
    "colab": {
     "base_uri": "https://localhost:8080/",
     "height": 83,
     "referenced_widgets": [
      "1fc80f80528a46c48e81f0cbc801a75e",
      "1d8d9256c5c84a258ecde2213055319d",
      "e9694ecb6b864b4ab71a31a4f5c361eb",
      "0f2636431ed34740ae284bfde292fc91",
      "9c429709362e4d499fb7781d9411f591",
      "172e598ba44a44639de2228d38c8a134",
      "e04bd02bc1004f99ab137c4b97897fdc",
      "a436dd5d43d14c1bbc7d8b62fd20336d"
     ]
    },
    "executionInfo": {
     "elapsed": 6336,
     "status": "ok",
     "timestamp": 1627311006933,
     "user": {
      "displayName": "George Batchkala",
      "photoUrl": "https://lh3.googleusercontent.com/a-/AOh14GjDONxhSnrmdSTlEhvc2cJI7El4zBMhqZjcA1cl1A=s64",
      "userId": "05060257197849650568"
     },
     "user_tz": -60
    },
    "id": "SjytcAe7GTXs",
    "outputId": "f1597ed7-b068-4905-fbb1-adfc3a49e384"
   },
   "outputs": [],
   "source": [
    "print(MODEL_NAME)\n",
    "result = evaluate_and_record_losses(iterator=dev1_error_analysis_dataloader, model=model_ft, criterion=criterion)"
   ]
  },
  {
   "cell_type": "code",
   "execution_count": null,
   "id": "80785aaa",
   "metadata": {
    "executionInfo": {
     "elapsed": 206,
     "status": "ok",
     "timestamp": 1627311009307,
     "user": {
      "displayName": "George Batchkala",
      "photoUrl": "https://lh3.googleusercontent.com/a-/AOh14GjDONxhSnrmdSTlEhvc2cJI7El4zBMhqZjcA1cl1A=s64",
      "userId": "05060257197849650568"
     },
     "user_tz": -60
    },
    "id": "80785aaa"
   },
   "outputs": [],
   "source": [
    "image_ids = result['image_ids']\n",
    "image_paths = result['image_paths']\n",
    "\n",
    "labels_np = torch.vstack(result['labels']).numpy()\n",
    "preds_np = torch.vstack(result['preds']).numpy()\n",
    "correct_predictions_np = torch.vstack(result['correct_predictions']).numpy()\n",
    "losses_np = torch.vstack(result['losses']).numpy()"
   ]
  },
  {
   "cell_type": "code",
   "execution_count": null,
   "id": "b9499102",
   "metadata": {
    "colab": {
     "base_uri": "https://localhost:8080/"
    },
    "executionInfo": {
     "elapsed": 194,
     "status": "ok",
     "timestamp": 1627311010389,
     "user": {
      "displayName": "George Batchkala",
      "photoUrl": "https://lh3.googleusercontent.com/a-/AOh14GjDONxhSnrmdSTlEhvc2cJI7El4zBMhqZjcA1cl1A=s64",
      "userId": "05060257197849650568"
     },
     "user_tz": -60
    },
    "id": "b9499102",
    "outputId": "80b55d1f-0ec5-4c7a-d9be-a30b33983ddb"
   },
   "outputs": [],
   "source": [
    "len(image_ids), len(image_paths), losses_np.shape, correct_predictions_np.shape, labels_np.shape, preds_np.shape"
   ]
  },
  {
   "cell_type": "code",
   "execution_count": null,
   "id": "247d77e6",
   "metadata": {
    "executionInfo": {
     "elapsed": 1,
     "status": "ok",
     "timestamp": 1627311010586,
     "user": {
      "displayName": "George Batchkala",
      "photoUrl": "https://lh3.googleusercontent.com/a-/AOh14GjDONxhSnrmdSTlEhvc2cJI7El4zBMhqZjcA1cl1A=s64",
      "userId": "05060257197849650568"
     },
     "user_tz": -60
    },
    "id": "247d77e6"
   },
   "outputs": [],
   "source": [
    "ids_to_paths = {image_ids[i]: image_paths[i] for i in range(len(image_ids))}\n",
    "ids_to_labels = {image_ids[i]: list(labels_np[i,:].astype(int)) for i in range(len(image_ids))}\n",
    "ids_to_preds = {image_ids[i]: list(preds_np[i,:].astype(int)) for i in range(len(image_ids))}"
   ]
  },
  {
   "cell_type": "code",
   "execution_count": null,
   "id": "0d5be9b7",
   "metadata": {
    "executionInfo": {
     "elapsed": 208,
     "status": "ok",
     "timestamp": 1627311012162,
     "user": {
      "displayName": "George Batchkala",
      "photoUrl": "https://lh3.googleusercontent.com/a-/AOh14GjDONxhSnrmdSTlEhvc2cJI7El4zBMhqZjcA1cl1A=s64",
      "userId": "05060257197849650568"
     },
     "user_tz": -60
    },
    "id": "0d5be9b7"
   },
   "outputs": [],
   "source": []
  },
  {
   "cell_type": "code",
   "execution_count": null,
   "id": "375cebee",
   "metadata": {
    "executionInfo": {
     "elapsed": 2,
     "status": "ok",
     "timestamp": 1627311012699,
     "user": {
      "displayName": "George Batchkala",
      "photoUrl": "https://lh3.googleusercontent.com/a-/AOh14GjDONxhSnrmdSTlEhvc2cJI7El4zBMhqZjcA1cl1A=s64",
      "userId": "05060257197849650568"
     },
     "user_tz": -60
    },
    "id": "375cebee"
   },
   "outputs": [],
   "source": [
    "ids_to_performances = {\n",
    "    \"id\": image_ids,\n",
    "    \"total_loss\": losses_np.sum(1),\n",
    "    \"n_correct\": correct_predictions_np.sum(1),\n",
    "}\n",
    "\n",
    "for i in range(len(CATEGORIES_OF_INTEREST)):\n",
    "    # correct label per category of interest\n",
    "    ids_to_performances[f\"label_{CATEGORIES_OF_INTEREST[i]}\"] = labels_np[:, i].astype(int)\n",
    "    # predicted label per category of interest\n",
    "    ids_to_performances[f\"pred_{CATEGORIES_OF_INTEREST[i]}\"] = preds_np[:, i].astype(int)\n",
    "    # correct prediction made per category of interest\n",
    "    ids_to_performances[f\"correct_{CATEGORIES_OF_INTEREST[i]}\"] = correct_predictions_np[:, i]\n",
    "    # loss per category of interest\n",
    "    ids_to_performances[f\"loss_{CATEGORIES_OF_INTEREST[i]}\"] = losses_np[:, i]"
   ]
  },
  {
   "cell_type": "code",
   "execution_count": null,
   "id": "8945a7e8",
   "metadata": {
    "executionInfo": {
     "elapsed": 2,
     "status": "ok",
     "timestamp": 1627311013200,
     "user": {
      "displayName": "George Batchkala",
      "photoUrl": "https://lh3.googleusercontent.com/a-/AOh14GjDONxhSnrmdSTlEhvc2cJI7El4zBMhqZjcA1cl1A=s64",
      "userId": "05060257197849650568"
     },
     "user_tz": -60
    },
    "id": "8945a7e8"
   },
   "outputs": [],
   "source": []
  },
  {
   "cell_type": "code",
   "execution_count": null,
   "id": "9c1e00cc",
   "metadata": {
    "executionInfo": {
     "elapsed": 3,
     "status": "ok",
     "timestamp": 1627311013956,
     "user": {
      "displayName": "George Batchkala",
      "photoUrl": "https://lh3.googleusercontent.com/a-/AOh14GjDONxhSnrmdSTlEhvc2cJI7El4zBMhqZjcA1cl1A=s64",
      "userId": "05060257197849650568"
     },
     "user_tz": -60
    },
    "id": "9c1e00cc"
   },
   "outputs": [],
   "source": [
    "METRIC = 'total_loss'"
   ]
  },
  {
   "cell_type": "code",
   "execution_count": null,
   "id": "RVvRmux9mP6t",
   "metadata": {
    "colab": {
     "base_uri": "https://localhost:8080/",
     "height": 470
    },
    "executionInfo": {
     "elapsed": 263,
     "status": "ok",
     "timestamp": 1627311014641,
     "user": {
      "displayName": "George Batchkala",
      "photoUrl": "https://lh3.googleusercontent.com/a-/AOh14GjDONxhSnrmdSTlEhvc2cJI7El4zBMhqZjcA1cl1A=s64",
      "userId": "05060257197849650568"
     },
     "user_tz": -60
    },
    "id": "RVvRmux9mP6t",
    "outputId": "7b255603-3d76-4da7-d753-b201e013fdea"
   },
   "outputs": [],
   "source": [
    "ids_to_performances_df = pd.DataFrame(ids_to_performances)\n",
    "ids_to_performances_df.set_index('id', inplace=True)\n",
    "\n",
    "ids_to_performances_df"
   ]
  },
  {
   "cell_type": "code",
   "execution_count": null,
   "id": "ed1aca57",
   "metadata": {
    "executionInfo": {
     "elapsed": 1,
     "status": "ok",
     "timestamp": 1627311015390,
     "user": {
      "displayName": "George Batchkala",
      "photoUrl": "https://lh3.googleusercontent.com/a-/AOh14GjDONxhSnrmdSTlEhvc2cJI7El4zBMhqZjcA1cl1A=s64",
      "userId": "05060257197849650568"
     },
     "user_tz": -60
    },
    "id": "ed1aca57"
   },
   "outputs": [],
   "source": []
  },
  {
   "cell_type": "code",
   "execution_count": null,
   "id": "d5a6dc54",
   "metadata": {
    "executionInfo": {
     "elapsed": 3,
     "status": "ok",
     "timestamp": 1627311015999,
     "user": {
      "displayName": "George Batchkala",
      "photoUrl": "https://lh3.googleusercontent.com/a-/AOh14GjDONxhSnrmdSTlEhvc2cJI7El4zBMhqZjcA1cl1A=s64",
      "userId": "05060257197849650568"
     },
     "user_tz": -60
    },
    "id": "d5a6dc54"
   },
   "outputs": [],
   "source": [
    "def show_extreme_cases(df, metric, metric_ascending=False, n_extreme=5, worst=True):\n",
    "    num_categories = []\n",
    "    \n",
    "    df_sorted = df.sort_values(metric, ascending=metric_ascending)    \n",
    "    #display(df_sorted.head)\n",
    "    \n",
    "    if worst==True:\n",
    "        df_extreme = df_sorted.iloc[:n_extreme,:]\n",
    "    else:\n",
    "        df_extreme = df_sorted.iloc[-n_extreme:,:]\n",
    "    display(df_extreme)\n",
    "    \n",
    "    for i, img_id in enumerate(df_extreme.index):\n",
    "        print('-'*80)\n",
    "        \n",
    "        img_path = ids_to_paths[img_id]\n",
    "        image = torchvision.io.read_image(img_path)\n",
    "        image = image.numpy().transpose((1, 2, 0))\n",
    "\n",
    "        print(img_path)\n",
    "        plt.imshow(image)\n",
    "        plt.pause(0.001)\n",
    "\n",
    "        df = pd.DataFrame({'pred': ids_to_preds[img_id],\n",
    "                           'label': ids_to_labels[img_id],\n",
    "                           'category': CATEGORIES_OF_INTEREST})\n",
    "        df.set_index('category', inplace=True)\n",
    "        display(df)\n",
    "        \n",
    "        \n",
    "        print(str(METRIC), ':', df_extreme.loc[img_id, METRIC])\n",
    "        print(\"Image id:\", img_id)\n",
    "        \n",
    "        num_categories.append(sum(ids_to_labels[img_id]))\n",
    "    \n",
    "    return num_categories\n"
   ]
  },
  {
   "cell_type": "code",
   "execution_count": null,
   "id": "fb2f6764",
   "metadata": {
    "executionInfo": {
     "elapsed": 1,
     "status": "ok",
     "timestamp": 1627311016669,
     "user": {
      "displayName": "George Batchkala",
      "photoUrl": "https://lh3.googleusercontent.com/a-/AOh14GjDONxhSnrmdSTlEhvc2cJI7El4zBMhqZjcA1cl1A=s64",
      "userId": "05060257197849650568"
     },
     "user_tz": -60
    },
    "id": "fb2f6764"
   },
   "outputs": [],
   "source": []
  },
  {
   "cell_type": "code",
   "execution_count": null,
   "id": "e304708e",
   "metadata": {
    "executionInfo": {
     "elapsed": 2,
     "status": "ok",
     "timestamp": 1627311016873,
     "user": {
      "displayName": "George Batchkala",
      "photoUrl": "https://lh3.googleusercontent.com/a-/AOh14GjDONxhSnrmdSTlEhvc2cJI7El4zBMhqZjcA1cl1A=s64",
      "userId": "05060257197849650568"
     },
     "user_tz": -60
    },
    "id": "e304708e"
   },
   "outputs": [],
   "source": [
    "# next image: 150989"
   ]
  },
  {
   "cell_type": "markdown",
   "id": "JNmDt_lCKDdF",
   "metadata": {
    "id": "JNmDt_lCKDdF"
   },
   "source": [
    "### Worst performance"
   ]
  },
  {
   "cell_type": "code",
   "execution_count": null,
   "id": "4ec56cc2",
   "metadata": {
    "colab": {
     "base_uri": "https://localhost:8080/",
     "height": 1000,
     "output_embedded_package_id": "1SAJ9ogOxWTgONRZLWfnNVuU1OYaY20VL"
    },
    "executionInfo": {
     "elapsed": 16249,
     "status": "ok",
     "timestamp": 1627311033942,
     "user": {
      "displayName": "George Batchkala",
      "photoUrl": "https://lh3.googleusercontent.com/a-/AOh14GjDONxhSnrmdSTlEhvc2cJI7El4zBMhqZjcA1cl1A=s64",
      "userId": "05060257197849650568"
     },
     "user_tz": -60
    },
    "id": "4ec56cc2",
    "outputId": "5c92b819-089b-4e84-c525-5d9c553f7aae"
   },
   "outputs": [],
   "source": [
    "num_obects_in_cat = show_extreme_cases(ids_to_performances_df, metric='total_loss',\n",
    "                                       metric_ascending=False, n_extreme=50, worst=True)"
   ]
  },
  {
   "cell_type": "code",
   "execution_count": null,
   "id": "999e0b01",
   "metadata": {
    "colab": {
     "base_uri": "https://localhost:8080/",
     "height": 265
    },
    "executionInfo": {
     "elapsed": 24,
     "status": "ok",
     "timestamp": 1627311033943,
     "user": {
      "displayName": "George Batchkala",
      "photoUrl": "https://lh3.googleusercontent.com/a-/AOh14GjDONxhSnrmdSTlEhvc2cJI7El4zBMhqZjcA1cl1A=s64",
      "userId": "05060257197849650568"
     },
     "user_tz": -60
    },
    "id": "999e0b01",
    "outputId": "794a6326-6a77-459a-c9e9-2ac560a933da"
   },
   "outputs": [],
   "source": [
    "plt.hist(num_obects_in_cat)\n",
    "plt.xticks(range(len(CATEGORIES_OF_INTEREST)))\n",
    "plt.show()"
   ]
  },
  {
   "cell_type": "markdown",
   "id": "wINDMN9TKn2o",
   "metadata": {
    "id": "wINDMN9TKn2o"
   },
   "source": [
    "#### Tricky images"
   ]
  },
  {
   "cell_type": "code",
   "execution_count": null,
   "id": "e10d5eef",
   "metadata": {
    "executionInfo": {
     "elapsed": 22,
     "status": "ok",
     "timestamp": 1627311033943,
     "user": {
      "displayName": "George Batchkala",
      "photoUrl": "https://lh3.googleusercontent.com/a-/AOh14GjDONxhSnrmdSTlEhvc2cJI7El4zBMhqZjcA1cl1A=s64",
      "userId": "05060257197849650568"
     },
     "user_tz": -60
    },
    "id": "e10d5eef"
   },
   "outputs": [],
   "source": [
    "# ids of images that are objectively hard for the model\n",
    "# top-50 worst losses for the gated-attention model were considered\n",
    "\n",
    "hard_img_ids = {\n",
    "    'false positives': {\n",
    "        # to be looked during the feature visualization, e.g. GradCAM\n",
    "        '525682': 'dog',\n",
    "        '67126': 'person',\n",
    "        '110724': \"dog\",\n",
    "        '473720': \"cat, person\",\n",
    "        '287427': \"person, maybe incorrect label\",\n",
    "        '204272': \"dog\",\n",
    "        '433896': \"dog\",\n",
    "        '150989': \"bird\", # water\n",
    "        '334413': \"bird\", # water\n",
    "        '495687': \"bird\",\n",
    "        '92002': \"cat\",\n",
    "        '240755': \"dog\",\n",
    "        '341612': \"bird, person\", # water\n",
    "        '430302': \"bird\", # water\n",
    "        '439865': \"cat\",\n",
    "        '500267': \"bird\", # water\n",
    "        '49763': \"dog, person\",\n",
    "        '349784': \"bird\", # water\n",
    "        '351734': \"cat, person\",\n",
    "        '6229': \"person\", # dog in a vest \n",
    "    },\n",
    "    'partial object (might be enough)': {\n",
    "        '392035': \"cat walking out of the image (do not see cat's face, only ears)\",\n",
    "        '38447': \"only see dog's face\",\n",
    "        '431241': \"part of the dog is behind the wall, but can definitely see most of it\",\n",
    "        '514934': \"only see dog's face; definitely enough for a human\",\n",
    "        '124567': \"part of the cat is obstructed by a car\",\n",
    "        '396432': \"part of the dog is obstructed by Christmass clothing\",\n",
    "        '555909': \"both dog and person are partialy obstructed by the paper flags, but definitely enough\",\n",
    "        '92002': \"part of the dog's face is not seen behind the Teddy bear\",\n",
    "        '439865': \"person is partially obstructed, but definitely seen\"\n",
    "        \n",
    "    },\n",
    "    'partial object (almost nothing)': {\n",
    "        '38447': \"person is not really in the image (1 foot only)\",\n",
    "        '498644': \"only see part of person's palm, no person on the image\",\n",
    "        '41097': \"only person's hand holding a pizza\",\n",
    "        '273885': \"only person's leg is in the frame\",\n",
    "        '137016': \"only small parts of the dog visible, but enough for a human\",\n",
    "    \n",
    "    },\n",
    "    'not alive': {\n",
    "        '193506': \"'person' on TV, very hard to see\",\n",
    "        '525682': \"bird on wallpaper\",\n",
    "        '110724': \"birds drawn on a pastic blue cow\",\n",
    "        '287427' : \"dog is made from playdow, it also might be a rat from the captions\",\n",
    "        '175202': \"drawings of pegions on the wall, no real bird\",\n",
    "        '62154': \"paper bird, not a real bird, although realistic\",\n",
    "        '129786': \"mosaic of a peacock on the window\",\n",
    "        '208535': \"chicken/turkey in the oven\",\n",
    "        '224134': \"small fluffy toy with Scooby-Doo\",\n",
    "        '210471': \"image of a dog in the screen\",\n",
    "        '437947': \"stuffed owl at the very top of the image\",\n",
    "        \n",
    "    },\n",
    "    'hard to see an object': {\n",
    "        '193506': \"'person' on TV, very hard to see\", \n",
    "    },\n",
    "    'dog looks like a cat': {\n",
    "        '193506': \"dog loocs like a cat\",\n",
    "        '92002': \"dog loocs like a cat\",\n",
    "    },\n",
    "    'back to the camera': {\n",
    "        '150989': \"the closest dog has its back to the camera\",\n",
    "        '273885': \"cat sits with its back to the camera\",\n",
    "        '467769': \"only see the back of the dog\",\n",
    "        '91465': \"only see back of the child\"\n",
    "        \n",
    "    },\n",
    "    'small percentage of the image': {\n",
    "        '67126': \"cats are pretty far away and small\",\n",
    "        '511506': \"both people and a dog are far away - need to squint\",\n",
    "        '150989': \"most of the dogs are far away\",\n",
    "        '467386': \"birds occupy only a very small percentage of the image\",\n",
    "        '579267': \"bird occupies only a very small percentage of the image\",\n",
    "        '6709': \"birds occupy only a very small percentage of the image\",\n",
    "        '129026': \"dog occupies only a very small percentage of the image\",\n",
    "        '95081': \"birds occupy only a very small percentage of the image\",\n",
    "        '459733': \"both person and dog are quite far on the paddle board, but definitely enough\",\n",
    "           \n",
    "    },\n",
    "    'incorrect label': {\n",
    "        '287427': \"person and a dog are made from playdow - person's label is missing\",\n",
    "        '392035': \"the same object is marked both as a cat and as a dog\"\n",
    "        \n",
    "    },\n",
    "\n",
    "}"
   ]
  },
  {
   "cell_type": "code",
   "execution_count": null,
   "id": "0a6ea796",
   "metadata": {
    "executionInfo": {
     "elapsed": 21,
     "status": "ok",
     "timestamp": 1627311033943,
     "user": {
      "displayName": "George Batchkala",
      "photoUrl": "https://lh3.googleusercontent.com/a-/AOh14GjDONxhSnrmdSTlEhvc2cJI7El4zBMhqZjcA1cl1A=s64",
      "userId": "05060257197849650568"
     },
     "user_tz": -60
    },
    "id": "0a6ea796"
   },
   "outputs": [],
   "source": [
    "with open('../my_splits/dev1_tricky_images.json', 'w') as f:\n",
    "    json.dump(hard_img_ids, f)"
   ]
  },
  {
   "cell_type": "code",
   "execution_count": null,
   "id": "19ea9a47",
   "metadata": {
    "executionInfo": {
     "elapsed": 21,
     "status": "ok",
     "timestamp": 1627311033943,
     "user": {
      "displayName": "George Batchkala",
      "photoUrl": "https://lh3.googleusercontent.com/a-/AOh14GjDONxhSnrmdSTlEhvc2cJI7El4zBMhqZjcA1cl1A=s64",
      "userId": "05060257197849650568"
     },
     "user_tz": -60
    },
    "id": "19ea9a47"
   },
   "outputs": [],
   "source": []
  },
  {
   "cell_type": "markdown",
   "id": "OyCyZAmdJ_A-",
   "metadata": {
    "id": "OyCyZAmdJ_A-"
   },
   "source": [
    "### Best performance"
   ]
  },
  {
   "cell_type": "code",
   "execution_count": null,
   "id": "90538a9d",
   "metadata": {
    "colab": {
     "base_uri": "https://localhost:8080/",
     "height": 1000,
     "output_embedded_package_id": "1Jq4Vomip_-hdM5YhOS_HcQgHDZ-CsMrk"
    },
    "executionInfo": {
     "elapsed": 15249,
     "status": "ok",
     "timestamp": 1627311049172,
     "user": {
      "displayName": "George Batchkala",
      "photoUrl": "https://lh3.googleusercontent.com/a-/AOh14GjDONxhSnrmdSTlEhvc2cJI7El4zBMhqZjcA1cl1A=s64",
      "userId": "05060257197849650568"
     },
     "user_tz": -60
    },
    "id": "90538a9d",
    "outputId": "9af3fa91-eb7b-4320-fe14-70c16cb1fe76"
   },
   "outputs": [],
   "source": [
    "num_obects_in_cat = show_extreme_cases(ids_to_performances_df, metric='total_loss',\n",
    "                                       metric_ascending=False, n_extreme=50, worst=False)"
   ]
  },
  {
   "cell_type": "code",
   "execution_count": null,
   "id": "e3310bba",
   "metadata": {
    "colab": {
     "base_uri": "https://localhost:8080/",
     "height": 265
    },
    "executionInfo": {
     "elapsed": 27,
     "status": "ok",
     "timestamp": 1627311049173,
     "user": {
      "displayName": "George Batchkala",
      "photoUrl": "https://lh3.googleusercontent.com/a-/AOh14GjDONxhSnrmdSTlEhvc2cJI7El4zBMhqZjcA1cl1A=s64",
      "userId": "05060257197849650568"
     },
     "user_tz": -60
    },
    "id": "e3310bba",
    "outputId": "f0a41b82-af6a-4be5-eab0-691cb9d10cb3"
   },
   "outputs": [],
   "source": [
    "plt.hist(num_obects_in_cat)\n",
    "plt.xticks(range(len(CATEGORIES_OF_INTEREST)))\n",
    "plt.show()"
   ]
  },
  {
   "cell_type": "markdown",
   "id": "53162bc8",
   "metadata": {
    "id": "53162bc8"
   },
   "source": [
    "50 images with best losses have either 0 or 1 object present in the image. But it's normal. **Most images only have one object.**"
   ]
  },
  {
   "cell_type": "code",
   "execution_count": null,
   "id": "9f213391",
   "metadata": {
    "executionInfo": {
     "elapsed": 23,
     "status": "ok",
     "timestamp": 1627311049173,
     "user": {
      "displayName": "George Batchkala",
      "photoUrl": "https://lh3.googleusercontent.com/a-/AOh14GjDONxhSnrmdSTlEhvc2cJI7El4zBMhqZjcA1cl1A=s64",
      "userId": "05060257197849650568"
     },
     "user_tz": -60
    },
    "id": "9f213391"
   },
   "outputs": [],
   "source": []
  },
  {
   "cell_type": "markdown",
   "id": "PMrWYMdmKOdQ",
   "metadata": {
    "id": "PMrWYMdmKOdQ"
   },
   "source": [
    "### Evaluate performance without certain categories identified during error analysis"
   ]
  },
  {
   "cell_type": "markdown",
   "id": "8tAALF-3OXeS",
   "metadata": {
    "id": "8tAALF-3OXeS"
   },
   "source": [
    "#### Make a file with some ids excluded"
   ]
  },
  {
   "cell_type": "code",
   "execution_count": null,
   "id": "5FV6X08ELSg-",
   "metadata": {
    "executionInfo": {
     "elapsed": 23,
     "status": "ok",
     "timestamp": 1627311049174,
     "user": {
      "displayName": "George Batchkala",
      "photoUrl": "https://lh3.googleusercontent.com/a-/AOh14GjDONxhSnrmdSTlEhvc2cJI7El4zBMhqZjcA1cl1A=s64",
      "userId": "05060257197849650568"
     },
     "user_tz": -60
    },
    "id": "5FV6X08ELSg-"
   },
   "outputs": [],
   "source": [
    "with open('../my_splits/dev1_tricky_images.json', 'r') as f:\n",
    "    hard_img_ids = json.load(f)"
   ]
  },
  {
   "cell_type": "code",
   "execution_count": null,
   "id": "PkHH4L9mLavU",
   "metadata": {
    "colab": {
     "base_uri": "https://localhost:8080/"
    },
    "executionInfo": {
     "elapsed": 23,
     "status": "ok",
     "timestamp": 1627311049174,
     "user": {
      "displayName": "George Batchkala",
      "photoUrl": "https://lh3.googleusercontent.com/a-/AOh14GjDONxhSnrmdSTlEhvc2cJI7El4zBMhqZjcA1cl1A=s64",
      "userId": "05060257197849650568"
     },
     "user_tz": -60
    },
    "id": "PkHH4L9mLavU",
    "outputId": "a5a4e8dd-362e-4fa6-ff47-9f0629c0da54"
   },
   "outputs": [],
   "source": [
    "for key in hard_img_ids.keys():\n",
    "    print(key)"
   ]
  },
  {
   "cell_type": "code",
   "execution_count": null,
   "id": "ee705005",
   "metadata": {
    "executionInfo": {
     "elapsed": 19,
     "status": "ok",
     "timestamp": 1627311049174,
     "user": {
      "displayName": "George Batchkala",
      "photoUrl": "https://lh3.googleusercontent.com/a-/AOh14GjDONxhSnrmdSTlEhvc2cJI7El4zBMhqZjcA1cl1A=s64",
      "userId": "05060257197849650568"
     },
     "user_tz": -60
    },
    "id": "ee705005"
   },
   "outputs": [],
   "source": [
    "exclude_categories = [\n",
    "    'partial object (almost nothing)',\n",
    "    'not alive',\n",
    "    'incorrect label'\n",
    "]\n",
    "\n",
    "# check that they are all valid keys\n",
    "assert all([cat in hard_img_ids.keys() for cat in exclude_categories])"
   ]
  },
  {
   "cell_type": "code",
   "execution_count": null,
   "id": "sHEQALcsLkNC",
   "metadata": {
    "colab": {
     "base_uri": "https://localhost:8080/"
    },
    "executionInfo": {
     "elapsed": 18,
     "status": "ok",
     "timestamp": 1627311049174,
     "user": {
      "displayName": "George Batchkala",
      "photoUrl": "https://lh3.googleusercontent.com/a-/AOh14GjDONxhSnrmdSTlEhvc2cJI7El4zBMhqZjcA1cl1A=s64",
      "userId": "05060257197849650568"
     },
     "user_tz": -60
    },
    "id": "sHEQALcsLkNC",
    "outputId": "436c2d6d-bcac-44ef-d9a0-5bf2bf1c2416"
   },
   "outputs": [],
   "source": [
    "ids_to_exclude = []\n",
    "for category in exclude_categories:\n",
    "    ids = list(hard_img_ids[category].keys())\n",
    "    ids_to_exclude.extend(ids)\n",
    "\n",
    "print('len(ids_to_exclude):', len(ids_to_exclude))\n",
    "ids_to_exclude = list(set(ids_to_exclude))\n",
    "print('number of unique elements in `ids_to_exclude`:', len(ids_to_exclude))"
   ]
  },
  {
   "cell_type": "code",
   "execution_count": null,
   "id": "X6VGhaN6LZcx",
   "metadata": {
    "colab": {
     "base_uri": "https://localhost:8080/"
    },
    "executionInfo": {
     "elapsed": 17,
     "status": "ok",
     "timestamp": 1627311049175,
     "user": {
      "displayName": "George Batchkala",
      "photoUrl": "https://lh3.googleusercontent.com/a-/AOh14GjDONxhSnrmdSTlEhvc2cJI7El4zBMhqZjcA1cl1A=s64",
      "userId": "05060257197849650568"
     },
     "user_tz": -60
    },
    "id": "X6VGhaN6LZcx",
    "outputId": "ecf02677-39b3-49cb-a9bc-bbb1308d8cf7"
   },
   "outputs": [],
   "source": [
    "with open('../my_splits/dev1_ids.txt', 'r') as f:\n",
    "    dev1_all_ids = json.loads(f.read()) # python list saved as txt IDs as ints\n",
    "\n",
    "len(dev1_all_ids)"
   ]
  },
  {
   "cell_type": "code",
   "execution_count": null,
   "id": "6qjIjpTjNZ3q",
   "metadata": {
    "colab": {
     "base_uri": "https://localhost:8080/"
    },
    "executionInfo": {
     "elapsed": 13,
     "status": "ok",
     "timestamp": 1627311049175,
     "user": {
      "displayName": "George Batchkala",
      "photoUrl": "https://lh3.googleusercontent.com/a-/AOh14GjDONxhSnrmdSTlEhvc2cJI7El4zBMhqZjcA1cl1A=s64",
      "userId": "05060257197849650568"
     },
     "user_tz": -60
    },
    "id": "6qjIjpTjNZ3q",
    "outputId": "13c4ffad-6053-44fd-eb05-6d3a1da795db"
   },
   "outputs": [],
   "source": [
    "ids_left = list(set(dev1_all_ids) - set([int(id) for id in ids_to_exclude]))\n",
    "len(ids_left)"
   ]
  },
  {
   "cell_type": "code",
   "execution_count": null,
   "id": "qmjOWrGMNaEO",
   "metadata": {
    "executionInfo": {
     "elapsed": 11,
     "status": "ok",
     "timestamp": 1627311049175,
     "user": {
      "displayName": "George Batchkala",
      "photoUrl": "https://lh3.googleusercontent.com/a-/AOh14GjDONxhSnrmdSTlEhvc2cJI7El4zBMhqZjcA1cl1A=s64",
      "userId": "05060257197849650568"
     },
     "user_tz": -60
    },
    "id": "qmjOWrGMNaEO"
   },
   "outputs": [],
   "source": [
    "with open('../my_splits/dev1_wo_some_tricky_images.txt', 'w') as f:\n",
    "    f.write(json.dumps(ids_left))"
   ]
  },
  {
   "cell_type": "code",
   "execution_count": null,
   "id": "RbL38AeGOCWm",
   "metadata": {
    "colab": {
     "base_uri": "https://localhost:8080/"
    },
    "executionInfo": {
     "elapsed": 12,
     "status": "ok",
     "timestamp": 1627311049176,
     "user": {
      "displayName": "George Batchkala",
      "photoUrl": "https://lh3.googleusercontent.com/a-/AOh14GjDONxhSnrmdSTlEhvc2cJI7El4zBMhqZjcA1cl1A=s64",
      "userId": "05060257197849650568"
     },
     "user_tz": -60
    },
    "id": "RbL38AeGOCWm",
    "outputId": "a966d346-a524-4e18-a6a2-230e0d19df1f"
   },
   "outputs": [],
   "source": [
    "with open('../my_splits/dev1_wo_some_tricky_images.txt', 'r') as f:\n",
    "    ids_left = json.load(f)\n",
    "\n",
    "len(ids_left)"
   ]
  },
  {
   "cell_type": "markdown",
   "id": "HBIWuDBgOfjc",
   "metadata": {
    "id": "HBIWuDBgOfjc"
   },
   "source": [
    "#### Create a dataset and a dataloader objects"
   ]
  },
  {
   "cell_type": "code",
   "execution_count": null,
   "id": "y7lYgYf9OR9g",
   "metadata": {
    "colab": {
     "base_uri": "https://localhost:8080/"
    },
    "executionInfo": {
     "elapsed": 199,
     "status": "ok",
     "timestamp": 1627311051178,
     "user": {
      "displayName": "George Batchkala",
      "photoUrl": "https://lh3.googleusercontent.com/a-/AOh14GjDONxhSnrmdSTlEhvc2cJI7El4zBMhqZjcA1cl1A=s64",
      "userId": "05060257197849650568"
     },
     "user_tz": -60
    },
    "id": "y7lYgYf9OR9g",
    "outputId": "8dbafa1b-e2f3-4cf4-a9c0-601283adaa52"
   },
   "outputs": [],
   "source": [
    "dev1_wo_some_tricky_images_dataset = CocoNoCropping(\n",
    "    img_ids = '../my_splits/dev1_wo_some_tricky_images.txt',\n",
    "    my_annotations_file = '../my_annotations/imgIds_to_labels_train2017.json',\n",
    "    img_dir = '../my_images/dev1/',\n",
    "    transform=dev_transforms,\n",
    "    divide_by_255=True,\n",
    "    return_image_details=False\n",
    ")\n",
    "print(\"Examples:\", len(dev1_wo_some_tricky_images_dataset))\n",
    "\n",
    "dev1_wo_some_tricky_images_dataloader = DataLoader(dev1_wo_some_tricky_images_dataset,\n",
    "                                                   batch_size=32,\n",
    "                                                   shuffle=False)\n",
    "\n",
    "print(\"Batches: \", len(dev1_wo_some_tricky_images_dataloader))"
   ]
  },
  {
   "cell_type": "markdown",
   "id": "bv63F0e5PCD7",
   "metadata": {
    "id": "bv63F0e5PCD7"
   },
   "source": [
    "#### Evaluate the performance"
   ]
  },
  {
   "cell_type": "code",
   "execution_count": null,
   "id": "4HLZMHpHPAuT",
   "metadata": {
    "colab": {
     "base_uri": "https://localhost:8080/",
     "height": 100,
     "referenced_widgets": [
      "132e1462c1cf476ca51df6bf99fa467d",
      "c18028afc6ab48d684023b4c1eb04c17",
      "ca052561dfd74cee9876fd8af7687373",
      "ed776666ae6b457e89c6edc62cd3a076",
      "c54345b982ea4ee8b9e0b13dcc6b9a60",
      "6721fdf6e60340378607c6c81ab6dc16",
      "d04d20b858a449b6b9bf35ac7cdc4cc7",
      "e472e3a30f954972a651df37944a61c4"
     ]
    },
    "executionInfo": {
     "elapsed": 6542,
     "status": "ok",
     "timestamp": 1627311059207,
     "user": {
      "displayName": "George Batchkala",
      "photoUrl": "https://lh3.googleusercontent.com/a-/AOh14GjDONxhSnrmdSTlEhvc2cJI7El4zBMhqZjcA1cl1A=s64",
      "userId": "05060257197849650568"
     },
     "user_tz": -60
    },
    "id": "4HLZMHpHPAuT",
    "outputId": "540222cd-ce9b-4cbc-9db8-a5e21361f31c"
   },
   "outputs": [],
   "source": [
    "print(MODEL_NAME)\n",
    "loss, per_class_accs = evaluate(iterator=dev1_wo_some_tricky_images_dataloader,\n",
    "                                model=model_ft, criterion=criterion_with_sum_reduction)\n",
    "print(loss, per_class_accs, per_class_accs.mean())"
   ]
  },
  {
   "cell_type": "code",
   "execution_count": null,
   "id": "Og_4kizHPT9q",
   "metadata": {
    "executionInfo": {
     "elapsed": 8,
     "status": "ok",
     "timestamp": 1627311059208,
     "user": {
      "displayName": "George Batchkala",
      "photoUrl": "https://lh3.googleusercontent.com/a-/AOh14GjDONxhSnrmdSTlEhvc2cJI7El4zBMhqZjcA1cl1A=s64",
      "userId": "05060257197849650568"
     },
     "user_tz": -60
    },
    "id": "Og_4kizHPT9q"
   },
   "outputs": [],
   "source": []
  },
  {
   "cell_type": "markdown",
   "id": "RvDiZKHMRaUB",
   "metadata": {
    "id": "RvDiZKHMRaUB"
   },
   "source": [
    "## Compare the performances of all models before and after removing some of the tricky images"
   ]
  },
  {
   "cell_type": "code",
   "execution_count": null,
   "id": "hvCkVL2XRgo4",
   "metadata": {
    "colab": {
     "base_uri": "https://localhost:8080/",
     "height": 817,
     "referenced_widgets": [
      "d51ded5b26cf46f199917a0def247d99",
      "7f438dee3c2e4d91b46ff2ce86463b82",
      "5d22c450a7654cd1b4da8dcaf34c60b2",
      "2086f7fead4e42b890a215db596aafc7",
      "10e6b16b4c7940c69d8fc64c4f5b4662",
      "b91aec40cf9a4cb8afa0cebb1abf3e81",
      "6bea52287b944bfda41a096336ec1f94",
      "28fb7f53f8d449a2b3648120ff3a635c",
      "dd1e6e5bed724c60a8dd52aa70b453f5",
      "aabc748465d04f1095191ff9dfaf6d84",
      "fd43063123fb4635a39cf5971bc53458",
      "fdbc2f36ef0c4426994d9ef22e07dd5f",
      "de5d2aea93aa47f58349d239188be5ba",
      "6984504e3a2c4e419445eff88e26ae0f",
      "dadd16cf125141c893c2727d16bcea95",
      "8124fd2189884f72a5be1fdf91aaa35f",
      "5f38cb6c4e93478eba3c8cb23fce2034",
      "3432757e0b5148b5b832445d55992631",
      "b4ae1621fe0441f592e3e9a03f62159f",
      "134b8f6fe0cf47c9a60b2cd36251981f",
      "f66c05c5f7f7444b923547551cda330c",
      "90edfd49eb184f529332b33c497d508a",
      "0a9821fd47704adb9277142209c37a8e",
      "e129c2883d474a2eb2979f5bf99b71e7",
      "f9db18c57af34cbab51f29fbe5e64ff1",
      "ebf2056f5a9745a0b787a7620036ed89",
      "af0a8ecc10c247a18b845975bed5843e",
      "629224b1ce0e4630901fb7d47d5d2b47",
      "a6e5b78930334af4abb4ebb6c33ecf3d",
      "609f8abf81a64a15b0423cfa37f3d7e2",
      "669124c9ee884c1fa38c2fefdbbcb0f2",
      "5255f409df94418f8305e2fdfe0f66e3",
      "0e9cacded93b4c589fa899698cb4a2ae",
      "b3f027273c784b74bdce097334eb8876",
      "886136a2ed504dcaae2d884c31b6c3f4",
      "fb1e374ed82d45dcb3885bcb36b128ac",
      "1eaf730305cc4cc590b75a7481c5db29",
      "02be88c786354ce3aefd1dd34e8142b7",
      "de25370a490c4d8bb4c5c8dc28e3879a",
      "7943782fd4284bfd94afbec1e70a530b",
      "04336d1872ef476c830013c16ab75164",
      "8c1583b28d8c436eb1b69e7bddb0af55",
      "7bf3a9c31cf94bdeaa00fa1591f68f75",
      "9c53a0a287c54b6987a80a3ae8f2a735",
      "62518e5e21934fb7a519a31e6629bb54",
      "ebe384bc4fe04d32aa8c3f907a503312",
      "5e61b8a8278c46d383dd4427563c3771",
      "a2536c340dd94eeba6c0940ea765241d",
      "d33adea7e7b14ee3b3c43d67d71df70c",
      "787883e0f2c146708e902f1bae4ebae3",
      "84835e203f6a4e958803b9163717f9a0",
      "822f4ae5cbfd4c8f95c8d05f1f924203",
      "84db42c7169e4d12b45eefe80540a0b5",
      "0ba5815b7ec54c4680fe48ed3fb015c6",
      "b8907c71a01e4f9aac6d3e7fac5ad58c",
      "2e170cf73b8c44f3a965b95413fc049c",
      "26a3e424690c4631bdb7c95e9c4e2fca",
      "52266cf7f966484cb98547499801718b",
      "d3745d88b0564dd5b4ab3f4dc322204f",
      "b25231a10df64d52ab413b388f605316",
      "760202591fd649b5b03cf0a3f6771197",
      "60eeabfd1f794b4880b6ad4892a7cfb4",
      "219f90cd54af482ab3a0212406a9a44e",
      "acfb7df63fbf47a1af2c689c94f8dabf"
     ]
    },
    "executionInfo": {
     "elapsed": 49477,
     "status": "ok",
     "timestamp": 1627311481684,
     "user": {
      "displayName": "George Batchkala",
      "photoUrl": "https://lh3.googleusercontent.com/a-/AOh14GjDONxhSnrmdSTlEhvc2cJI7El4zBMhqZjcA1cl1A=s64",
      "userId": "05060257197849650568"
     },
     "user_tz": -60
    },
    "id": "hvCkVL2XRgo4",
    "outputId": "9df53518-b163-4fb3-ee72-430ba291d1a2"
   },
   "outputs": [],
   "source": [
    "performence_results = {\n",
    "    'All images acc.': [],\n",
    "    'Cleaner images acc.': [],\n",
    "}\n",
    "\n",
    "for MODEL_NAME in MODEL_NAMES:\n",
    "    print(MODEL_NAME)\n",
    "\n",
    "    model_ft = load_pre_trained_model(model_name=MODEL_NAME)\n",
    "\n",
    "    loss, per_class_accs = evaluate(iterator=dev1_dataloader,\n",
    "                                model=model_ft, criterion=criterion_with_sum_reduction)\n",
    "    acc = per_class_accs.mean().item()\n",
    "    print('\\t All images: ', acc)\n",
    "    performence_results['All images acc.'].append(acc)\n",
    "    \n",
    "    loss, per_class_accs = evaluate(iterator=dev1_wo_some_tricky_images_dataloader,\n",
    "                                model=model_ft, criterion=criterion_with_sum_reduction)\n",
    "    acc = per_class_accs.mean().item()\n",
    "    print('\\t Clean images:', per_class_accs.mean().item())\n",
    "    performence_results['Cleaner images acc.'].append(acc)\n",
    "\n",
    "    print('\\n', '-'*80, '\\n')"
   ]
  },
  {
   "cell_type": "code",
   "execution_count": null,
   "id": "DOyX_BUrRjsm",
   "metadata": {
    "colab": {
     "base_uri": "https://localhost:8080/",
     "height": 173
    },
    "executionInfo": {
     "elapsed": 9,
     "status": "ok",
     "timestamp": 1627311482398,
     "user": {
      "displayName": "George Batchkala",
      "photoUrl": "https://lh3.googleusercontent.com/a-/AOh14GjDONxhSnrmdSTlEhvc2cJI7El4zBMhqZjcA1cl1A=s64",
      "userId": "05060257197849650568"
     },
     "user_tz": -60
    },
    "id": "DOyX_BUrRjsm",
    "outputId": "bdaceb30-be79-4a5a-9c6c-06a90c47138c"
   },
   "outputs": [],
   "source": [
    "performence_results_df = pd.DataFrame(performence_results)\n",
    "performence_results_df"
   ]
  },
  {
   "cell_type": "code",
   "execution_count": null,
   "id": "Bxtxa_nRUgoB",
   "metadata": {
    "colab": {
     "base_uri": "https://localhost:8080/",
     "height": 173
    },
    "executionInfo": {
     "elapsed": 205,
     "status": "ok",
     "timestamp": 1627311499553,
     "user": {
      "displayName": "George Batchkala",
      "photoUrl": "https://lh3.googleusercontent.com/a-/AOh14GjDONxhSnrmdSTlEhvc2cJI7El4zBMhqZjcA1cl1A=s64",
      "userId": "05060257197849650568"
     },
     "user_tz": -60
    },
    "id": "Bxtxa_nRUgoB",
    "outputId": "39d9ec03-875a-4ae5-8301-c2dee7305d22"
   },
   "outputs": [],
   "source": [
    "performence_results_df.index = MODEL_NAMES"
   ]
  },
  {
   "cell_type": "code",
   "execution_count": null,
   "id": "LP2ZYy43Uuc9",
   "metadata": {
    "executionInfo": {
     "elapsed": 209,
     "status": "ok",
     "timestamp": 1627311584009,
     "user": {
      "displayName": "George Batchkala",
      "photoUrl": "https://lh3.googleusercontent.com/a-/AOh14GjDONxhSnrmdSTlEhvc2cJI7El4zBMhqZjcA1cl1A=s64",
      "userId": "05060257197849650568"
     },
     "user_tz": -60
    },
    "id": "LP2ZYy43Uuc9"
   },
   "outputs": [],
   "source": [
    "performence_results_df.to_csv('../results/best_models_summary.csv')"
   ]
  },
  {
   "cell_type": "code",
   "execution_count": null,
   "id": "L-LKO7L5VDES",
   "metadata": {
    "id": "L-LKO7L5VDES"
   },
   "outputs": [],
   "source": [
    "performence_results_df = pd.read_csv('../results/best_models_summary.csv', index_col=0)\n",
    "performence_results_df = (performence_results_df * 100).round(1)"
   ]
  },
  {
   "cell_type": "code",
   "execution_count": null,
   "id": "2cb95318",
   "metadata": {},
   "outputs": [],
   "source": [
    "performence_results_df"
   ]
  },
  {
   "cell_type": "code",
   "execution_count": null,
   "id": "e94bd3b5",
   "metadata": {},
   "outputs": [],
   "source": []
  }
 ],
 "metadata": {
  "accelerator": "GPU",
  "colab": {
   "collapsed_sections": [],
   "name": "7-visualising-best-and-worst-results.ipynb",
   "provenance": [],
   "toc_visible": true
  },
  "kernelspec": {
   "display_name": "Python [conda env:standard-dl]",
   "language": "python",
   "name": "conda-env-standard-dl-py"
  },
  "language_info": {
   "codemirror_mode": {
    "name": "ipython",
    "version": 3
   },
   "file_extension": ".py",
   "mimetype": "text/x-python",
   "name": "python",
   "nbconvert_exporter": "python",
   "pygments_lexer": "ipython3",
   "version": "3.9.5"
  },
  "widgets": {
   "application/vnd.jupyter.widget-state+json": {
    "02be88c786354ce3aefd1dd34e8142b7": {
     "model_module": "@jupyter-widgets/base",
     "model_name": "LayoutModel",
     "state": {
      "_model_module": "@jupyter-widgets/base",
      "_model_module_version": "1.2.0",
      "_model_name": "LayoutModel",
      "_view_count": null,
      "_view_module": "@jupyter-widgets/base",
      "_view_module_version": "1.2.0",
      "_view_name": "LayoutView",
      "align_content": null,
      "align_items": null,
      "align_self": null,
      "border": null,
      "bottom": null,
      "display": null,
      "flex": null,
      "flex_flow": null,
      "grid_area": null,
      "grid_auto_columns": null,
      "grid_auto_flow": null,
      "grid_auto_rows": null,
      "grid_column": null,
      "grid_gap": null,
      "grid_row": null,
      "grid_template_areas": null,
      "grid_template_columns": null,
      "grid_template_rows": null,
      "height": null,
      "justify_content": null,
      "justify_items": null,
      "left": null,
      "margin": null,
      "max_height": null,
      "max_width": null,
      "min_height": null,
      "min_width": null,
      "object_fit": null,
      "object_position": null,
      "order": null,
      "overflow": null,
      "overflow_x": null,
      "overflow_y": null,
      "padding": null,
      "right": null,
      "top": null,
      "visibility": null,
      "width": null
     }
    },
    "04336d1872ef476c830013c16ab75164": {
     "model_module": "@jupyter-widgets/controls",
     "model_name": "HBoxModel",
     "state": {
      "_dom_classes": [],
      "_model_module": "@jupyter-widgets/controls",
      "_model_module_version": "1.5.0",
      "_model_name": "HBoxModel",
      "_view_count": null,
      "_view_module": "@jupyter-widgets/controls",
      "_view_module_version": "1.5.0",
      "_view_name": "HBoxView",
      "box_style": "",
      "children": [
       "IPY_MODEL_7bf3a9c31cf94bdeaa00fa1591f68f75",
       "IPY_MODEL_9c53a0a287c54b6987a80a3ae8f2a735"
      ],
      "layout": "IPY_MODEL_8c1583b28d8c436eb1b69e7bddb0af55"
     }
    },
    "0a9821fd47704adb9277142209c37a8e": {
     "model_module": "@jupyter-widgets/controls",
     "model_name": "DescriptionStyleModel",
     "state": {
      "_model_module": "@jupyter-widgets/controls",
      "_model_module_version": "1.5.0",
      "_model_name": "DescriptionStyleModel",
      "_view_count": null,
      "_view_module": "@jupyter-widgets/base",
      "_view_module_version": "1.2.0",
      "_view_name": "StyleView",
      "description_width": ""
     }
    },
    "0ba5815b7ec54c4680fe48ed3fb015c6": {
     "model_module": "@jupyter-widgets/base",
     "model_name": "LayoutModel",
     "state": {
      "_model_module": "@jupyter-widgets/base",
      "_model_module_version": "1.2.0",
      "_model_name": "LayoutModel",
      "_view_count": null,
      "_view_module": "@jupyter-widgets/base",
      "_view_module_version": "1.2.0",
      "_view_name": "LayoutView",
      "align_content": null,
      "align_items": null,
      "align_self": null,
      "border": null,
      "bottom": null,
      "display": null,
      "flex": null,
      "flex_flow": null,
      "grid_area": null,
      "grid_auto_columns": null,
      "grid_auto_flow": null,
      "grid_auto_rows": null,
      "grid_column": null,
      "grid_gap": null,
      "grid_row": null,
      "grid_template_areas": null,
      "grid_template_columns": null,
      "grid_template_rows": null,
      "height": null,
      "justify_content": null,
      "justify_items": null,
      "left": null,
      "margin": null,
      "max_height": null,
      "max_width": null,
      "min_height": null,
      "min_width": null,
      "object_fit": null,
      "object_position": null,
      "order": null,
      "overflow": null,
      "overflow_x": null,
      "overflow_y": null,
      "padding": null,
      "right": null,
      "top": null,
      "visibility": null,
      "width": null
     }
    },
    "0e9cacded93b4c589fa899698cb4a2ae": {
     "model_module": "@jupyter-widgets/controls",
     "model_name": "HBoxModel",
     "state": {
      "_dom_classes": [],
      "_model_module": "@jupyter-widgets/controls",
      "_model_module_version": "1.5.0",
      "_model_name": "HBoxModel",
      "_view_count": null,
      "_view_module": "@jupyter-widgets/controls",
      "_view_module_version": "1.5.0",
      "_view_name": "HBoxView",
      "box_style": "",
      "children": [
       "IPY_MODEL_886136a2ed504dcaae2d884c31b6c3f4",
       "IPY_MODEL_fb1e374ed82d45dcb3885bcb36b128ac"
      ],
      "layout": "IPY_MODEL_b3f027273c784b74bdce097334eb8876"
     }
    },
    "0f2636431ed34740ae284bfde292fc91": {
     "model_module": "@jupyter-widgets/controls",
     "model_name": "HTMLModel",
     "state": {
      "_dom_classes": [],
      "_model_module": "@jupyter-widgets/controls",
      "_model_module_version": "1.5.0",
      "_model_name": "HTMLModel",
      "_view_count": null,
      "_view_module": "@jupyter-widgets/controls",
      "_view_module_version": "1.5.0",
      "_view_name": "HTMLView",
      "description": "",
      "description_tooltip": null,
      "layout": "IPY_MODEL_a436dd5d43d14c1bbc7d8b62fd20336d",
      "placeholder": "​",
      "style": "IPY_MODEL_e04bd02bc1004f99ab137c4b97897fdc",
      "value": " 20/20 [00:28&lt;00:00,  1.41s/it]"
     }
    },
    "10e6b16b4c7940c69d8fc64c4f5b4662": {
     "model_module": "@jupyter-widgets/controls",
     "model_name": "ProgressStyleModel",
     "state": {
      "_model_module": "@jupyter-widgets/controls",
      "_model_module_version": "1.5.0",
      "_model_name": "ProgressStyleModel",
      "_view_count": null,
      "_view_module": "@jupyter-widgets/base",
      "_view_module_version": "1.2.0",
      "_view_name": "StyleView",
      "bar_color": null,
      "description_width": "initial"
     }
    },
    "132e1462c1cf476ca51df6bf99fa467d": {
     "model_module": "@jupyter-widgets/controls",
     "model_name": "HBoxModel",
     "state": {
      "_dom_classes": [],
      "_model_module": "@jupyter-widgets/controls",
      "_model_module_version": "1.5.0",
      "_model_name": "HBoxModel",
      "_view_count": null,
      "_view_module": "@jupyter-widgets/controls",
      "_view_module_version": "1.5.0",
      "_view_name": "HBoxView",
      "box_style": "",
      "children": [
       "IPY_MODEL_ca052561dfd74cee9876fd8af7687373",
       "IPY_MODEL_ed776666ae6b457e89c6edc62cd3a076"
      ],
      "layout": "IPY_MODEL_c18028afc6ab48d684023b4c1eb04c17"
     }
    },
    "134b8f6fe0cf47c9a60b2cd36251981f": {
     "model_module": "@jupyter-widgets/controls",
     "model_name": "HTMLModel",
     "state": {
      "_dom_classes": [],
      "_model_module": "@jupyter-widgets/controls",
      "_model_module_version": "1.5.0",
      "_model_name": "HTMLModel",
      "_view_count": null,
      "_view_module": "@jupyter-widgets/controls",
      "_view_module_version": "1.5.0",
      "_view_name": "HTMLView",
      "description": "",
      "description_tooltip": null,
      "layout": "IPY_MODEL_e129c2883d474a2eb2979f5bf99b71e7",
      "placeholder": "​",
      "style": "IPY_MODEL_0a9821fd47704adb9277142209c37a8e",
      "value": " 20/20 [00:12&lt;00:00,  1.65it/s]"
     }
    },
    "172e598ba44a44639de2228d38c8a134": {
     "model_module": "@jupyter-widgets/base",
     "model_name": "LayoutModel",
     "state": {
      "_model_module": "@jupyter-widgets/base",
      "_model_module_version": "1.2.0",
      "_model_name": "LayoutModel",
      "_view_count": null,
      "_view_module": "@jupyter-widgets/base",
      "_view_module_version": "1.2.0",
      "_view_name": "LayoutView",
      "align_content": null,
      "align_items": null,
      "align_self": null,
      "border": null,
      "bottom": null,
      "display": null,
      "flex": null,
      "flex_flow": null,
      "grid_area": null,
      "grid_auto_columns": null,
      "grid_auto_flow": null,
      "grid_auto_rows": null,
      "grid_column": null,
      "grid_gap": null,
      "grid_row": null,
      "grid_template_areas": null,
      "grid_template_columns": null,
      "grid_template_rows": null,
      "height": null,
      "justify_content": null,
      "justify_items": null,
      "left": null,
      "margin": null,
      "max_height": null,
      "max_width": null,
      "min_height": null,
      "min_width": null,
      "object_fit": null,
      "object_position": null,
      "order": null,
      "overflow": null,
      "overflow_x": null,
      "overflow_y": null,
      "padding": null,
      "right": null,
      "top": null,
      "visibility": null,
      "width": null
     }
    },
    "1d8d9256c5c84a258ecde2213055319d": {
     "model_module": "@jupyter-widgets/base",
     "model_name": "LayoutModel",
     "state": {
      "_model_module": "@jupyter-widgets/base",
      "_model_module_version": "1.2.0",
      "_model_name": "LayoutModel",
      "_view_count": null,
      "_view_module": "@jupyter-widgets/base",
      "_view_module_version": "1.2.0",
      "_view_name": "LayoutView",
      "align_content": null,
      "align_items": null,
      "align_self": null,
      "border": null,
      "bottom": null,
      "display": null,
      "flex": null,
      "flex_flow": null,
      "grid_area": null,
      "grid_auto_columns": null,
      "grid_auto_flow": null,
      "grid_auto_rows": null,
      "grid_column": null,
      "grid_gap": null,
      "grid_row": null,
      "grid_template_areas": null,
      "grid_template_columns": null,
      "grid_template_rows": null,
      "height": null,
      "justify_content": null,
      "justify_items": null,
      "left": null,
      "margin": null,
      "max_height": null,
      "max_width": null,
      "min_height": null,
      "min_width": null,
      "object_fit": null,
      "object_position": null,
      "order": null,
      "overflow": null,
      "overflow_x": null,
      "overflow_y": null,
      "padding": null,
      "right": null,
      "top": null,
      "visibility": null,
      "width": null
     }
    },
    "1eaf730305cc4cc590b75a7481c5db29": {
     "model_module": "@jupyter-widgets/controls",
     "model_name": "ProgressStyleModel",
     "state": {
      "_model_module": "@jupyter-widgets/controls",
      "_model_module_version": "1.5.0",
      "_model_name": "ProgressStyleModel",
      "_view_count": null,
      "_view_module": "@jupyter-widgets/base",
      "_view_module_version": "1.2.0",
      "_view_name": "StyleView",
      "bar_color": null,
      "description_width": "initial"
     }
    },
    "1fc80f80528a46c48e81f0cbc801a75e": {
     "model_module": "@jupyter-widgets/controls",
     "model_name": "HBoxModel",
     "state": {
      "_dom_classes": [],
      "_model_module": "@jupyter-widgets/controls",
      "_model_module_version": "1.5.0",
      "_model_name": "HBoxModel",
      "_view_count": null,
      "_view_module": "@jupyter-widgets/controls",
      "_view_module_version": "1.5.0",
      "_view_name": "HBoxView",
      "box_style": "",
      "children": [
       "IPY_MODEL_e9694ecb6b864b4ab71a31a4f5c361eb",
       "IPY_MODEL_0f2636431ed34740ae284bfde292fc91"
      ],
      "layout": "IPY_MODEL_1d8d9256c5c84a258ecde2213055319d"
     }
    },
    "2086f7fead4e42b890a215db596aafc7": {
     "model_module": "@jupyter-widgets/controls",
     "model_name": "HTMLModel",
     "state": {
      "_dom_classes": [],
      "_model_module": "@jupyter-widgets/controls",
      "_model_module_version": "1.5.0",
      "_model_name": "HTMLModel",
      "_view_count": null,
      "_view_module": "@jupyter-widgets/controls",
      "_view_module_version": "1.5.0",
      "_view_name": "HTMLView",
      "description": "",
      "description_tooltip": null,
      "layout": "IPY_MODEL_28fb7f53f8d449a2b3648120ff3a635c",
      "placeholder": "​",
      "style": "IPY_MODEL_6bea52287b944bfda41a096336ec1f94",
      "value": " 20/20 [00:58&lt;00:00,  2.94s/it]"
     }
    },
    "219f90cd54af482ab3a0212406a9a44e": {
     "model_module": "@jupyter-widgets/controls",
     "model_name": "DescriptionStyleModel",
     "state": {
      "_model_module": "@jupyter-widgets/controls",
      "_model_module_version": "1.5.0",
      "_model_name": "DescriptionStyleModel",
      "_view_count": null,
      "_view_module": "@jupyter-widgets/base",
      "_view_module_version": "1.2.0",
      "_view_name": "StyleView",
      "description_width": ""
     }
    },
    "26a3e424690c4631bdb7c95e9c4e2fca": {
     "model_module": "@jupyter-widgets/controls",
     "model_name": "HBoxModel",
     "state": {
      "_dom_classes": [],
      "_model_module": "@jupyter-widgets/controls",
      "_model_module_version": "1.5.0",
      "_model_name": "HBoxModel",
      "_view_count": null,
      "_view_module": "@jupyter-widgets/controls",
      "_view_module_version": "1.5.0",
      "_view_name": "HBoxView",
      "box_style": "",
      "children": [
       "IPY_MODEL_d3745d88b0564dd5b4ab3f4dc322204f",
       "IPY_MODEL_b25231a10df64d52ab413b388f605316"
      ],
      "layout": "IPY_MODEL_52266cf7f966484cb98547499801718b"
     }
    },
    "28fb7f53f8d449a2b3648120ff3a635c": {
     "model_module": "@jupyter-widgets/base",
     "model_name": "LayoutModel",
     "state": {
      "_model_module": "@jupyter-widgets/base",
      "_model_module_version": "1.2.0",
      "_model_name": "LayoutModel",
      "_view_count": null,
      "_view_module": "@jupyter-widgets/base",
      "_view_module_version": "1.2.0",
      "_view_name": "LayoutView",
      "align_content": null,
      "align_items": null,
      "align_self": null,
      "border": null,
      "bottom": null,
      "display": null,
      "flex": null,
      "flex_flow": null,
      "grid_area": null,
      "grid_auto_columns": null,
      "grid_auto_flow": null,
      "grid_auto_rows": null,
      "grid_column": null,
      "grid_gap": null,
      "grid_row": null,
      "grid_template_areas": null,
      "grid_template_columns": null,
      "grid_template_rows": null,
      "height": null,
      "justify_content": null,
      "justify_items": null,
      "left": null,
      "margin": null,
      "max_height": null,
      "max_width": null,
      "min_height": null,
      "min_width": null,
      "object_fit": null,
      "object_position": null,
      "order": null,
      "overflow": null,
      "overflow_x": null,
      "overflow_y": null,
      "padding": null,
      "right": null,
      "top": null,
      "visibility": null,
      "width": null
     }
    },
    "2e170cf73b8c44f3a965b95413fc049c": {
     "model_module": "@jupyter-widgets/base",
     "model_name": "LayoutModel",
     "state": {
      "_model_module": "@jupyter-widgets/base",
      "_model_module_version": "1.2.0",
      "_model_name": "LayoutModel",
      "_view_count": null,
      "_view_module": "@jupyter-widgets/base",
      "_view_module_version": "1.2.0",
      "_view_name": "LayoutView",
      "align_content": null,
      "align_items": null,
      "align_self": null,
      "border": null,
      "bottom": null,
      "display": null,
      "flex": null,
      "flex_flow": null,
      "grid_area": null,
      "grid_auto_columns": null,
      "grid_auto_flow": null,
      "grid_auto_rows": null,
      "grid_column": null,
      "grid_gap": null,
      "grid_row": null,
      "grid_template_areas": null,
      "grid_template_columns": null,
      "grid_template_rows": null,
      "height": null,
      "justify_content": null,
      "justify_items": null,
      "left": null,
      "margin": null,
      "max_height": null,
      "max_width": null,
      "min_height": null,
      "min_width": null,
      "object_fit": null,
      "object_position": null,
      "order": null,
      "overflow": null,
      "overflow_x": null,
      "overflow_y": null,
      "padding": null,
      "right": null,
      "top": null,
      "visibility": null,
      "width": null
     }
    },
    "3432757e0b5148b5b832445d55992631": {
     "model_module": "@jupyter-widgets/base",
     "model_name": "LayoutModel",
     "state": {
      "_model_module": "@jupyter-widgets/base",
      "_model_module_version": "1.2.0",
      "_model_name": "LayoutModel",
      "_view_count": null,
      "_view_module": "@jupyter-widgets/base",
      "_view_module_version": "1.2.0",
      "_view_name": "LayoutView",
      "align_content": null,
      "align_items": null,
      "align_self": null,
      "border": null,
      "bottom": null,
      "display": null,
      "flex": null,
      "flex_flow": null,
      "grid_area": null,
      "grid_auto_columns": null,
      "grid_auto_flow": null,
      "grid_auto_rows": null,
      "grid_column": null,
      "grid_gap": null,
      "grid_row": null,
      "grid_template_areas": null,
      "grid_template_columns": null,
      "grid_template_rows": null,
      "height": null,
      "justify_content": null,
      "justify_items": null,
      "left": null,
      "margin": null,
      "max_height": null,
      "max_width": null,
      "min_height": null,
      "min_width": null,
      "object_fit": null,
      "object_position": null,
      "order": null,
      "overflow": null,
      "overflow_x": null,
      "overflow_y": null,
      "padding": null,
      "right": null,
      "top": null,
      "visibility": null,
      "width": null
     }
    },
    "3b91afd9d3504a70993cffbe49caa9b1": {
     "model_module": "@jupyter-widgets/base",
     "model_name": "LayoutModel",
     "state": {
      "_model_module": "@jupyter-widgets/base",
      "_model_module_version": "1.2.0",
      "_model_name": "LayoutModel",
      "_view_count": null,
      "_view_module": "@jupyter-widgets/base",
      "_view_module_version": "1.2.0",
      "_view_name": "LayoutView",
      "align_content": null,
      "align_items": null,
      "align_self": null,
      "border": null,
      "bottom": null,
      "display": null,
      "flex": null,
      "flex_flow": null,
      "grid_area": null,
      "grid_auto_columns": null,
      "grid_auto_flow": null,
      "grid_auto_rows": null,
      "grid_column": null,
      "grid_gap": null,
      "grid_row": null,
      "grid_template_areas": null,
      "grid_template_columns": null,
      "grid_template_rows": null,
      "height": null,
      "justify_content": null,
      "justify_items": null,
      "left": null,
      "margin": null,
      "max_height": null,
      "max_width": null,
      "min_height": null,
      "min_width": null,
      "object_fit": null,
      "object_position": null,
      "order": null,
      "overflow": null,
      "overflow_x": null,
      "overflow_y": null,
      "padding": null,
      "right": null,
      "top": null,
      "visibility": null,
      "width": null
     }
    },
    "4178711dbec748b4ac2fc1a492e307c5": {
     "model_module": "@jupyter-widgets/controls",
     "model_name": "ProgressStyleModel",
     "state": {
      "_model_module": "@jupyter-widgets/controls",
      "_model_module_version": "1.5.0",
      "_model_name": "ProgressStyleModel",
      "_view_count": null,
      "_view_module": "@jupyter-widgets/base",
      "_view_module_version": "1.2.0",
      "_view_name": "StyleView",
      "bar_color": null,
      "description_width": "initial"
     }
    },
    "47c004ab2a934cdd9640c16e8dd06aa6": {
     "model_module": "@jupyter-widgets/base",
     "model_name": "LayoutModel",
     "state": {
      "_model_module": "@jupyter-widgets/base",
      "_model_module_version": "1.2.0",
      "_model_name": "LayoutModel",
      "_view_count": null,
      "_view_module": "@jupyter-widgets/base",
      "_view_module_version": "1.2.0",
      "_view_name": "LayoutView",
      "align_content": null,
      "align_items": null,
      "align_self": null,
      "border": null,
      "bottom": null,
      "display": null,
      "flex": null,
      "flex_flow": null,
      "grid_area": null,
      "grid_auto_columns": null,
      "grid_auto_flow": null,
      "grid_auto_rows": null,
      "grid_column": null,
      "grid_gap": null,
      "grid_row": null,
      "grid_template_areas": null,
      "grid_template_columns": null,
      "grid_template_rows": null,
      "height": null,
      "justify_content": null,
      "justify_items": null,
      "left": null,
      "margin": null,
      "max_height": null,
      "max_width": null,
      "min_height": null,
      "min_width": null,
      "object_fit": null,
      "object_position": null,
      "order": null,
      "overflow": null,
      "overflow_x": null,
      "overflow_y": null,
      "padding": null,
      "right": null,
      "top": null,
      "visibility": null,
      "width": null
     }
    },
    "52266cf7f966484cb98547499801718b": {
     "model_module": "@jupyter-widgets/base",
     "model_name": "LayoutModel",
     "state": {
      "_model_module": "@jupyter-widgets/base",
      "_model_module_version": "1.2.0",
      "_model_name": "LayoutModel",
      "_view_count": null,
      "_view_module": "@jupyter-widgets/base",
      "_view_module_version": "1.2.0",
      "_view_name": "LayoutView",
      "align_content": null,
      "align_items": null,
      "align_self": null,
      "border": null,
      "bottom": null,
      "display": null,
      "flex": null,
      "flex_flow": null,
      "grid_area": null,
      "grid_auto_columns": null,
      "grid_auto_flow": null,
      "grid_auto_rows": null,
      "grid_column": null,
      "grid_gap": null,
      "grid_row": null,
      "grid_template_areas": null,
      "grid_template_columns": null,
      "grid_template_rows": null,
      "height": null,
      "justify_content": null,
      "justify_items": null,
      "left": null,
      "margin": null,
      "max_height": null,
      "max_width": null,
      "min_height": null,
      "min_width": null,
      "object_fit": null,
      "object_position": null,
      "order": null,
      "overflow": null,
      "overflow_x": null,
      "overflow_y": null,
      "padding": null,
      "right": null,
      "top": null,
      "visibility": null,
      "width": null
     }
    },
    "5255f409df94418f8305e2fdfe0f66e3": {
     "model_module": "@jupyter-widgets/base",
     "model_name": "LayoutModel",
     "state": {
      "_model_module": "@jupyter-widgets/base",
      "_model_module_version": "1.2.0",
      "_model_name": "LayoutModel",
      "_view_count": null,
      "_view_module": "@jupyter-widgets/base",
      "_view_module_version": "1.2.0",
      "_view_name": "LayoutView",
      "align_content": null,
      "align_items": null,
      "align_self": null,
      "border": null,
      "bottom": null,
      "display": null,
      "flex": null,
      "flex_flow": null,
      "grid_area": null,
      "grid_auto_columns": null,
      "grid_auto_flow": null,
      "grid_auto_rows": null,
      "grid_column": null,
      "grid_gap": null,
      "grid_row": null,
      "grid_template_areas": null,
      "grid_template_columns": null,
      "grid_template_rows": null,
      "height": null,
      "justify_content": null,
      "justify_items": null,
      "left": null,
      "margin": null,
      "max_height": null,
      "max_width": null,
      "min_height": null,
      "min_width": null,
      "object_fit": null,
      "object_position": null,
      "order": null,
      "overflow": null,
      "overflow_x": null,
      "overflow_y": null,
      "padding": null,
      "right": null,
      "top": null,
      "visibility": null,
      "width": null
     }
    },
    "5d22c450a7654cd1b4da8dcaf34c60b2": {
     "model_module": "@jupyter-widgets/controls",
     "model_name": "FloatProgressModel",
     "state": {
      "_dom_classes": [],
      "_model_module": "@jupyter-widgets/controls",
      "_model_module_version": "1.5.0",
      "_model_name": "FloatProgressModel",
      "_view_count": null,
      "_view_module": "@jupyter-widgets/controls",
      "_view_module_version": "1.5.0",
      "_view_name": "ProgressView",
      "bar_style": "success",
      "description": "dev: 100%",
      "description_tooltip": null,
      "layout": "IPY_MODEL_b91aec40cf9a4cb8afa0cebb1abf3e81",
      "max": 20,
      "min": 0,
      "orientation": "horizontal",
      "style": "IPY_MODEL_10e6b16b4c7940c69d8fc64c4f5b4662",
      "value": 20
     }
    },
    "5e61b8a8278c46d383dd4427563c3771": {
     "model_module": "@jupyter-widgets/controls",
     "model_name": "DescriptionStyleModel",
     "state": {
      "_model_module": "@jupyter-widgets/controls",
      "_model_module_version": "1.5.0",
      "_model_name": "DescriptionStyleModel",
      "_view_count": null,
      "_view_module": "@jupyter-widgets/base",
      "_view_module_version": "1.2.0",
      "_view_name": "StyleView",
      "description_width": ""
     }
    },
    "5f38cb6c4e93478eba3c8cb23fce2034": {
     "model_module": "@jupyter-widgets/controls",
     "model_name": "HBoxModel",
     "state": {
      "_dom_classes": [],
      "_model_module": "@jupyter-widgets/controls",
      "_model_module_version": "1.5.0",
      "_model_name": "HBoxModel",
      "_view_count": null,
      "_view_module": "@jupyter-widgets/controls",
      "_view_module_version": "1.5.0",
      "_view_name": "HBoxView",
      "box_style": "",
      "children": [
       "IPY_MODEL_b4ae1621fe0441f592e3e9a03f62159f",
       "IPY_MODEL_134b8f6fe0cf47c9a60b2cd36251981f"
      ],
      "layout": "IPY_MODEL_3432757e0b5148b5b832445d55992631"
     }
    },
    "609f8abf81a64a15b0423cfa37f3d7e2": {
     "model_module": "@jupyter-widgets/base",
     "model_name": "LayoutModel",
     "state": {
      "_model_module": "@jupyter-widgets/base",
      "_model_module_version": "1.2.0",
      "_model_name": "LayoutModel",
      "_view_count": null,
      "_view_module": "@jupyter-widgets/base",
      "_view_module_version": "1.2.0",
      "_view_name": "LayoutView",
      "align_content": null,
      "align_items": null,
      "align_self": null,
      "border": null,
      "bottom": null,
      "display": null,
      "flex": null,
      "flex_flow": null,
      "grid_area": null,
      "grid_auto_columns": null,
      "grid_auto_flow": null,
      "grid_auto_rows": null,
      "grid_column": null,
      "grid_gap": null,
      "grid_row": null,
      "grid_template_areas": null,
      "grid_template_columns": null,
      "grid_template_rows": null,
      "height": null,
      "justify_content": null,
      "justify_items": null,
      "left": null,
      "margin": null,
      "max_height": null,
      "max_width": null,
      "min_height": null,
      "min_width": null,
      "object_fit": null,
      "object_position": null,
      "order": null,
      "overflow": null,
      "overflow_x": null,
      "overflow_y": null,
      "padding": null,
      "right": null,
      "top": null,
      "visibility": null,
      "width": null
     }
    },
    "60b999186fcc4620a6fcc1317f36b525": {
     "model_module": "@jupyter-widgets/controls",
     "model_name": "HTMLModel",
     "state": {
      "_dom_classes": [],
      "_model_module": "@jupyter-widgets/controls",
      "_model_module_version": "1.5.0",
      "_model_name": "HTMLModel",
      "_view_count": null,
      "_view_module": "@jupyter-widgets/controls",
      "_view_module_version": "1.5.0",
      "_view_name": "HTMLView",
      "description": "",
      "description_tooltip": null,
      "layout": "IPY_MODEL_3b91afd9d3504a70993cffbe49caa9b1",
      "placeholder": "​",
      "style": "IPY_MODEL_cee1d1ded3cf47208c215d314d909a61",
      "value": " 20/20 [00:19&lt;00:00,  1.01it/s]"
     }
    },
    "60eeabfd1f794b4880b6ad4892a7cfb4": {
     "model_module": "@jupyter-widgets/base",
     "model_name": "LayoutModel",
     "state": {
      "_model_module": "@jupyter-widgets/base",
      "_model_module_version": "1.2.0",
      "_model_name": "LayoutModel",
      "_view_count": null,
      "_view_module": "@jupyter-widgets/base",
      "_view_module_version": "1.2.0",
      "_view_name": "LayoutView",
      "align_content": null,
      "align_items": null,
      "align_self": null,
      "border": null,
      "bottom": null,
      "display": null,
      "flex": null,
      "flex_flow": null,
      "grid_area": null,
      "grid_auto_columns": null,
      "grid_auto_flow": null,
      "grid_auto_rows": null,
      "grid_column": null,
      "grid_gap": null,
      "grid_row": null,
      "grid_template_areas": null,
      "grid_template_columns": null,
      "grid_template_rows": null,
      "height": null,
      "justify_content": null,
      "justify_items": null,
      "left": null,
      "margin": null,
      "max_height": null,
      "max_width": null,
      "min_height": null,
      "min_width": null,
      "object_fit": null,
      "object_position": null,
      "order": null,
      "overflow": null,
      "overflow_x": null,
      "overflow_y": null,
      "padding": null,
      "right": null,
      "top": null,
      "visibility": null,
      "width": null
     }
    },
    "62518e5e21934fb7a519a31e6629bb54": {
     "model_module": "@jupyter-widgets/controls",
     "model_name": "ProgressStyleModel",
     "state": {
      "_model_module": "@jupyter-widgets/controls",
      "_model_module_version": "1.5.0",
      "_model_name": "ProgressStyleModel",
      "_view_count": null,
      "_view_module": "@jupyter-widgets/base",
      "_view_module_version": "1.2.0",
      "_view_name": "StyleView",
      "bar_color": null,
      "description_width": "initial"
     }
    },
    "629224b1ce0e4630901fb7d47d5d2b47": {
     "model_module": "@jupyter-widgets/controls",
     "model_name": "HTMLModel",
     "state": {
      "_dom_classes": [],
      "_model_module": "@jupyter-widgets/controls",
      "_model_module_version": "1.5.0",
      "_model_name": "HTMLModel",
      "_view_count": null,
      "_view_module": "@jupyter-widgets/controls",
      "_view_module_version": "1.5.0",
      "_view_name": "HTMLView",
      "description": "",
      "description_tooltip": null,
      "layout": "IPY_MODEL_5255f409df94418f8305e2fdfe0f66e3",
      "placeholder": "​",
      "style": "IPY_MODEL_669124c9ee884c1fa38c2fefdbbcb0f2",
      "value": " 20/20 [00:40&lt;00:00,  2.05s/it]"
     }
    },
    "669124c9ee884c1fa38c2fefdbbcb0f2": {
     "model_module": "@jupyter-widgets/controls",
     "model_name": "DescriptionStyleModel",
     "state": {
      "_model_module": "@jupyter-widgets/controls",
      "_model_module_version": "1.5.0",
      "_model_name": "DescriptionStyleModel",
      "_view_count": null,
      "_view_module": "@jupyter-widgets/base",
      "_view_module_version": "1.2.0",
      "_view_name": "StyleView",
      "description_width": ""
     }
    },
    "6721fdf6e60340378607c6c81ab6dc16": {
     "model_module": "@jupyter-widgets/base",
     "model_name": "LayoutModel",
     "state": {
      "_model_module": "@jupyter-widgets/base",
      "_model_module_version": "1.2.0",
      "_model_name": "LayoutModel",
      "_view_count": null,
      "_view_module": "@jupyter-widgets/base",
      "_view_module_version": "1.2.0",
      "_view_name": "LayoutView",
      "align_content": null,
      "align_items": null,
      "align_self": null,
      "border": null,
      "bottom": null,
      "display": null,
      "flex": null,
      "flex_flow": null,
      "grid_area": null,
      "grid_auto_columns": null,
      "grid_auto_flow": null,
      "grid_auto_rows": null,
      "grid_column": null,
      "grid_gap": null,
      "grid_row": null,
      "grid_template_areas": null,
      "grid_template_columns": null,
      "grid_template_rows": null,
      "height": null,
      "justify_content": null,
      "justify_items": null,
      "left": null,
      "margin": null,
      "max_height": null,
      "max_width": null,
      "min_height": null,
      "min_width": null,
      "object_fit": null,
      "object_position": null,
      "order": null,
      "overflow": null,
      "overflow_x": null,
      "overflow_y": null,
      "padding": null,
      "right": null,
      "top": null,
      "visibility": null,
      "width": null
     }
    },
    "6984504e3a2c4e419445eff88e26ae0f": {
     "model_module": "@jupyter-widgets/base",
     "model_name": "LayoutModel",
     "state": {
      "_model_module": "@jupyter-widgets/base",
      "_model_module_version": "1.2.0",
      "_model_name": "LayoutModel",
      "_view_count": null,
      "_view_module": "@jupyter-widgets/base",
      "_view_module_version": "1.2.0",
      "_view_name": "LayoutView",
      "align_content": null,
      "align_items": null,
      "align_self": null,
      "border": null,
      "bottom": null,
      "display": null,
      "flex": null,
      "flex_flow": null,
      "grid_area": null,
      "grid_auto_columns": null,
      "grid_auto_flow": null,
      "grid_auto_rows": null,
      "grid_column": null,
      "grid_gap": null,
      "grid_row": null,
      "grid_template_areas": null,
      "grid_template_columns": null,
      "grid_template_rows": null,
      "height": null,
      "justify_content": null,
      "justify_items": null,
      "left": null,
      "margin": null,
      "max_height": null,
      "max_width": null,
      "min_height": null,
      "min_width": null,
      "object_fit": null,
      "object_position": null,
      "order": null,
      "overflow": null,
      "overflow_x": null,
      "overflow_y": null,
      "padding": null,
      "right": null,
      "top": null,
      "visibility": null,
      "width": null
     }
    },
    "6bea52287b944bfda41a096336ec1f94": {
     "model_module": "@jupyter-widgets/controls",
     "model_name": "DescriptionStyleModel",
     "state": {
      "_model_module": "@jupyter-widgets/controls",
      "_model_module_version": "1.5.0",
      "_model_name": "DescriptionStyleModel",
      "_view_count": null,
      "_view_module": "@jupyter-widgets/base",
      "_view_module_version": "1.2.0",
      "_view_name": "StyleView",
      "description_width": ""
     }
    },
    "760202591fd649b5b03cf0a3f6771197": {
     "model_module": "@jupyter-widgets/controls",
     "model_name": "ProgressStyleModel",
     "state": {
      "_model_module": "@jupyter-widgets/controls",
      "_model_module_version": "1.5.0",
      "_model_name": "ProgressStyleModel",
      "_view_count": null,
      "_view_module": "@jupyter-widgets/base",
      "_view_module_version": "1.2.0",
      "_view_name": "StyleView",
      "bar_color": null,
      "description_width": "initial"
     }
    },
    "787883e0f2c146708e902f1bae4ebae3": {
     "model_module": "@jupyter-widgets/base",
     "model_name": "LayoutModel",
     "state": {
      "_model_module": "@jupyter-widgets/base",
      "_model_module_version": "1.2.0",
      "_model_name": "LayoutModel",
      "_view_count": null,
      "_view_module": "@jupyter-widgets/base",
      "_view_module_version": "1.2.0",
      "_view_name": "LayoutView",
      "align_content": null,
      "align_items": null,
      "align_self": null,
      "border": null,
      "bottom": null,
      "display": null,
      "flex": null,
      "flex_flow": null,
      "grid_area": null,
      "grid_auto_columns": null,
      "grid_auto_flow": null,
      "grid_auto_rows": null,
      "grid_column": null,
      "grid_gap": null,
      "grid_row": null,
      "grid_template_areas": null,
      "grid_template_columns": null,
      "grid_template_rows": null,
      "height": null,
      "justify_content": null,
      "justify_items": null,
      "left": null,
      "margin": null,
      "max_height": null,
      "max_width": null,
      "min_height": null,
      "min_width": null,
      "object_fit": null,
      "object_position": null,
      "order": null,
      "overflow": null,
      "overflow_x": null,
      "overflow_y": null,
      "padding": null,
      "right": null,
      "top": null,
      "visibility": null,
      "width": null
     }
    },
    "7943782fd4284bfd94afbec1e70a530b": {
     "model_module": "@jupyter-widgets/base",
     "model_name": "LayoutModel",
     "state": {
      "_model_module": "@jupyter-widgets/base",
      "_model_module_version": "1.2.0",
      "_model_name": "LayoutModel",
      "_view_count": null,
      "_view_module": "@jupyter-widgets/base",
      "_view_module_version": "1.2.0",
      "_view_name": "LayoutView",
      "align_content": null,
      "align_items": null,
      "align_self": null,
      "border": null,
      "bottom": null,
      "display": null,
      "flex": null,
      "flex_flow": null,
      "grid_area": null,
      "grid_auto_columns": null,
      "grid_auto_flow": null,
      "grid_auto_rows": null,
      "grid_column": null,
      "grid_gap": null,
      "grid_row": null,
      "grid_template_areas": null,
      "grid_template_columns": null,
      "grid_template_rows": null,
      "height": null,
      "justify_content": null,
      "justify_items": null,
      "left": null,
      "margin": null,
      "max_height": null,
      "max_width": null,
      "min_height": null,
      "min_width": null,
      "object_fit": null,
      "object_position": null,
      "order": null,
      "overflow": null,
      "overflow_x": null,
      "overflow_y": null,
      "padding": null,
      "right": null,
      "top": null,
      "visibility": null,
      "width": null
     }
    },
    "7bf3a9c31cf94bdeaa00fa1591f68f75": {
     "model_module": "@jupyter-widgets/controls",
     "model_name": "FloatProgressModel",
     "state": {
      "_dom_classes": [],
      "_model_module": "@jupyter-widgets/controls",
      "_model_module_version": "1.5.0",
      "_model_name": "FloatProgressModel",
      "_view_count": null,
      "_view_module": "@jupyter-widgets/controls",
      "_view_module_version": "1.5.0",
      "_view_name": "ProgressView",
      "bar_style": "success",
      "description": "dev: 100%",
      "description_tooltip": null,
      "layout": "IPY_MODEL_ebe384bc4fe04d32aa8c3f907a503312",
      "max": 20,
      "min": 0,
      "orientation": "horizontal",
      "style": "IPY_MODEL_62518e5e21934fb7a519a31e6629bb54",
      "value": 20
     }
    },
    "7f438dee3c2e4d91b46ff2ce86463b82": {
     "model_module": "@jupyter-widgets/base",
     "model_name": "LayoutModel",
     "state": {
      "_model_module": "@jupyter-widgets/base",
      "_model_module_version": "1.2.0",
      "_model_name": "LayoutModel",
      "_view_count": null,
      "_view_module": "@jupyter-widgets/base",
      "_view_module_version": "1.2.0",
      "_view_name": "LayoutView",
      "align_content": null,
      "align_items": null,
      "align_self": null,
      "border": null,
      "bottom": null,
      "display": null,
      "flex": null,
      "flex_flow": null,
      "grid_area": null,
      "grid_auto_columns": null,
      "grid_auto_flow": null,
      "grid_auto_rows": null,
      "grid_column": null,
      "grid_gap": null,
      "grid_row": null,
      "grid_template_areas": null,
      "grid_template_columns": null,
      "grid_template_rows": null,
      "height": null,
      "justify_content": null,
      "justify_items": null,
      "left": null,
      "margin": null,
      "max_height": null,
      "max_width": null,
      "min_height": null,
      "min_width": null,
      "object_fit": null,
      "object_position": null,
      "order": null,
      "overflow": null,
      "overflow_x": null,
      "overflow_y": null,
      "padding": null,
      "right": null,
      "top": null,
      "visibility": null,
      "width": null
     }
    },
    "7fe6ade07ab7456288800587c1b9ff88": {
     "model_module": "@jupyter-widgets/controls",
     "model_name": "FloatProgressModel",
     "state": {
      "_dom_classes": [],
      "_model_module": "@jupyter-widgets/controls",
      "_model_module_version": "1.5.0",
      "_model_name": "FloatProgressModel",
      "_view_count": null,
      "_view_module": "@jupyter-widgets/controls",
      "_view_module_version": "1.5.0",
      "_view_name": "ProgressView",
      "bar_style": "success",
      "description": "dev: 100%",
      "description_tooltip": null,
      "layout": "IPY_MODEL_837a32caeb4d4d5cbb35314cb30feeb5",
      "max": 20,
      "min": 0,
      "orientation": "horizontal",
      "style": "IPY_MODEL_4178711dbec748b4ac2fc1a492e307c5",
      "value": 20
     }
    },
    "8124fd2189884f72a5be1fdf91aaa35f": {
     "model_module": "@jupyter-widgets/base",
     "model_name": "LayoutModel",
     "state": {
      "_model_module": "@jupyter-widgets/base",
      "_model_module_version": "1.2.0",
      "_model_name": "LayoutModel",
      "_view_count": null,
      "_view_module": "@jupyter-widgets/base",
      "_view_module_version": "1.2.0",
      "_view_name": "LayoutView",
      "align_content": null,
      "align_items": null,
      "align_self": null,
      "border": null,
      "bottom": null,
      "display": null,
      "flex": null,
      "flex_flow": null,
      "grid_area": null,
      "grid_auto_columns": null,
      "grid_auto_flow": null,
      "grid_auto_rows": null,
      "grid_column": null,
      "grid_gap": null,
      "grid_row": null,
      "grid_template_areas": null,
      "grid_template_columns": null,
      "grid_template_rows": null,
      "height": null,
      "justify_content": null,
      "justify_items": null,
      "left": null,
      "margin": null,
      "max_height": null,
      "max_width": null,
      "min_height": null,
      "min_width": null,
      "object_fit": null,
      "object_position": null,
      "order": null,
      "overflow": null,
      "overflow_x": null,
      "overflow_y": null,
      "padding": null,
      "right": null,
      "top": null,
      "visibility": null,
      "width": null
     }
    },
    "822f4ae5cbfd4c8f95c8d05f1f924203": {
     "model_module": "@jupyter-widgets/controls",
     "model_name": "HTMLModel",
     "state": {
      "_dom_classes": [],
      "_model_module": "@jupyter-widgets/controls",
      "_model_module_version": "1.5.0",
      "_model_name": "HTMLModel",
      "_view_count": null,
      "_view_module": "@jupyter-widgets/controls",
      "_view_module_version": "1.5.0",
      "_view_name": "HTMLView",
      "description": "",
      "description_tooltip": null,
      "layout": "IPY_MODEL_2e170cf73b8c44f3a965b95413fc049c",
      "placeholder": "​",
      "style": "IPY_MODEL_b8907c71a01e4f9aac6d3e7fac5ad58c",
      "value": " 20/20 [00:22&lt;00:00,  1.10s/it]"
     }
    },
    "837a32caeb4d4d5cbb35314cb30feeb5": {
     "model_module": "@jupyter-widgets/base",
     "model_name": "LayoutModel",
     "state": {
      "_model_module": "@jupyter-widgets/base",
      "_model_module_version": "1.2.0",
      "_model_name": "LayoutModel",
      "_view_count": null,
      "_view_module": "@jupyter-widgets/base",
      "_view_module_version": "1.2.0",
      "_view_name": "LayoutView",
      "align_content": null,
      "align_items": null,
      "align_self": null,
      "border": null,
      "bottom": null,
      "display": null,
      "flex": null,
      "flex_flow": null,
      "grid_area": null,
      "grid_auto_columns": null,
      "grid_auto_flow": null,
      "grid_auto_rows": null,
      "grid_column": null,
      "grid_gap": null,
      "grid_row": null,
      "grid_template_areas": null,
      "grid_template_columns": null,
      "grid_template_rows": null,
      "height": null,
      "justify_content": null,
      "justify_items": null,
      "left": null,
      "margin": null,
      "max_height": null,
      "max_width": null,
      "min_height": null,
      "min_width": null,
      "object_fit": null,
      "object_position": null,
      "order": null,
      "overflow": null,
      "overflow_x": null,
      "overflow_y": null,
      "padding": null,
      "right": null,
      "top": null,
      "visibility": null,
      "width": null
     }
    },
    "84835e203f6a4e958803b9163717f9a0": {
     "model_module": "@jupyter-widgets/controls",
     "model_name": "FloatProgressModel",
     "state": {
      "_dom_classes": [],
      "_model_module": "@jupyter-widgets/controls",
      "_model_module_version": "1.5.0",
      "_model_name": "FloatProgressModel",
      "_view_count": null,
      "_view_module": "@jupyter-widgets/controls",
      "_view_module_version": "1.5.0",
      "_view_name": "ProgressView",
      "bar_style": "success",
      "description": "dev: 100%",
      "description_tooltip": null,
      "layout": "IPY_MODEL_0ba5815b7ec54c4680fe48ed3fb015c6",
      "max": 20,
      "min": 0,
      "orientation": "horizontal",
      "style": "IPY_MODEL_84db42c7169e4d12b45eefe80540a0b5",
      "value": 20
     }
    },
    "84db42c7169e4d12b45eefe80540a0b5": {
     "model_module": "@jupyter-widgets/controls",
     "model_name": "ProgressStyleModel",
     "state": {
      "_model_module": "@jupyter-widgets/controls",
      "_model_module_version": "1.5.0",
      "_model_name": "ProgressStyleModel",
      "_view_count": null,
      "_view_module": "@jupyter-widgets/base",
      "_view_module_version": "1.2.0",
      "_view_name": "StyleView",
      "bar_color": null,
      "description_width": "initial"
     }
    },
    "886136a2ed504dcaae2d884c31b6c3f4": {
     "model_module": "@jupyter-widgets/controls",
     "model_name": "FloatProgressModel",
     "state": {
      "_dom_classes": [],
      "_model_module": "@jupyter-widgets/controls",
      "_model_module_version": "1.5.0",
      "_model_name": "FloatProgressModel",
      "_view_count": null,
      "_view_module": "@jupyter-widgets/controls",
      "_view_module_version": "1.5.0",
      "_view_name": "ProgressView",
      "bar_style": "success",
      "description": "dev: 100%",
      "description_tooltip": null,
      "layout": "IPY_MODEL_02be88c786354ce3aefd1dd34e8142b7",
      "max": 20,
      "min": 0,
      "orientation": "horizontal",
      "style": "IPY_MODEL_1eaf730305cc4cc590b75a7481c5db29",
      "value": 20
     }
    },
    "8c1583b28d8c436eb1b69e7bddb0af55": {
     "model_module": "@jupyter-widgets/base",
     "model_name": "LayoutModel",
     "state": {
      "_model_module": "@jupyter-widgets/base",
      "_model_module_version": "1.2.0",
      "_model_name": "LayoutModel",
      "_view_count": null,
      "_view_module": "@jupyter-widgets/base",
      "_view_module_version": "1.2.0",
      "_view_name": "LayoutView",
      "align_content": null,
      "align_items": null,
      "align_self": null,
      "border": null,
      "bottom": null,
      "display": null,
      "flex": null,
      "flex_flow": null,
      "grid_area": null,
      "grid_auto_columns": null,
      "grid_auto_flow": null,
      "grid_auto_rows": null,
      "grid_column": null,
      "grid_gap": null,
      "grid_row": null,
      "grid_template_areas": null,
      "grid_template_columns": null,
      "grid_template_rows": null,
      "height": null,
      "justify_content": null,
      "justify_items": null,
      "left": null,
      "margin": null,
      "max_height": null,
      "max_width": null,
      "min_height": null,
      "min_width": null,
      "object_fit": null,
      "object_position": null,
      "order": null,
      "overflow": null,
      "overflow_x": null,
      "overflow_y": null,
      "padding": null,
      "right": null,
      "top": null,
      "visibility": null,
      "width": null
     }
    },
    "90edfd49eb184f529332b33c497d508a": {
     "model_module": "@jupyter-widgets/base",
     "model_name": "LayoutModel",
     "state": {
      "_model_module": "@jupyter-widgets/base",
      "_model_module_version": "1.2.0",
      "_model_name": "LayoutModel",
      "_view_count": null,
      "_view_module": "@jupyter-widgets/base",
      "_view_module_version": "1.2.0",
      "_view_name": "LayoutView",
      "align_content": null,
      "align_items": null,
      "align_self": null,
      "border": null,
      "bottom": null,
      "display": null,
      "flex": null,
      "flex_flow": null,
      "grid_area": null,
      "grid_auto_columns": null,
      "grid_auto_flow": null,
      "grid_auto_rows": null,
      "grid_column": null,
      "grid_gap": null,
      "grid_row": null,
      "grid_template_areas": null,
      "grid_template_columns": null,
      "grid_template_rows": null,
      "height": null,
      "justify_content": null,
      "justify_items": null,
      "left": null,
      "margin": null,
      "max_height": null,
      "max_width": null,
      "min_height": null,
      "min_width": null,
      "object_fit": null,
      "object_position": null,
      "order": null,
      "overflow": null,
      "overflow_x": null,
      "overflow_y": null,
      "padding": null,
      "right": null,
      "top": null,
      "visibility": null,
      "width": null
     }
    },
    "9c429709362e4d499fb7781d9411f591": {
     "model_module": "@jupyter-widgets/controls",
     "model_name": "ProgressStyleModel",
     "state": {
      "_model_module": "@jupyter-widgets/controls",
      "_model_module_version": "1.5.0",
      "_model_name": "ProgressStyleModel",
      "_view_count": null,
      "_view_module": "@jupyter-widgets/base",
      "_view_module_version": "1.2.0",
      "_view_name": "StyleView",
      "bar_color": null,
      "description_width": "initial"
     }
    },
    "9c53a0a287c54b6987a80a3ae8f2a735": {
     "model_module": "@jupyter-widgets/controls",
     "model_name": "HTMLModel",
     "state": {
      "_dom_classes": [],
      "_model_module": "@jupyter-widgets/controls",
      "_model_module_version": "1.5.0",
      "_model_name": "HTMLModel",
      "_view_count": null,
      "_view_module": "@jupyter-widgets/controls",
      "_view_module_version": "1.5.0",
      "_view_name": "HTMLView",
      "description": "",
      "description_tooltip": null,
      "layout": "IPY_MODEL_a2536c340dd94eeba6c0940ea765241d",
      "placeholder": "​",
      "style": "IPY_MODEL_5e61b8a8278c46d383dd4427563c3771",
      "value": " 20/20 [00:28&lt;00:00,  1.42s/it]"
     }
    },
    "9ffc3eb3d0f442cdb2866fb5a021d64f": {
     "model_module": "@jupyter-widgets/controls",
     "model_name": "HBoxModel",
     "state": {
      "_dom_classes": [],
      "_model_module": "@jupyter-widgets/controls",
      "_model_module_version": "1.5.0",
      "_model_name": "HBoxModel",
      "_view_count": null,
      "_view_module": "@jupyter-widgets/controls",
      "_view_module_version": "1.5.0",
      "_view_name": "HBoxView",
      "box_style": "",
      "children": [
       "IPY_MODEL_7fe6ade07ab7456288800587c1b9ff88",
       "IPY_MODEL_60b999186fcc4620a6fcc1317f36b525"
      ],
      "layout": "IPY_MODEL_47c004ab2a934cdd9640c16e8dd06aa6"
     }
    },
    "a2536c340dd94eeba6c0940ea765241d": {
     "model_module": "@jupyter-widgets/base",
     "model_name": "LayoutModel",
     "state": {
      "_model_module": "@jupyter-widgets/base",
      "_model_module_version": "1.2.0",
      "_model_name": "LayoutModel",
      "_view_count": null,
      "_view_module": "@jupyter-widgets/base",
      "_view_module_version": "1.2.0",
      "_view_name": "LayoutView",
      "align_content": null,
      "align_items": null,
      "align_self": null,
      "border": null,
      "bottom": null,
      "display": null,
      "flex": null,
      "flex_flow": null,
      "grid_area": null,
      "grid_auto_columns": null,
      "grid_auto_flow": null,
      "grid_auto_rows": null,
      "grid_column": null,
      "grid_gap": null,
      "grid_row": null,
      "grid_template_areas": null,
      "grid_template_columns": null,
      "grid_template_rows": null,
      "height": null,
      "justify_content": null,
      "justify_items": null,
      "left": null,
      "margin": null,
      "max_height": null,
      "max_width": null,
      "min_height": null,
      "min_width": null,
      "object_fit": null,
      "object_position": null,
      "order": null,
      "overflow": null,
      "overflow_x": null,
      "overflow_y": null,
      "padding": null,
      "right": null,
      "top": null,
      "visibility": null,
      "width": null
     }
    },
    "a436dd5d43d14c1bbc7d8b62fd20336d": {
     "model_module": "@jupyter-widgets/base",
     "model_name": "LayoutModel",
     "state": {
      "_model_module": "@jupyter-widgets/base",
      "_model_module_version": "1.2.0",
      "_model_name": "LayoutModel",
      "_view_count": null,
      "_view_module": "@jupyter-widgets/base",
      "_view_module_version": "1.2.0",
      "_view_name": "LayoutView",
      "align_content": null,
      "align_items": null,
      "align_self": null,
      "border": null,
      "bottom": null,
      "display": null,
      "flex": null,
      "flex_flow": null,
      "grid_area": null,
      "grid_auto_columns": null,
      "grid_auto_flow": null,
      "grid_auto_rows": null,
      "grid_column": null,
      "grid_gap": null,
      "grid_row": null,
      "grid_template_areas": null,
      "grid_template_columns": null,
      "grid_template_rows": null,
      "height": null,
      "justify_content": null,
      "justify_items": null,
      "left": null,
      "margin": null,
      "max_height": null,
      "max_width": null,
      "min_height": null,
      "min_width": null,
      "object_fit": null,
      "object_position": null,
      "order": null,
      "overflow": null,
      "overflow_x": null,
      "overflow_y": null,
      "padding": null,
      "right": null,
      "top": null,
      "visibility": null,
      "width": null
     }
    },
    "a6e5b78930334af4abb4ebb6c33ecf3d": {
     "model_module": "@jupyter-widgets/controls",
     "model_name": "ProgressStyleModel",
     "state": {
      "_model_module": "@jupyter-widgets/controls",
      "_model_module_version": "1.5.0",
      "_model_name": "ProgressStyleModel",
      "_view_count": null,
      "_view_module": "@jupyter-widgets/base",
      "_view_module_version": "1.2.0",
      "_view_name": "StyleView",
      "bar_color": null,
      "description_width": "initial"
     }
    },
    "aabc748465d04f1095191ff9dfaf6d84": {
     "model_module": "@jupyter-widgets/base",
     "model_name": "LayoutModel",
     "state": {
      "_model_module": "@jupyter-widgets/base",
      "_model_module_version": "1.2.0",
      "_model_name": "LayoutModel",
      "_view_count": null,
      "_view_module": "@jupyter-widgets/base",
      "_view_module_version": "1.2.0",
      "_view_name": "LayoutView",
      "align_content": null,
      "align_items": null,
      "align_self": null,
      "border": null,
      "bottom": null,
      "display": null,
      "flex": null,
      "flex_flow": null,
      "grid_area": null,
      "grid_auto_columns": null,
      "grid_auto_flow": null,
      "grid_auto_rows": null,
      "grid_column": null,
      "grid_gap": null,
      "grid_row": null,
      "grid_template_areas": null,
      "grid_template_columns": null,
      "grid_template_rows": null,
      "height": null,
      "justify_content": null,
      "justify_items": null,
      "left": null,
      "margin": null,
      "max_height": null,
      "max_width": null,
      "min_height": null,
      "min_width": null,
      "object_fit": null,
      "object_position": null,
      "order": null,
      "overflow": null,
      "overflow_x": null,
      "overflow_y": null,
      "padding": null,
      "right": null,
      "top": null,
      "visibility": null,
      "width": null
     }
    },
    "acfb7df63fbf47a1af2c689c94f8dabf": {
     "model_module": "@jupyter-widgets/base",
     "model_name": "LayoutModel",
     "state": {
      "_model_module": "@jupyter-widgets/base",
      "_model_module_version": "1.2.0",
      "_model_name": "LayoutModel",
      "_view_count": null,
      "_view_module": "@jupyter-widgets/base",
      "_view_module_version": "1.2.0",
      "_view_name": "LayoutView",
      "align_content": null,
      "align_items": null,
      "align_self": null,
      "border": null,
      "bottom": null,
      "display": null,
      "flex": null,
      "flex_flow": null,
      "grid_area": null,
      "grid_auto_columns": null,
      "grid_auto_flow": null,
      "grid_auto_rows": null,
      "grid_column": null,
      "grid_gap": null,
      "grid_row": null,
      "grid_template_areas": null,
      "grid_template_columns": null,
      "grid_template_rows": null,
      "height": null,
      "justify_content": null,
      "justify_items": null,
      "left": null,
      "margin": null,
      "max_height": null,
      "max_width": null,
      "min_height": null,
      "min_width": null,
      "object_fit": null,
      "object_position": null,
      "order": null,
      "overflow": null,
      "overflow_x": null,
      "overflow_y": null,
      "padding": null,
      "right": null,
      "top": null,
      "visibility": null,
      "width": null
     }
    },
    "af0a8ecc10c247a18b845975bed5843e": {
     "model_module": "@jupyter-widgets/controls",
     "model_name": "FloatProgressModel",
     "state": {
      "_dom_classes": [],
      "_model_module": "@jupyter-widgets/controls",
      "_model_module_version": "1.5.0",
      "_model_name": "FloatProgressModel",
      "_view_count": null,
      "_view_module": "@jupyter-widgets/controls",
      "_view_module_version": "1.5.0",
      "_view_name": "ProgressView",
      "bar_style": "success",
      "description": "dev: 100%",
      "description_tooltip": null,
      "layout": "IPY_MODEL_609f8abf81a64a15b0423cfa37f3d7e2",
      "max": 20,
      "min": 0,
      "orientation": "horizontal",
      "style": "IPY_MODEL_a6e5b78930334af4abb4ebb6c33ecf3d",
      "value": 20
     }
    },
    "b25231a10df64d52ab413b388f605316": {
     "model_module": "@jupyter-widgets/controls",
     "model_name": "HTMLModel",
     "state": {
      "_dom_classes": [],
      "_model_module": "@jupyter-widgets/controls",
      "_model_module_version": "1.5.0",
      "_model_name": "HTMLModel",
      "_view_count": null,
      "_view_module": "@jupyter-widgets/controls",
      "_view_module_version": "1.5.0",
      "_view_name": "HTMLView",
      "description": "",
      "description_tooltip": null,
      "layout": "IPY_MODEL_acfb7df63fbf47a1af2c689c94f8dabf",
      "placeholder": "​",
      "style": "IPY_MODEL_219f90cd54af482ab3a0212406a9a44e",
      "value": " 20/20 [00:15&lt;00:00,  1.27it/s]"
     }
    },
    "b3f027273c784b74bdce097334eb8876": {
     "model_module": "@jupyter-widgets/base",
     "model_name": "LayoutModel",
     "state": {
      "_model_module": "@jupyter-widgets/base",
      "_model_module_version": "1.2.0",
      "_model_name": "LayoutModel",
      "_view_count": null,
      "_view_module": "@jupyter-widgets/base",
      "_view_module_version": "1.2.0",
      "_view_name": "LayoutView",
      "align_content": null,
      "align_items": null,
      "align_self": null,
      "border": null,
      "bottom": null,
      "display": null,
      "flex": null,
      "flex_flow": null,
      "grid_area": null,
      "grid_auto_columns": null,
      "grid_auto_flow": null,
      "grid_auto_rows": null,
      "grid_column": null,
      "grid_gap": null,
      "grid_row": null,
      "grid_template_areas": null,
      "grid_template_columns": null,
      "grid_template_rows": null,
      "height": null,
      "justify_content": null,
      "justify_items": null,
      "left": null,
      "margin": null,
      "max_height": null,
      "max_width": null,
      "min_height": null,
      "min_width": null,
      "object_fit": null,
      "object_position": null,
      "order": null,
      "overflow": null,
      "overflow_x": null,
      "overflow_y": null,
      "padding": null,
      "right": null,
      "top": null,
      "visibility": null,
      "width": null
     }
    },
    "b4ae1621fe0441f592e3e9a03f62159f": {
     "model_module": "@jupyter-widgets/controls",
     "model_name": "FloatProgressModel",
     "state": {
      "_dom_classes": [],
      "_model_module": "@jupyter-widgets/controls",
      "_model_module_version": "1.5.0",
      "_model_name": "FloatProgressModel",
      "_view_count": null,
      "_view_module": "@jupyter-widgets/controls",
      "_view_module_version": "1.5.0",
      "_view_name": "ProgressView",
      "bar_style": "success",
      "description": "dev: 100%",
      "description_tooltip": null,
      "layout": "IPY_MODEL_90edfd49eb184f529332b33c497d508a",
      "max": 20,
      "min": 0,
      "orientation": "horizontal",
      "style": "IPY_MODEL_f66c05c5f7f7444b923547551cda330c",
      "value": 20
     }
    },
    "b8907c71a01e4f9aac6d3e7fac5ad58c": {
     "model_module": "@jupyter-widgets/controls",
     "model_name": "DescriptionStyleModel",
     "state": {
      "_model_module": "@jupyter-widgets/controls",
      "_model_module_version": "1.5.0",
      "_model_name": "DescriptionStyleModel",
      "_view_count": null,
      "_view_module": "@jupyter-widgets/base",
      "_view_module_version": "1.2.0",
      "_view_name": "StyleView",
      "description_width": ""
     }
    },
    "b91aec40cf9a4cb8afa0cebb1abf3e81": {
     "model_module": "@jupyter-widgets/base",
     "model_name": "LayoutModel",
     "state": {
      "_model_module": "@jupyter-widgets/base",
      "_model_module_version": "1.2.0",
      "_model_name": "LayoutModel",
      "_view_count": null,
      "_view_module": "@jupyter-widgets/base",
      "_view_module_version": "1.2.0",
      "_view_name": "LayoutView",
      "align_content": null,
      "align_items": null,
      "align_self": null,
      "border": null,
      "bottom": null,
      "display": null,
      "flex": null,
      "flex_flow": null,
      "grid_area": null,
      "grid_auto_columns": null,
      "grid_auto_flow": null,
      "grid_auto_rows": null,
      "grid_column": null,
      "grid_gap": null,
      "grid_row": null,
      "grid_template_areas": null,
      "grid_template_columns": null,
      "grid_template_rows": null,
      "height": null,
      "justify_content": null,
      "justify_items": null,
      "left": null,
      "margin": null,
      "max_height": null,
      "max_width": null,
      "min_height": null,
      "min_width": null,
      "object_fit": null,
      "object_position": null,
      "order": null,
      "overflow": null,
      "overflow_x": null,
      "overflow_y": null,
      "padding": null,
      "right": null,
      "top": null,
      "visibility": null,
      "width": null
     }
    },
    "c18028afc6ab48d684023b4c1eb04c17": {
     "model_module": "@jupyter-widgets/base",
     "model_name": "LayoutModel",
     "state": {
      "_model_module": "@jupyter-widgets/base",
      "_model_module_version": "1.2.0",
      "_model_name": "LayoutModel",
      "_view_count": null,
      "_view_module": "@jupyter-widgets/base",
      "_view_module_version": "1.2.0",
      "_view_name": "LayoutView",
      "align_content": null,
      "align_items": null,
      "align_self": null,
      "border": null,
      "bottom": null,
      "display": null,
      "flex": null,
      "flex_flow": null,
      "grid_area": null,
      "grid_auto_columns": null,
      "grid_auto_flow": null,
      "grid_auto_rows": null,
      "grid_column": null,
      "grid_gap": null,
      "grid_row": null,
      "grid_template_areas": null,
      "grid_template_columns": null,
      "grid_template_rows": null,
      "height": null,
      "justify_content": null,
      "justify_items": null,
      "left": null,
      "margin": null,
      "max_height": null,
      "max_width": null,
      "min_height": null,
      "min_width": null,
      "object_fit": null,
      "object_position": null,
      "order": null,
      "overflow": null,
      "overflow_x": null,
      "overflow_y": null,
      "padding": null,
      "right": null,
      "top": null,
      "visibility": null,
      "width": null
     }
    },
    "c54345b982ea4ee8b9e0b13dcc6b9a60": {
     "model_module": "@jupyter-widgets/controls",
     "model_name": "ProgressStyleModel",
     "state": {
      "_model_module": "@jupyter-widgets/controls",
      "_model_module_version": "1.5.0",
      "_model_name": "ProgressStyleModel",
      "_view_count": null,
      "_view_module": "@jupyter-widgets/base",
      "_view_module_version": "1.2.0",
      "_view_name": "StyleView",
      "bar_color": null,
      "description_width": "initial"
     }
    },
    "ca052561dfd74cee9876fd8af7687373": {
     "model_module": "@jupyter-widgets/controls",
     "model_name": "FloatProgressModel",
     "state": {
      "_dom_classes": [],
      "_model_module": "@jupyter-widgets/controls",
      "_model_module_version": "1.5.0",
      "_model_name": "FloatProgressModel",
      "_view_count": null,
      "_view_module": "@jupyter-widgets/controls",
      "_view_module_version": "1.5.0",
      "_view_name": "ProgressView",
      "bar_style": "success",
      "description": "dev: 100%",
      "description_tooltip": null,
      "layout": "IPY_MODEL_6721fdf6e60340378607c6c81ab6dc16",
      "max": 20,
      "min": 0,
      "orientation": "horizontal",
      "style": "IPY_MODEL_c54345b982ea4ee8b9e0b13dcc6b9a60",
      "value": 20
     }
    },
    "cee1d1ded3cf47208c215d314d909a61": {
     "model_module": "@jupyter-widgets/controls",
     "model_name": "DescriptionStyleModel",
     "state": {
      "_model_module": "@jupyter-widgets/controls",
      "_model_module_version": "1.5.0",
      "_model_name": "DescriptionStyleModel",
      "_view_count": null,
      "_view_module": "@jupyter-widgets/base",
      "_view_module_version": "1.2.0",
      "_view_name": "StyleView",
      "description_width": ""
     }
    },
    "d04d20b858a449b6b9bf35ac7cdc4cc7": {
     "model_module": "@jupyter-widgets/controls",
     "model_name": "DescriptionStyleModel",
     "state": {
      "_model_module": "@jupyter-widgets/controls",
      "_model_module_version": "1.5.0",
      "_model_name": "DescriptionStyleModel",
      "_view_count": null,
      "_view_module": "@jupyter-widgets/base",
      "_view_module_version": "1.2.0",
      "_view_name": "StyleView",
      "description_width": ""
     }
    },
    "d33adea7e7b14ee3b3c43d67d71df70c": {
     "model_module": "@jupyter-widgets/controls",
     "model_name": "HBoxModel",
     "state": {
      "_dom_classes": [],
      "_model_module": "@jupyter-widgets/controls",
      "_model_module_version": "1.5.0",
      "_model_name": "HBoxModel",
      "_view_count": null,
      "_view_module": "@jupyter-widgets/controls",
      "_view_module_version": "1.5.0",
      "_view_name": "HBoxView",
      "box_style": "",
      "children": [
       "IPY_MODEL_84835e203f6a4e958803b9163717f9a0",
       "IPY_MODEL_822f4ae5cbfd4c8f95c8d05f1f924203"
      ],
      "layout": "IPY_MODEL_787883e0f2c146708e902f1bae4ebae3"
     }
    },
    "d3745d88b0564dd5b4ab3f4dc322204f": {
     "model_module": "@jupyter-widgets/controls",
     "model_name": "FloatProgressModel",
     "state": {
      "_dom_classes": [],
      "_model_module": "@jupyter-widgets/controls",
      "_model_module_version": "1.5.0",
      "_model_name": "FloatProgressModel",
      "_view_count": null,
      "_view_module": "@jupyter-widgets/controls",
      "_view_module_version": "1.5.0",
      "_view_name": "ProgressView",
      "bar_style": "success",
      "description": "dev: 100%",
      "description_tooltip": null,
      "layout": "IPY_MODEL_60eeabfd1f794b4880b6ad4892a7cfb4",
      "max": 20,
      "min": 0,
      "orientation": "horizontal",
      "style": "IPY_MODEL_760202591fd649b5b03cf0a3f6771197",
      "value": 20
     }
    },
    "d51ded5b26cf46f199917a0def247d99": {
     "model_module": "@jupyter-widgets/controls",
     "model_name": "HBoxModel",
     "state": {
      "_dom_classes": [],
      "_model_module": "@jupyter-widgets/controls",
      "_model_module_version": "1.5.0",
      "_model_name": "HBoxModel",
      "_view_count": null,
      "_view_module": "@jupyter-widgets/controls",
      "_view_module_version": "1.5.0",
      "_view_name": "HBoxView",
      "box_style": "",
      "children": [
       "IPY_MODEL_5d22c450a7654cd1b4da8dcaf34c60b2",
       "IPY_MODEL_2086f7fead4e42b890a215db596aafc7"
      ],
      "layout": "IPY_MODEL_7f438dee3c2e4d91b46ff2ce86463b82"
     }
    },
    "dadd16cf125141c893c2727d16bcea95": {
     "model_module": "@jupyter-widgets/controls",
     "model_name": "DescriptionStyleModel",
     "state": {
      "_model_module": "@jupyter-widgets/controls",
      "_model_module_version": "1.5.0",
      "_model_name": "DescriptionStyleModel",
      "_view_count": null,
      "_view_module": "@jupyter-widgets/base",
      "_view_module_version": "1.2.0",
      "_view_name": "StyleView",
      "description_width": ""
     }
    },
    "dd1e6e5bed724c60a8dd52aa70b453f5": {
     "model_module": "@jupyter-widgets/controls",
     "model_name": "HBoxModel",
     "state": {
      "_dom_classes": [],
      "_model_module": "@jupyter-widgets/controls",
      "_model_module_version": "1.5.0",
      "_model_name": "HBoxModel",
      "_view_count": null,
      "_view_module": "@jupyter-widgets/controls",
      "_view_module_version": "1.5.0",
      "_view_name": "HBoxView",
      "box_style": "",
      "children": [
       "IPY_MODEL_fd43063123fb4635a39cf5971bc53458",
       "IPY_MODEL_fdbc2f36ef0c4426994d9ef22e07dd5f"
      ],
      "layout": "IPY_MODEL_aabc748465d04f1095191ff9dfaf6d84"
     }
    },
    "de25370a490c4d8bb4c5c8dc28e3879a": {
     "model_module": "@jupyter-widgets/controls",
     "model_name": "DescriptionStyleModel",
     "state": {
      "_model_module": "@jupyter-widgets/controls",
      "_model_module_version": "1.5.0",
      "_model_name": "DescriptionStyleModel",
      "_view_count": null,
      "_view_module": "@jupyter-widgets/base",
      "_view_module_version": "1.2.0",
      "_view_name": "StyleView",
      "description_width": ""
     }
    },
    "de5d2aea93aa47f58349d239188be5ba": {
     "model_module": "@jupyter-widgets/controls",
     "model_name": "ProgressStyleModel",
     "state": {
      "_model_module": "@jupyter-widgets/controls",
      "_model_module_version": "1.5.0",
      "_model_name": "ProgressStyleModel",
      "_view_count": null,
      "_view_module": "@jupyter-widgets/base",
      "_view_module_version": "1.2.0",
      "_view_name": "StyleView",
      "bar_color": null,
      "description_width": "initial"
     }
    },
    "e04bd02bc1004f99ab137c4b97897fdc": {
     "model_module": "@jupyter-widgets/controls",
     "model_name": "DescriptionStyleModel",
     "state": {
      "_model_module": "@jupyter-widgets/controls",
      "_model_module_version": "1.5.0",
      "_model_name": "DescriptionStyleModel",
      "_view_count": null,
      "_view_module": "@jupyter-widgets/base",
      "_view_module_version": "1.2.0",
      "_view_name": "StyleView",
      "description_width": ""
     }
    },
    "e129c2883d474a2eb2979f5bf99b71e7": {
     "model_module": "@jupyter-widgets/base",
     "model_name": "LayoutModel",
     "state": {
      "_model_module": "@jupyter-widgets/base",
      "_model_module_version": "1.2.0",
      "_model_name": "LayoutModel",
      "_view_count": null,
      "_view_module": "@jupyter-widgets/base",
      "_view_module_version": "1.2.0",
      "_view_name": "LayoutView",
      "align_content": null,
      "align_items": null,
      "align_self": null,
      "border": null,
      "bottom": null,
      "display": null,
      "flex": null,
      "flex_flow": null,
      "grid_area": null,
      "grid_auto_columns": null,
      "grid_auto_flow": null,
      "grid_auto_rows": null,
      "grid_column": null,
      "grid_gap": null,
      "grid_row": null,
      "grid_template_areas": null,
      "grid_template_columns": null,
      "grid_template_rows": null,
      "height": null,
      "justify_content": null,
      "justify_items": null,
      "left": null,
      "margin": null,
      "max_height": null,
      "max_width": null,
      "min_height": null,
      "min_width": null,
      "object_fit": null,
      "object_position": null,
      "order": null,
      "overflow": null,
      "overflow_x": null,
      "overflow_y": null,
      "padding": null,
      "right": null,
      "top": null,
      "visibility": null,
      "width": null
     }
    },
    "e472e3a30f954972a651df37944a61c4": {
     "model_module": "@jupyter-widgets/base",
     "model_name": "LayoutModel",
     "state": {
      "_model_module": "@jupyter-widgets/base",
      "_model_module_version": "1.2.0",
      "_model_name": "LayoutModel",
      "_view_count": null,
      "_view_module": "@jupyter-widgets/base",
      "_view_module_version": "1.2.0",
      "_view_name": "LayoutView",
      "align_content": null,
      "align_items": null,
      "align_self": null,
      "border": null,
      "bottom": null,
      "display": null,
      "flex": null,
      "flex_flow": null,
      "grid_area": null,
      "grid_auto_columns": null,
      "grid_auto_flow": null,
      "grid_auto_rows": null,
      "grid_column": null,
      "grid_gap": null,
      "grid_row": null,
      "grid_template_areas": null,
      "grid_template_columns": null,
      "grid_template_rows": null,
      "height": null,
      "justify_content": null,
      "justify_items": null,
      "left": null,
      "margin": null,
      "max_height": null,
      "max_width": null,
      "min_height": null,
      "min_width": null,
      "object_fit": null,
      "object_position": null,
      "order": null,
      "overflow": null,
      "overflow_x": null,
      "overflow_y": null,
      "padding": null,
      "right": null,
      "top": null,
      "visibility": null,
      "width": null
     }
    },
    "e9694ecb6b864b4ab71a31a4f5c361eb": {
     "model_module": "@jupyter-widgets/controls",
     "model_name": "FloatProgressModel",
     "state": {
      "_dom_classes": [],
      "_model_module": "@jupyter-widgets/controls",
      "_model_module_version": "1.5.0",
      "_model_name": "FloatProgressModel",
      "_view_count": null,
      "_view_module": "@jupyter-widgets/controls",
      "_view_module_version": "1.5.0",
      "_view_name": "ProgressView",
      "bar_style": "success",
      "description": "dev: 100%",
      "description_tooltip": null,
      "layout": "IPY_MODEL_172e598ba44a44639de2228d38c8a134",
      "max": 20,
      "min": 0,
      "orientation": "horizontal",
      "style": "IPY_MODEL_9c429709362e4d499fb7781d9411f591",
      "value": 20
     }
    },
    "ebe384bc4fe04d32aa8c3f907a503312": {
     "model_module": "@jupyter-widgets/base",
     "model_name": "LayoutModel",
     "state": {
      "_model_module": "@jupyter-widgets/base",
      "_model_module_version": "1.2.0",
      "_model_name": "LayoutModel",
      "_view_count": null,
      "_view_module": "@jupyter-widgets/base",
      "_view_module_version": "1.2.0",
      "_view_name": "LayoutView",
      "align_content": null,
      "align_items": null,
      "align_self": null,
      "border": null,
      "bottom": null,
      "display": null,
      "flex": null,
      "flex_flow": null,
      "grid_area": null,
      "grid_auto_columns": null,
      "grid_auto_flow": null,
      "grid_auto_rows": null,
      "grid_column": null,
      "grid_gap": null,
      "grid_row": null,
      "grid_template_areas": null,
      "grid_template_columns": null,
      "grid_template_rows": null,
      "height": null,
      "justify_content": null,
      "justify_items": null,
      "left": null,
      "margin": null,
      "max_height": null,
      "max_width": null,
      "min_height": null,
      "min_width": null,
      "object_fit": null,
      "object_position": null,
      "order": null,
      "overflow": null,
      "overflow_x": null,
      "overflow_y": null,
      "padding": null,
      "right": null,
      "top": null,
      "visibility": null,
      "width": null
     }
    },
    "ebf2056f5a9745a0b787a7620036ed89": {
     "model_module": "@jupyter-widgets/base",
     "model_name": "LayoutModel",
     "state": {
      "_model_module": "@jupyter-widgets/base",
      "_model_module_version": "1.2.0",
      "_model_name": "LayoutModel",
      "_view_count": null,
      "_view_module": "@jupyter-widgets/base",
      "_view_module_version": "1.2.0",
      "_view_name": "LayoutView",
      "align_content": null,
      "align_items": null,
      "align_self": null,
      "border": null,
      "bottom": null,
      "display": null,
      "flex": null,
      "flex_flow": null,
      "grid_area": null,
      "grid_auto_columns": null,
      "grid_auto_flow": null,
      "grid_auto_rows": null,
      "grid_column": null,
      "grid_gap": null,
      "grid_row": null,
      "grid_template_areas": null,
      "grid_template_columns": null,
      "grid_template_rows": null,
      "height": null,
      "justify_content": null,
      "justify_items": null,
      "left": null,
      "margin": null,
      "max_height": null,
      "max_width": null,
      "min_height": null,
      "min_width": null,
      "object_fit": null,
      "object_position": null,
      "order": null,
      "overflow": null,
      "overflow_x": null,
      "overflow_y": null,
      "padding": null,
      "right": null,
      "top": null,
      "visibility": null,
      "width": null
     }
    },
    "ed776666ae6b457e89c6edc62cd3a076": {
     "model_module": "@jupyter-widgets/controls",
     "model_name": "HTMLModel",
     "state": {
      "_dom_classes": [],
      "_model_module": "@jupyter-widgets/controls",
      "_model_module_version": "1.5.0",
      "_model_name": "HTMLModel",
      "_view_count": null,
      "_view_module": "@jupyter-widgets/controls",
      "_view_module_version": "1.5.0",
      "_view_name": "HTMLView",
      "description": "",
      "description_tooltip": null,
      "layout": "IPY_MODEL_e472e3a30f954972a651df37944a61c4",
      "placeholder": "​",
      "style": "IPY_MODEL_d04d20b858a449b6b9bf35ac7cdc4cc7",
      "value": " 20/20 [00:59&lt;00:00,  2.98s/it]"
     }
    },
    "f66c05c5f7f7444b923547551cda330c": {
     "model_module": "@jupyter-widgets/controls",
     "model_name": "ProgressStyleModel",
     "state": {
      "_model_module": "@jupyter-widgets/controls",
      "_model_module_version": "1.5.0",
      "_model_name": "ProgressStyleModel",
      "_view_count": null,
      "_view_module": "@jupyter-widgets/base",
      "_view_module_version": "1.2.0",
      "_view_name": "StyleView",
      "bar_color": null,
      "description_width": "initial"
     }
    },
    "f9db18c57af34cbab51f29fbe5e64ff1": {
     "model_module": "@jupyter-widgets/controls",
     "model_name": "HBoxModel",
     "state": {
      "_dom_classes": [],
      "_model_module": "@jupyter-widgets/controls",
      "_model_module_version": "1.5.0",
      "_model_name": "HBoxModel",
      "_view_count": null,
      "_view_module": "@jupyter-widgets/controls",
      "_view_module_version": "1.5.0",
      "_view_name": "HBoxView",
      "box_style": "",
      "children": [
       "IPY_MODEL_af0a8ecc10c247a18b845975bed5843e",
       "IPY_MODEL_629224b1ce0e4630901fb7d47d5d2b47"
      ],
      "layout": "IPY_MODEL_ebf2056f5a9745a0b787a7620036ed89"
     }
    },
    "fb1e374ed82d45dcb3885bcb36b128ac": {
     "model_module": "@jupyter-widgets/controls",
     "model_name": "HTMLModel",
     "state": {
      "_dom_classes": [],
      "_model_module": "@jupyter-widgets/controls",
      "_model_module_version": "1.5.0",
      "_model_name": "HTMLModel",
      "_view_count": null,
      "_view_module": "@jupyter-widgets/controls",
      "_view_module_version": "1.5.0",
      "_view_name": "HTMLView",
      "description": "",
      "description_tooltip": null,
      "layout": "IPY_MODEL_7943782fd4284bfd94afbec1e70a530b",
      "placeholder": "​",
      "style": "IPY_MODEL_de25370a490c4d8bb4c5c8dc28e3879a",
      "value": " 20/20 [00:12&lt;00:00,  1.65it/s]"
     }
    },
    "fd43063123fb4635a39cf5971bc53458": {
     "model_module": "@jupyter-widgets/controls",
     "model_name": "FloatProgressModel",
     "state": {
      "_dom_classes": [],
      "_model_module": "@jupyter-widgets/controls",
      "_model_module_version": "1.5.0",
      "_model_name": "FloatProgressModel",
      "_view_count": null,
      "_view_module": "@jupyter-widgets/controls",
      "_view_module_version": "1.5.0",
      "_view_name": "ProgressView",
      "bar_style": "success",
      "description": "dev: 100%",
      "description_tooltip": null,
      "layout": "IPY_MODEL_6984504e3a2c4e419445eff88e26ae0f",
      "max": 20,
      "min": 0,
      "orientation": "horizontal",
      "style": "IPY_MODEL_de5d2aea93aa47f58349d239188be5ba",
      "value": 20
     }
    },
    "fdbc2f36ef0c4426994d9ef22e07dd5f": {
     "model_module": "@jupyter-widgets/controls",
     "model_name": "HTMLModel",
     "state": {
      "_dom_classes": [],
      "_model_module": "@jupyter-widgets/controls",
      "_model_module_version": "1.5.0",
      "_model_name": "HTMLModel",
      "_view_count": null,
      "_view_module": "@jupyter-widgets/controls",
      "_view_module_version": "1.5.0",
      "_view_name": "HTMLView",
      "description": "",
      "description_tooltip": null,
      "layout": "IPY_MODEL_8124fd2189884f72a5be1fdf91aaa35f",
      "placeholder": "​",
      "style": "IPY_MODEL_dadd16cf125141c893c2727d16bcea95",
      "value": " 20/20 [00:05&lt;00:00,  3.56it/s]"
     }
    }
   }
  }
 },
 "nbformat": 4,
 "nbformat_minor": 5
}
