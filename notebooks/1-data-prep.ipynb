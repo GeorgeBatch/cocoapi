{
 "cells": [
  {
   "cell_type": "markdown",
   "metadata": {},
   "source": [
    "# Getting the Labels Ready"
   ]
  },
  {
   "cell_type": "markdown",
   "metadata": {},
   "source": [
    "To look for:\n",
    "\n",
    "* **CHOOSE requires action** \n",
    "\n",
    "* CONSTRUCT\n",
    "* CHECK\n",
    "* SAVE"
   ]
  },
  {
   "cell_type": "markdown",
   "metadata": {},
   "source": [
    "## Imports"
   ]
  },
  {
   "cell_type": "code",
   "execution_count": 1,
   "metadata": {},
   "outputs": [],
   "source": [
    "%matplotlib inline\n",
    "from pycocotools.coco import COCO\n",
    "\n",
    "import json\n",
    "import numpy as np\n",
    "import pandas as pd\n",
    "import skimage.io as io\n",
    "import matplotlib.pyplot as plt\n",
    "import pylab\n",
    "pylab.rcParams['figure.figsize'] = (8.0, 10.0)"
   ]
  },
  {
   "cell_type": "code",
   "execution_count": 2,
   "metadata": {},
   "outputs": [],
   "source": [
    "# https://stackoverflow.com/questions/18035595/powersets-in-python-using-itertools\n",
    "from itertools import chain, combinations\n",
    "\n",
    "def powerset(iterable):\n",
    "    \"powerset([1,2,3]) --> () (1,) (2,) (3,) (1,2) (1,3) (2,3) (1,2,3)\"\n",
    "    s = list(iterable)\n",
    "    return chain.from_iterable(combinations(s, r) for r in range(len(s)+1))"
   ]
  },
  {
   "cell_type": "code",
   "execution_count": 3,
   "metadata": {},
   "outputs": [],
   "source": [
    "def reverse_one_to_many_dict(one_to_many_dict):\n",
    "    one_to_one_dict = {}\n",
    "    \n",
    "    for key, arr in one_to_many_dict.items():\n",
    "        for a in arr:\n",
    "            assert a not in one_to_one_dict, \"Trying to replace existing key: {}\".format(a)\n",
    "            one_to_one_dict[a] = key\n",
    "            \n",
    "    return one_to_one_dict\n",
    "\n",
    "\n",
    "# sample_dict_good = {\n",
    "#     'a': [1, 2, 3],\n",
    "#     'b': [4, 5, 6]\n",
    "# }\n",
    "# print(reverse_one_to_many_dict(sample_dict_good)) # all good\n",
    "\n",
    "# sample_dict_bad = {\n",
    "#     'a': [1, 2, 3],\n",
    "#     'b': [3, 5, 6]\n",
    "# }\n",
    "# print(reverse_one_to_many_dict(sample_dict_bad)) # supposed to fail with 3"
   ]
  },
  {
   "cell_type": "markdown",
   "metadata": {},
   "source": [
    "## CHOOSE: Images and Annotations Directories"
   ]
  },
  {
   "cell_type": "code",
   "execution_count": 4,
   "metadata": {},
   "outputs": [],
   "source": [
    "dataDir='..'\n",
    "dataType='val2017'\n",
    "annFile='{}/annotations/instances_{}.json'.format(dataDir, dataType)"
   ]
  },
  {
   "cell_type": "code",
   "execution_count": 5,
   "metadata": {},
   "outputs": [
    {
     "name": "stdout",
     "output_type": "stream",
     "text": [
      "loading annotations into memory...\n",
      "Done (t=0.27s)\n",
      "creating index...\n",
      "index created!\n"
     ]
    }
   ],
   "source": [
    "# initialize COCO api for instance annotations\n",
    "coco=COCO(annFile)"
   ]
  },
  {
   "cell_type": "markdown",
   "metadata": {},
   "source": [
    "**Note**, `cat` and `cats` stand for **category** and **categories** NOT for cat that is like a dog, but a cat."
   ]
  },
  {
   "cell_type": "code",
   "execution_count": 6,
   "metadata": {
    "scrolled": true
   },
   "outputs": [
    {
     "name": "stdout",
     "output_type": "stream",
     "text": [
      "COCO categories: \n",
      "\n",
      "person bicycle car motorcycle airplane bus train truck boat traffic light fire hydrant stop sign parking meter bench bird cat dog horse sheep cow elephant bear zebra giraffe backpack umbrella handbag tie suitcase frisbee skis snowboard sports ball kite baseball bat baseball glove skateboard surfboard tennis racket bottle wine glass cup fork knife spoon bowl banana apple sandwich orange broccoli carrot hot dog pizza donut cake chair couch potted plant bed dining table toilet tv laptop mouse remote keyboard cell phone microwave oven toaster sink refrigerator book clock vase scissors teddy bear hair drier toothbrush\n",
      "\n",
      "COCO supercategories: \n",
      "\tvehicle food outdoor animal indoor person accessory furniture electronic appliance kitchen sports\n"
     ]
    }
   ],
   "source": [
    "# display COCO categories and supercategories\n",
    "cats = coco.loadCats(coco.getCatIds())\n",
    "nms=[cat['name'] for cat in cats]\n",
    "print('COCO categories: \\n\\n{}\\n'.format(' '.join(nms)))\n",
    "\n",
    "nms = set([cat['supercategory'] for cat in cats])\n",
    "print('COCO supercategories: \\n\\t{}'.format(' '.join(nms)))"
   ]
  },
  {
   "cell_type": "markdown",
   "metadata": {},
   "source": [
    "## CHOOSE: categories of Interest (in `./utils/constants.py`)"
   ]
  },
  {
   "cell_type": "code",
   "execution_count": 7,
   "metadata": {},
   "outputs": [
    {
     "name": "stdout",
     "output_type": "stream",
     "text": [
      "/Users/gbatch/Google Drive/colab_projects/cocoapi/notebooks/utils\n",
      "['bird', 'cat', 'dog', 'person']\n",
      "/Users/gbatch/Google Drive/colab_projects/cocoapi/notebooks\n"
     ]
    }
   ],
   "source": [
    "%cd ./utils/\n",
    "from config import CATEGORIES_OF_INTEREST\n",
    "print(CATEGORIES_OF_INTEREST)\n",
    "%cd .."
   ]
  },
  {
   "cell_type": "markdown",
   "metadata": {},
   "source": [
    "## CONSTRUCT a mapping from the categories of interest to image IDs"
   ]
  },
  {
   "cell_type": "code",
   "execution_count": 8,
   "metadata": {},
   "outputs": [
    {
     "name": "stdout",
     "output_type": "stream",
     "text": [
      "CPU times: user 10.2 ms, sys: 148 µs, total: 10.4 ms\n",
      "Wall time: 10.4 ms\n"
     ]
    }
   ],
   "source": [
    "%%time\n",
    "\n",
    "catNms_to_imgIds = {}\n",
    "for include_cats_names in powerset(CATEGORIES_OF_INTEREST):\n",
    "    include_cats_names = tuple(sorted(include_cats_names)) # sort to have the same keys every time\n",
    "    \n",
    "    # include_cats_names should be a tuple (immutable) so that we can use it as a key to a dictionary\n",
    "    exclude_cats_names = set(CATEGORIES_OF_INTEREST) - set(include_cats_names)\n",
    "    exclude_cats_names = tuple(sorted(exclude_cats_names)) # sort to have the same keys every time\n",
    "    \n",
    "    catIds = coco.getCatIds(catNms=include_cats_names)\n",
    "    exclCatIDs = coco.getCatIds(catNms=exclude_cats_names)\n",
    "    \n",
    "    imgIds = coco.getImgIds(catIds=catIds, exclCatIds=exclCatIDs)\n",
    "\n",
    "    catNms_to_imgIds[include_cats_names] = imgIds\n",
    "\n",
    "# correct the Ids for the images which do not have any of the categories in the CATEGORIES_OF_INTEREST\n",
    "# correction needed because\n",
    "#    include_cats_names = () results in\n",
    "#    catIds = All Coco categories but the CATEGORIES_OF_INTEREST\n",
    "#    There are no images with all those categories present\n",
    "catNms_to_imgIds[()] = coco.getImgIds(exclCatIds=coco.getCatIds(CATEGORIES_OF_INTEREST))\n",
    "\n",
    "\n",
    "# correct the Ids for the images with all of the CATEGORIES_OF_INTEREST present\n",
    "# correction needed because\n",
    "#    exclude_cats_names = () results in\n",
    "#    exclCatIds = All Coco categories but the CATEGORIES_OF_INTEREST\n",
    "#    We exclude all the images with any of the exclusion categories present, which is likely to exclude all the images\n",
    "catNms_to_imgIds[tuple(sorted(CATEGORIES_OF_INTEREST))] = coco.getImgIds(catIds=coco.getCatIds(CATEGORIES_OF_INTEREST))"
   ]
  },
  {
   "cell_type": "markdown",
   "metadata": {},
   "source": [
    "## CHECK that the IDs in disjoint sets are a partition of the original set of images\n",
    "\n",
    "1. $\\cup s_i = S$, where $S$ - original set of IDs\n",
    "2. $ s_i \\cap s_j = \\emptyset, \\forall i \\neq j$ - indexes of different categories"
   ]
  },
  {
   "cell_type": "markdown",
   "metadata": {},
   "source": [
    "### CHECK that the sets created are disjoint\n",
    "\n",
    "2. $ s_i \\cap s_j = \\emptyset, \\forall i \\neq j$ - indexes of different categories"
   ]
  },
  {
   "cell_type": "code",
   "execution_count": 9,
   "metadata": {},
   "outputs": [
    {
     "name": "stdout",
     "output_type": "stream",
     "text": [
      "CPU times: user 3.47 ms, sys: 47 µs, total: 3.51 ms\n",
      "Wall time: 3.52 ms\n"
     ]
    }
   ],
   "source": [
    "%%time\n",
    "\n",
    "for key1 in catNms_to_imgIds:\n",
    "    for key2 in catNms_to_imgIds:\n",
    "        if key1 == key2:\n",
    "            pass\n",
    "        else:\n",
    "            s1 = set(catNms_to_imgIds[key1])\n",
    "            s2 = set(catNms_to_imgIds[key2])\n",
    "            inters = s1.intersection(s2)\n",
    "            \n",
    "            # # for debugging\n",
    "            # print(key1, len(s1))\n",
    "            # print(key2, len(s2))\n",
    "            # print('Intersection:', inters, '\\n')\n",
    "            \n",
    "            assert len(inters) == 0, \"The subsets have to be disjoint\""
   ]
  },
  {
   "cell_type": "markdown",
   "metadata": {},
   "source": [
    "### Calculate how many images are in each disjoint category"
   ]
  },
  {
   "cell_type": "code",
   "execution_count": 10,
   "metadata": {},
   "outputs": [
    {
     "data": {
      "text/plain": [
       "{(): 1965,\n",
       " ('bird',): 90,\n",
       " ('cat',): 147,\n",
       " ('dog',): 91,\n",
       " ('person',): 2565,\n",
       " ('bird', 'cat'): 4,\n",
       " ('bird', 'dog'): 0,\n",
       " ('bird', 'person'): 31,\n",
       " ('cat', 'dog'): 10,\n",
       " ('cat', 'person'): 21,\n",
       " ('dog', 'person'): 74,\n",
       " ('bird', 'cat', 'dog'): 0,\n",
       " ('bird', 'cat', 'person'): 0,\n",
       " ('bird', 'dog', 'person'): 0,\n",
       " ('cat', 'dog', 'person'): 2,\n",
       " ('bird', 'cat', 'dog', 'person'): 0}"
      ]
     },
     "execution_count": 10,
     "metadata": {},
     "output_type": "execute_result"
    }
   ],
   "source": [
    "catNms_to_ImgIdsNum = {key: len(value) for (key, value) in catNms_to_imgIds.items()}\n",
    "catNms_to_ImgIdsNum"
   ]
  },
  {
   "cell_type": "code",
   "execution_count": 11,
   "metadata": {},
   "outputs": [
    {
     "data": {
      "text/html": [
       "<div>\n",
       "<style scoped>\n",
       "    .dataframe tbody tr th:only-of-type {\n",
       "        vertical-align: middle;\n",
       "    }\n",
       "\n",
       "    .dataframe tbody tr th {\n",
       "        vertical-align: top;\n",
       "    }\n",
       "\n",
       "    .dataframe thead th {\n",
       "        text-align: right;\n",
       "    }\n",
       "</style>\n",
       "<table border=\"1\" class=\"dataframe\">\n",
       "  <thead>\n",
       "    <tr style=\"text-align: right;\">\n",
       "      <th></th>\n",
       "      <th>category</th>\n",
       "      <th>total</th>\n",
       "    </tr>\n",
       "  </thead>\n",
       "  <tbody>\n",
       "    <tr>\n",
       "      <th>0</th>\n",
       "      <td>()</td>\n",
       "      <td>1965</td>\n",
       "    </tr>\n",
       "    <tr>\n",
       "      <th>1</th>\n",
       "      <td>(bird,)</td>\n",
       "      <td>90</td>\n",
       "    </tr>\n",
       "    <tr>\n",
       "      <th>2</th>\n",
       "      <td>(cat,)</td>\n",
       "      <td>147</td>\n",
       "    </tr>\n",
       "    <tr>\n",
       "      <th>3</th>\n",
       "      <td>(dog,)</td>\n",
       "      <td>91</td>\n",
       "    </tr>\n",
       "    <tr>\n",
       "      <th>4</th>\n",
       "      <td>(person,)</td>\n",
       "      <td>2565</td>\n",
       "    </tr>\n",
       "    <tr>\n",
       "      <th>5</th>\n",
       "      <td>(bird, cat)</td>\n",
       "      <td>4</td>\n",
       "    </tr>\n",
       "    <tr>\n",
       "      <th>6</th>\n",
       "      <td>(bird, dog)</td>\n",
       "      <td>0</td>\n",
       "    </tr>\n",
       "    <tr>\n",
       "      <th>7</th>\n",
       "      <td>(bird, person)</td>\n",
       "      <td>31</td>\n",
       "    </tr>\n",
       "    <tr>\n",
       "      <th>8</th>\n",
       "      <td>(cat, dog)</td>\n",
       "      <td>10</td>\n",
       "    </tr>\n",
       "    <tr>\n",
       "      <th>9</th>\n",
       "      <td>(cat, person)</td>\n",
       "      <td>21</td>\n",
       "    </tr>\n",
       "    <tr>\n",
       "      <th>10</th>\n",
       "      <td>(dog, person)</td>\n",
       "      <td>74</td>\n",
       "    </tr>\n",
       "    <tr>\n",
       "      <th>11</th>\n",
       "      <td>(bird, cat, dog)</td>\n",
       "      <td>0</td>\n",
       "    </tr>\n",
       "    <tr>\n",
       "      <th>12</th>\n",
       "      <td>(bird, cat, person)</td>\n",
       "      <td>0</td>\n",
       "    </tr>\n",
       "    <tr>\n",
       "      <th>13</th>\n",
       "      <td>(bird, dog, person)</td>\n",
       "      <td>0</td>\n",
       "    </tr>\n",
       "    <tr>\n",
       "      <th>14</th>\n",
       "      <td>(cat, dog, person)</td>\n",
       "      <td>2</td>\n",
       "    </tr>\n",
       "    <tr>\n",
       "      <th>15</th>\n",
       "      <td>(bird, cat, dog, person)</td>\n",
       "      <td>0</td>\n",
       "    </tr>\n",
       "  </tbody>\n",
       "</table>\n",
       "</div>"
      ],
      "text/plain": [
       "                    category  total\n",
       "0                         ()   1965\n",
       "1                    (bird,)     90\n",
       "2                     (cat,)    147\n",
       "3                     (dog,)     91\n",
       "4                  (person,)   2565\n",
       "5                (bird, cat)      4\n",
       "6                (bird, dog)      0\n",
       "7             (bird, person)     31\n",
       "8                 (cat, dog)     10\n",
       "9              (cat, person)     21\n",
       "10             (dog, person)     74\n",
       "11          (bird, cat, dog)      0\n",
       "12       (bird, cat, person)      0\n",
       "13       (bird, dog, person)      0\n",
       "14        (cat, dog, person)      2\n",
       "15  (bird, cat, dog, person)      0"
      ]
     },
     "execution_count": 11,
     "metadata": {},
     "output_type": "execute_result"
    }
   ],
   "source": [
    "summary = {\n",
    "    'category': [],\n",
    "    'total': []\n",
    "}\n",
    "for key in catNms_to_ImgIdsNum:\n",
    "    summary['category'].append(key)\n",
    "    summary['total'].append(catNms_to_ImgIdsNum[key])\n",
    "    \n",
    "summary_df = pd.DataFrame(summary)\n",
    "\n",
    "\n",
    "assert summary_df['total'].sum() == len(set(coco.getImgIds())), \"Some images were missed\"\n",
    "summary_df"
   ]
  },
  {
   "cell_type": "markdown",
   "metadata": {},
   "source": [
    "### CHECK that the union adds up to the original set\n",
    "\n",
    "1. $\\cup s_i = S$, where $S$ - original set of IDs"
   ]
  },
  {
   "cell_type": "code",
   "execution_count": 12,
   "metadata": {},
   "outputs": [
    {
     "name": "stdout",
     "output_type": "stream",
     "text": [
      "IDs missed: set()\n"
     ]
    }
   ],
   "source": [
    "all_ids = set(coco.getImgIds())\n",
    "len(all_ids)\n",
    "\n",
    "my_all_ids = set().union(*[catNms_to_imgIds[key] for key in catNms_to_imgIds])\n",
    "len(my_all_ids)\n",
    "\n",
    "\n",
    "# all ids we have now should be at least the subset of the original ones, uncomment the next line to see it work\n",
    "# my_all_ids.add(1) \n",
    "assert my_all_ids.issubset(all_ids), \"Got some new ids that were not present in Coco\"\n",
    "\n",
    "\n",
    "# all ids from the original set have to be contained in the union of the disjoint sets of ids\n",
    "assert all_ids.issubset(my_all_ids), \"We are missing some of the images from the original set\"\n",
    "\n",
    "\n",
    "# which pictures have we missed?\n",
    "print(\"IDs missed:\", all_ids - my_all_ids)\n",
    "for sample_id in list(all_ids - my_all_ids):\n",
    "    print(sample_id)\n",
    "    \n",
    "    sample_img_info = coco.loadImgs(sample_id)[0]\n",
    "\n",
    "    print('Fields available:', list(sample_img_info.keys()), '\\n')\n",
    "    for key, value in sample_img_info.items():\n",
    "        print(key, (13-len(key))*' ', ':', value)\n",
    "        \n",
    "    print('\\n', '-'*80, '\\n')\n",
    "\n"
   ]
  },
  {
   "cell_type": "markdown",
   "metadata": {},
   "source": [
    "### SAVE: `catNms_to_imgIds` in a json file"
   ]
  },
  {
   "cell_type": "code",
   "execution_count": null,
   "metadata": {},
   "outputs": [],
   "source": []
  },
  {
   "cell_type": "code",
   "execution_count": 13,
   "metadata": {},
   "outputs": [
    {
     "data": {
      "text/plain": [
       "{'': 1965,\n",
       " 'bird': 90,\n",
       " 'cat': 147,\n",
       " 'dog': 91,\n",
       " 'person': 2565,\n",
       " 'bird cat': 4,\n",
       " 'bird dog': 0,\n",
       " 'bird person': 31,\n",
       " 'cat dog': 10,\n",
       " 'cat person': 21,\n",
       " 'dog person': 74,\n",
       " 'bird cat dog': 0,\n",
       " 'bird cat person': 0,\n",
       " 'bird dog person': 0,\n",
       " 'cat dog person': 2,\n",
       " 'bird cat dog person': 0}"
      ]
     },
     "execution_count": 13,
     "metadata": {},
     "output_type": "execute_result"
    }
   ],
   "source": [
    "# can't save .json files with tuples as keys, but can with strings as keys\n",
    "strCatNms_to_imgIds = {' '.join(key):value for (key, value) in catNms_to_imgIds.items()}\n",
    "\n",
    "strCatNms_to_ImgIdsNum = {key: len(value) for (key, value) in strCatNms_to_imgIds.items()}\n",
    "strCatNms_to_ImgIdsNum"
   ]
  },
  {
   "cell_type": "code",
   "execution_count": 14,
   "metadata": {},
   "outputs": [],
   "source": [
    "with open(f'../my_annotations/strCatNms_to_imgIds_{dataType}.json', 'w') as f:\n",
    "    json.dump(strCatNms_to_imgIds, f, sort_keys=True)"
   ]
  },
  {
   "cell_type": "code",
   "execution_count": 15,
   "metadata": {},
   "outputs": [],
   "source": [
    "with open(f'../my_annotations/strCatNms_to_imgIds_{dataType}.json', 'r') as f:\n",
    "    strCatNms_to_imgIds = json.load(f)"
   ]
  },
  {
   "cell_type": "code",
   "execution_count": 16,
   "metadata": {},
   "outputs": [
    {
     "data": {
      "text/plain": [
       "{'': 1965,\n",
       " 'bird': 90,\n",
       " 'bird cat': 4,\n",
       " 'bird cat dog': 0,\n",
       " 'bird cat dog person': 0,\n",
       " 'bird cat person': 0,\n",
       " 'bird dog': 0,\n",
       " 'bird dog person': 0,\n",
       " 'bird person': 31,\n",
       " 'cat': 147,\n",
       " 'cat dog': 10,\n",
       " 'cat dog person': 2,\n",
       " 'cat person': 21,\n",
       " 'dog': 91,\n",
       " 'dog person': 74,\n",
       " 'person': 2565}"
      ]
     },
     "execution_count": 16,
     "metadata": {},
     "output_type": "execute_result"
    }
   ],
   "source": [
    "strCatNms_to_ImgIdsNum = {key: len(value) for (key, value) in strCatNms_to_imgIds.items()}\n",
    "strCatNms_to_ImgIdsNum"
   ]
  },
  {
   "cell_type": "markdown",
   "metadata": {},
   "source": [
    "## CONSTRUCT a mapping from Categories to Labels\n",
    "\n",
    "`catNms_to_labels`"
   ]
  },
  {
   "cell_type": "code",
   "execution_count": 17,
   "metadata": {},
   "outputs": [
    {
     "data": {
      "text/plain": [
       "['bird', 'cat', 'dog', 'person']"
      ]
     },
     "execution_count": 17,
     "metadata": {},
     "output_type": "execute_result"
    }
   ],
   "source": [
    "CATEGORIES_OF_INTEREST"
   ]
  },
  {
   "cell_type": "code",
   "execution_count": 18,
   "metadata": {},
   "outputs": [
    {
     "data": {
      "text/plain": [
       "{(): [0, 0, 0, 0],\n",
       " ('bird',): [1, 0, 0, 0],\n",
       " ('cat',): [0, 1, 0, 0],\n",
       " ('dog',): [0, 0, 1, 0],\n",
       " ('person',): [0, 0, 0, 1],\n",
       " ('bird', 'cat'): [1, 1, 0, 0],\n",
       " ('bird', 'dog'): [1, 0, 1, 0],\n",
       " ('bird', 'person'): [1, 0, 0, 1],\n",
       " ('cat', 'dog'): [0, 1, 1, 0],\n",
       " ('cat', 'person'): [0, 1, 0, 1],\n",
       " ('dog', 'person'): [0, 0, 1, 1],\n",
       " ('bird', 'cat', 'dog'): [1, 1, 1, 0],\n",
       " ('bird', 'cat', 'person'): [1, 1, 0, 1],\n",
       " ('bird', 'dog', 'person'): [1, 0, 1, 1],\n",
       " ('cat', 'dog', 'person'): [0, 1, 1, 1],\n",
       " ('bird', 'cat', 'dog', 'person'): [1, 1, 1, 1]}"
      ]
     },
     "execution_count": 18,
     "metadata": {},
     "output_type": "execute_result"
    }
   ],
   "source": [
    "catNms_to_labels = {}\n",
    "\n",
    "for cat_name in catNms_to_imgIds:\n",
    "    multilabel = []\n",
    "    for c in CATEGORIES_OF_INTEREST:\n",
    "        multilabel.append(int(c in set(cat_name)))\n",
    "    \n",
    "    catNms_to_labels[cat_name] = multilabel\n",
    "\n",
    "catNms_to_labels"
   ]
  },
  {
   "cell_type": "markdown",
   "metadata": {},
   "source": [
    "## CONSTRUCT a mapping from Images to Disjoint Categories\n",
    "\n",
    "`imgIds_to_cats`"
   ]
  },
  {
   "cell_type": "code",
   "execution_count": 19,
   "metadata": {},
   "outputs": [],
   "source": [
    "imgIds_to_catNms = reverse_one_to_many_dict(catNms_to_imgIds)\n",
    "\n",
    "# for key in np.random.choice(list(imgIds_to_catNms.keys()), 1000):\n",
    "#     print(key, imgIds_to_catNms[key])"
   ]
  },
  {
   "cell_type": "markdown",
   "metadata": {},
   "source": [
    "## CONSTRUCT a mapping from Images to Multi-Labels\n",
    "\n",
    "`imgIds_to_labels`"
   ]
  },
  {
   "cell_type": "code",
   "execution_count": 20,
   "metadata": {},
   "outputs": [],
   "source": [
    "imgIds_to_labels = {}\n",
    "\n",
    "coco.getImgIds()\n",
    "for imgId in coco.getImgIds():\n",
    "    catNm = imgIds_to_catNms[imgId]\n",
    "    imgIds_to_labels[imgId] = catNms_to_labels[catNm]\n",
    "    \n",
    "# imgIds_to_labels"
   ]
  },
  {
   "cell_type": "code",
   "execution_count": 21,
   "metadata": {},
   "outputs": [
    {
     "data": {
      "text/plain": [
       "5000"
      ]
     },
     "execution_count": 21,
     "metadata": {},
     "output_type": "execute_result"
    }
   ],
   "source": [
    "len(imgIds_to_labels)"
   ]
  },
  {
   "cell_type": "markdown",
   "metadata": {},
   "source": [
    "### CHECK: that the numbers for generic categories are the same"
   ]
  },
  {
   "cell_type": "code",
   "execution_count": 22,
   "metadata": {},
   "outputs": [
    {
     "data": {
      "text/html": [
       "<div>\n",
       "<style scoped>\n",
       "    .dataframe tbody tr th:only-of-type {\n",
       "        vertical-align: middle;\n",
       "    }\n",
       "\n",
       "    .dataframe tbody tr th {\n",
       "        vertical-align: top;\n",
       "    }\n",
       "\n",
       "    .dataframe thead th {\n",
       "        text-align: right;\n",
       "    }\n",
       "</style>\n",
       "<table border=\"1\" class=\"dataframe\">\n",
       "  <thead>\n",
       "    <tr style=\"text-align: right;\">\n",
       "      <th></th>\n",
       "      <th>0</th>\n",
       "      <th>1</th>\n",
       "      <th>2</th>\n",
       "      <th>3</th>\n",
       "    </tr>\n",
       "  </thead>\n",
       "  <tbody>\n",
       "    <tr>\n",
       "      <th>397133</th>\n",
       "      <td>0</td>\n",
       "      <td>0</td>\n",
       "      <td>0</td>\n",
       "      <td>1</td>\n",
       "    </tr>\n",
       "    <tr>\n",
       "      <th>37777</th>\n",
       "      <td>0</td>\n",
       "      <td>0</td>\n",
       "      <td>0</td>\n",
       "      <td>0</td>\n",
       "    </tr>\n",
       "    <tr>\n",
       "      <th>252219</th>\n",
       "      <td>0</td>\n",
       "      <td>0</td>\n",
       "      <td>0</td>\n",
       "      <td>1</td>\n",
       "    </tr>\n",
       "    <tr>\n",
       "      <th>87038</th>\n",
       "      <td>0</td>\n",
       "      <td>0</td>\n",
       "      <td>0</td>\n",
       "      <td>1</td>\n",
       "    </tr>\n",
       "    <tr>\n",
       "      <th>174482</th>\n",
       "      <td>0</td>\n",
       "      <td>0</td>\n",
       "      <td>0</td>\n",
       "      <td>0</td>\n",
       "    </tr>\n",
       "    <tr>\n",
       "      <th>...</th>\n",
       "      <td>...</td>\n",
       "      <td>...</td>\n",
       "      <td>...</td>\n",
       "      <td>...</td>\n",
       "    </tr>\n",
       "    <tr>\n",
       "      <th>512403</th>\n",
       "      <td>0</td>\n",
       "      <td>0</td>\n",
       "      <td>0</td>\n",
       "      <td>0</td>\n",
       "    </tr>\n",
       "    <tr>\n",
       "      <th>168974</th>\n",
       "      <td>0</td>\n",
       "      <td>0</td>\n",
       "      <td>0</td>\n",
       "      <td>1</td>\n",
       "    </tr>\n",
       "    <tr>\n",
       "      <th>552775</th>\n",
       "      <td>0</td>\n",
       "      <td>0</td>\n",
       "      <td>0</td>\n",
       "      <td>1</td>\n",
       "    </tr>\n",
       "    <tr>\n",
       "      <th>394940</th>\n",
       "      <td>0</td>\n",
       "      <td>0</td>\n",
       "      <td>0</td>\n",
       "      <td>1</td>\n",
       "    </tr>\n",
       "    <tr>\n",
       "      <th>15335</th>\n",
       "      <td>0</td>\n",
       "      <td>0</td>\n",
       "      <td>0</td>\n",
       "      <td>1</td>\n",
       "    </tr>\n",
       "  </tbody>\n",
       "</table>\n",
       "<p>5000 rows × 4 columns</p>\n",
       "</div>"
      ],
      "text/plain": [
       "        0  1  2  3\n",
       "397133  0  0  0  1\n",
       "37777   0  0  0  0\n",
       "252219  0  0  0  1\n",
       "87038   0  0  0  1\n",
       "174482  0  0  0  0\n",
       "...    .. .. .. ..\n",
       "512403  0  0  0  0\n",
       "168974  0  0  0  1\n",
       "552775  0  0  0  1\n",
       "394940  0  0  0  1\n",
       "15335   0  0  0  1\n",
       "\n",
       "[5000 rows x 4 columns]"
      ]
     },
     "execution_count": 22,
     "metadata": {},
     "output_type": "execute_result"
    }
   ],
   "source": [
    "imgIds_to_labels_df = pd.DataFrame(imgIds_to_labels).T\n",
    "imgIds_to_labels_df"
   ]
  },
  {
   "cell_type": "code",
   "execution_count": 23,
   "metadata": {},
   "outputs": [
    {
     "name": "stdout",
     "output_type": "stream",
     "text": [
      "0 bird\n",
      "1 cat\n",
      "2 dog\n",
      "3 person\n"
     ]
    }
   ],
   "source": [
    "for i, name in enumerate(CATEGORIES_OF_INTEREST):\n",
    "    print(i, name)"
   ]
  },
  {
   "cell_type": "code",
   "execution_count": 24,
   "metadata": {},
   "outputs": [
    {
     "data": {
      "text/plain": [
       "0     125\n",
       "1     184\n",
       "2     177\n",
       "3    2693\n",
       "dtype: int64"
      ]
     },
     "execution_count": 24,
     "metadata": {},
     "output_type": "execute_result"
    }
   ],
   "source": [
    "imgIds_to_labels_df.sum(axis=0)"
   ]
  },
  {
   "cell_type": "code",
   "execution_count": 25,
   "metadata": {},
   "outputs": [
    {
     "name": "stdout",
     "output_type": "stream",
     "text": [
      "0 125\n",
      "1 184\n",
      "2 177\n",
      "3 2693\n"
     ]
    }
   ],
   "source": [
    "for i, catNm in enumerate(sorted(CATEGORIES_OF_INTEREST)):\n",
    "    catId = coco.getCatIds(catNms=[catNm])\n",
    "    imgIds = coco.getImgIds(catIds=catId)\n",
    "    print(i, len(imgIds))\n",
    "    \n",
    "    assert len(imgIds) == imgIds_to_labels_df.sum(axis=0)[i], \\\n",
    "        \"Numbers for primary category ({}: '{}') do not match\".format(i, CATEGORIES_OF_INTEREST[i])"
   ]
  },
  {
   "cell_type": "markdown",
   "metadata": {},
   "source": [
    "### SAVE: `imgIds_to_labels` in a json file\n",
    "\n",
    "**Important:** this labels can only be used if the images are resized without cropping. If any cropping is done, some parts of the image will be cropped out and some of the objects can no longer be present in the cropped images."
   ]
  },
  {
   "cell_type": "code",
   "execution_count": 26,
   "metadata": {},
   "outputs": [],
   "source": [
    "import json\n",
    "\n",
    "with open(f'../my_annotations/imgIds_to_labels_{dataType}.json', 'w') as f:\n",
    "    json.dump(imgIds_to_labels, f, sort_keys=True)"
   ]
  },
  {
   "cell_type": "code",
   "execution_count": 27,
   "metadata": {},
   "outputs": [],
   "source": [
    "with open(f'../my_annotations/imgIds_to_labels_{dataType}.json', 'r') as f:\n",
    "    imgIds_to_labels = json.load(f)"
   ]
  },
  {
   "cell_type": "markdown",
   "metadata": {},
   "source": [
    "## EXTRACT: the segmentation annotation labels (to be used with cropping)"
   ]
  },
  {
   "cell_type": "code",
   "execution_count": 28,
   "metadata": {},
   "outputs": [],
   "source": [
    "CATEGORIES_OF_INTEREST, coco.getCatIds(catNms=CATEGORIES_OF_INTEREST)\n",
    "catIDs = coco.getCatIds(catNms=CATEGORIES_OF_INTEREST)"
   ]
  },
  {
   "cell_type": "code",
   "execution_count": 29,
   "metadata": {},
   "outputs": [
    {
     "data": {
      "text/plain": [
       "('bird', 'dog')"
      ]
     },
     "execution_count": 29,
     "metadata": {},
     "output_type": "execute_result"
    }
   ],
   "source": [
    "disjoint_cat = np.random.choice(np.array(list(catNms_to_imgIds.keys()), dtype=object))\n",
    "disjoint_cat"
   ]
  },
  {
   "cell_type": "code",
   "execution_count": 30,
   "metadata": {},
   "outputs": [
    {
     "ename": "ValueError",
     "evalue": "'a' cannot be empty unless no samples are taken",
     "output_type": "error",
     "traceback": [
      "\u001b[0;31m---------------------------------------------------------------------------\u001b[0m",
      "\u001b[0;31mValueError\u001b[0m                                Traceback (most recent call last)",
      "\u001b[0;32m<ipython-input-30-5319a91c2aab>\u001b[0m in \u001b[0;36m<module>\u001b[0;34m\u001b[0m\n\u001b[0;32m----> 1\u001b[0;31m \u001b[0msample_img_id\u001b[0m \u001b[0;34m=\u001b[0m \u001b[0mnp\u001b[0m\u001b[0;34m.\u001b[0m\u001b[0mrandom\u001b[0m\u001b[0;34m.\u001b[0m\u001b[0mchoice\u001b[0m\u001b[0;34m(\u001b[0m\u001b[0mcatNms_to_imgIds\u001b[0m\u001b[0;34m[\u001b[0m\u001b[0mdisjoint_cat\u001b[0m\u001b[0;34m]\u001b[0m\u001b[0;34m)\u001b[0m\u001b[0;34m\u001b[0m\u001b[0;34m\u001b[0m\u001b[0m\n\u001b[0m\u001b[1;32m      2\u001b[0m \u001b[0mprint\u001b[0m\u001b[0;34m(\u001b[0m\u001b[0msample_img_id\u001b[0m\u001b[0;34m,\u001b[0m \u001b[0mtype\u001b[0m\u001b[0;34m(\u001b[0m\u001b[0msample_img_id\u001b[0m\u001b[0;34m)\u001b[0m\u001b[0;34m)\u001b[0m \u001b[0;31m# does not work when calling coco.loadImgs(sample_img_id)[0]\u001b[0m\u001b[0;34m\u001b[0m\u001b[0;34m\u001b[0m\u001b[0m\n\u001b[1;32m      3\u001b[0m \u001b[0;34m\u001b[0m\u001b[0m\n\u001b[1;32m      4\u001b[0m \u001b[0msample_img_id\u001b[0m \u001b[0;34m=\u001b[0m \u001b[0mint\u001b[0m\u001b[0;34m(\u001b[0m\u001b[0msample_img_id\u001b[0m\u001b[0;34m)\u001b[0m\u001b[0;34m\u001b[0m\u001b[0;34m\u001b[0m\u001b[0m\n\u001b[1;32m      5\u001b[0m \u001b[0mprint\u001b[0m\u001b[0;34m(\u001b[0m\u001b[0msample_img_id\u001b[0m\u001b[0;34m,\u001b[0m \u001b[0mtype\u001b[0m\u001b[0;34m(\u001b[0m\u001b[0msample_img_id\u001b[0m\u001b[0;34m)\u001b[0m\u001b[0;34m)\u001b[0m\u001b[0;34m\u001b[0m\u001b[0;34m\u001b[0m\u001b[0m\n",
      "\u001b[0;32mmtrand.pyx\u001b[0m in \u001b[0;36mnumpy.random.mtrand.RandomState.choice\u001b[0;34m()\u001b[0m\n",
      "\u001b[0;31mValueError\u001b[0m: 'a' cannot be empty unless no samples are taken"
     ]
    }
   ],
   "source": [
    "sample_img_id = np.random.choice(catNms_to_imgIds[disjoint_cat])\n",
    "print(sample_img_id, type(sample_img_id)) # does not work when calling coco.loadImgs(sample_img_id)[0]\n",
    "\n",
    "sample_img_id = int(sample_img_id)\n",
    "print(sample_img_id, type(sample_img_id))"
   ]
  },
  {
   "cell_type": "code",
   "execution_count": null,
   "metadata": {},
   "outputs": [],
   "source": [
    "sample_img_info = coco.loadImgs(sample_img_id)[0]\n",
    "sample_img = io.imread(sample_img_info['coco_url'])\n",
    "\n",
    "plt.axis('off')\n",
    "plt.imshow(sample_img)\n",
    "plt.show()\n",
    "\n",
    "type(sample_img), sample_img.shape"
   ]
  },
  {
   "cell_type": "code",
   "execution_count": null,
   "metadata": {},
   "outputs": [],
   "source": [
    "# load and display instance annotations for SELECTED categories\n",
    "plt.imshow(sample_img); plt.axis('off')\n",
    "annIds = coco.getAnnIds(imgIds=sample_img_info['id'], catIds=catIds, iscrowd=None)\n",
    "anns = coco.loadAnns(annIds)\n",
    "coco.showAnns(anns, draw_bbox=True)\n",
    "print(len(anns), 'objects of selected categories found on this image.')"
   ]
  },
  {
   "cell_type": "code",
   "execution_count": null,
   "metadata": {},
   "outputs": [],
   "source": [
    "for ann in anns:\n",
    "    for key in ann:\n",
    "        print(key, '\\n\\t', ann[key])\n",
    "        print()\n",
    "    print('-'*115)"
   ]
  },
  {
   "cell_type": "code",
   "execution_count": null,
   "metadata": {},
   "outputs": [],
   "source": [
    "# load and display instance annotations for ALL categories\n",
    "plt.imshow(sample_img); plt.axis('off')\n",
    "annIds = coco.getAnnIds(imgIds=sample_img_info['id'], iscrowd=None)\n",
    "anns = coco.loadAnns(annIds)\n",
    "coco.showAnns(anns, draw_bbox=True)\n",
    "print(len(anns), 'objects of selected categories found on this image.')"
   ]
  },
  {
   "cell_type": "code",
   "execution_count": null,
   "metadata": {},
   "outputs": [],
   "source": []
  }
 ],
 "metadata": {
  "kernelspec": {
   "display_name": "Python [conda env:standard-dl] *",
   "language": "python",
   "name": "conda-env-standard-dl-py"
  },
  "language_info": {
   "codemirror_mode": {
    "name": "ipython",
    "version": 3
   },
   "file_extension": ".py",
   "mimetype": "text/x-python",
   "name": "python",
   "nbconvert_exporter": "python",
   "pygments_lexer": "ipython3",
   "version": "3.9.4"
  }
 },
 "nbformat": 4,
 "nbformat_minor": 1
}
